{
 "cells": [
  {
   "cell_type": "markdown",
   "metadata": {},
   "source": [
    "___\n",
    "# <font color=#EEAA11> HW #5: Visualization, IDA and EDA </font>\n",
    "\n",
    "____\n",
    "\n",
    "![missing](https://jenslaufer.com/figure/source/2019-02-05-visualize_missing_values_with_ggplot/unnamed-chunk-13-1.png)\n",
    "\n",
    "## <font color=#00BBFF> Problem #1 IDA (10 pts) </font>\n",
    "\n",
    "In this problem you are going to explore IDA: Initial Data Analysis, which is can be defined many ways, but we will assume it contains these steps:\n",
    "* Data collection and importation\n",
    "* Data cleaning and preprocessing\n",
    "* Variable identification and classification\n",
    "* Basic descriptive statistics\n",
    "* Data quality assessment\n",
    "* Missing data analysis\n",
    "* Outlier detection\n",
    "\n",
    "🤓 Follow these steps:\n",
    "* import the planets dataset, which is in Seaborn\n",
    "    - in this case, the data has been collected for us and you simply need to import it into a Pandas dataframe\n",
    "* based on your initial assessment of this dataset, how should it be cleaned and processed? discuss your observations in a markdown cell and write the code to complete this task\n",
    "* what types of variables are there? ordinal? categorical? cardinal? add this to your discussion in the markdown cell\n",
    "* find the statistics of the different features of the data; what simple methods are in Pandas are there for this? are there variables for which this doesn't make sense? do any of them need to be encoded? \n",
    "* based on what you see so far, what is the quality of this data? basic IDA for this might include using `.describe` and `.info` \n",
    "* did you note any missing data? make a heat map of this dataset that shows missing values (I have given an example code for this in the past, but feel free to write your own); \n",
    "* for each feature/column for which it makes sense, scale the column using the z-score and print the number of outliers for that column (that is, how many rows in the column have values $<-3$ or $>3$ after scaling?)\n",
    "\n",
    "\n",
    "\n",
    "These IDA steps have already revealed important properties of this dataset. You will want to follow these steps for your project and document what you found. A nice feature of a web app is to have a tab, perhaps called \"Dataset(s)\", that describes the dataset(s) used for the app. \n",
    "____\n",
    "\n",
    "Next, let's examine EDA, which follows the IDA steps. Let's summarize IDA in a table and compare to EDA:"
   ]
  },
  {
   "cell_type": "markdown",
   "metadata": {},
   "source": [
    "| Phase | Step | Key Activities |\n",
    "|-------|------|----------------|\n",
    "| IDA | 1. Data collection and importation | - Gather data from various sources<br>- Import data into analysis environment (e.g., Python, R) |\n",
    "| IDA | 2. Data cleaning and preprocessing | - Handle missing values<br>- Remove duplicates<br>- Correct data types<br>- Standardize formats |\n",
    "| IDA | 3. Variable identification and classification | - Identify dependent and independent variables<br>- Classify variables (numeric, categorical, etc.)<br>- Understand the meaning of each variable |\n",
    "| IDA | 4. Basic descriptive statistics | - Calculate mean, median, mode<br>- Determine range, variance, standard deviation<br>- Identify minimum and maximum values |\n",
    "| IDA | 5. Data quality assessment | - Check for inconsistencies<br>- Verify data accuracy<br>- Assess data completeness |\n",
    "| IDA | 6. Missing data analysis | - Quantify missing data<br>- Identify patterns in missing data<br>- Decide on imputation strategy if necessary |\n",
    "| IDA | 7. Outlier detection | - Identify potential outliers<br>- Assess impact of outliers<br>- Decide on treatment of outliers |\n",
    "| EDA | 1. Univariate analysis | - Create histograms, box plots for numeric variables<br>- Generate bar charts for categorical variables<br>- Calculate summary statistics |\n",
    "| EDA | 2. Bivariate analysis | - Create scatter plots<br>- Perform cross-tabulations<br>- Calculate correlations between pairs of variables |\n",
    "| EDA | 3. Multivariate analysis | - Use dimensionality reduction techniques (e.g., PCA)<br>- Create pair plots or correlation matrices<br>- Explore interactions between multiple variables |\n",
    "| EDA | 4. Correlation analysis | - Calculate correlation coefficients<br>- Create correlation heatmaps<br>- Identify strongly correlated variables |\n",
    "| EDA | 5. Dimensionality assessment | - Evaluate number of features vs. observations<br>- Consider feature selection or extraction methods<br>- Assess impact of high dimensionality on analysis |\n",
    "| EDA | 6. Pattern and trend identification | - Look for temporal trends in time series data<br>- Identify seasonal patterns<br>- Detect clusters or groupings in the data |\n",
    "| EDA | 7. Hypothesis generation | - Formulate potential relationships between variables<br>- Develop questions for further investigation<br>- Identify areas for more detailed statistical analysis |\n",
    "\n",
    "Note: The boundary between IDA and EDA can be fluid, and some activities may overlap or be performed iteratively throughout the analysis process."
   ]
  },
  {
   "cell_type": "code",
   "execution_count": 4,
   "metadata": {},
   "outputs": [],
   "source": [
    "import matplotlib.pyplot as plt\n",
    "import seaborn as sns\n",
    "import pandas as pd\n",
    "from scipy.stats import zscore\n",
    "import numpy as np"
   ]
  },
  {
   "cell_type": "markdown",
   "metadata": {},
   "source": [
    "* based on your initial assessment of this dataset, how should it be cleaned and processed? discuss your observations in a markdown cell and write the code to complete this task\n",
    "    - **There are several quantitative variables that have very different units (mass, orbital_period, distance), they should be z-scaled.** \n",
    "* what types of variables are there? ordinal? categorical? cardinal? add this to your discussion in the markdown cell\n",
    "    - **Several numeric. \"method\": nominal, \"number\": unknown ?? I went to the seaborn docs on github and followed the link  to NASA website but it still remains a little elusive what exactly \"number\" means. think it is some sort of cardinal count**\n",
    "* find the statistics of the different features of the data; what simple methods are in Pandas are there for this? are there variables for which this doesn't make sense? do any of them need to be encoded? \n",
    "    - **.describe and .info. It might be a good idea to encode the \"method\" column depending on your purposes but I don't think it is necessary for IDA and EDA.**\n",
    "* based on what you see so far, what is the quality of this data? basic IDA for this might include using `.describe` and `.info` \n",
    "    - **There is a significant amount of missing data for some variables. \"year\" and \"number\" have no missing values. \"mass\" is missing for almost half of the samples.**\n",
    "* did you note any missing data? make a heat map of this dataset that shows missing values (I have given an example code for this in the past, but feel free to write your own); \n",
    "    - **Yes, missing data for \"period\", \"mass\", and \"distance\".** \n",
    "* for each feature/column for which it makes sense, scale the column using the z-score and print the number of outliers for that column (that is, how many rows in the column have values $<-3$ or $>3$ after scaling?)\n",
    "    - **orbital_period outlier count: 6\n",
    "mass outlier count: 14\n",
    "distance outlier count: 8**"
   ]
  },
  {
   "cell_type": "code",
   "execution_count": 2,
   "metadata": {},
   "outputs": [
    {
     "name": "stdout",
     "output_type": "stream",
     "text": [
      "<class 'pandas.core.frame.DataFrame'>\n",
      "RangeIndex: 1035 entries, 0 to 1034\n",
      "Data columns (total 6 columns):\n",
      " #   Column          Non-Null Count  Dtype  \n",
      "---  ------          --------------  -----  \n",
      " 0   method          1035 non-null   object \n",
      " 1   number          1035 non-null   int64  \n",
      " 2   orbital_period  992 non-null    float64\n",
      " 3   mass            513 non-null    float64\n",
      " 4   distance        808 non-null    float64\n",
      " 5   year            1035 non-null   int64  \n",
      "dtypes: float64(3), int64(2), object(1)\n",
      "memory usage: 48.6+ KB\n",
      "None\n",
      "            number  orbital_period        mass     distance         year\n",
      "count  1035.000000      992.000000  513.000000   808.000000  1035.000000\n",
      "mean      1.785507     2002.917596    2.638161   264.069282  2009.070531\n",
      "std       1.240976    26014.728304    3.818617   733.116493     3.972567\n",
      "min       1.000000        0.090706    0.003600     1.350000  1989.000000\n",
      "25%       1.000000        5.442540    0.229000    32.560000  2007.000000\n",
      "50%       1.000000       39.979500    1.260000    55.250000  2010.000000\n",
      "75%       2.000000      526.005000    3.040000   178.500000  2012.000000\n",
      "max       7.000000   730000.000000   25.000000  8500.000000  2014.000000\n"
     ]
    }
   ],
   "source": [
    "df_planets = sns.load_dataset('planets')\n",
    "print(df_planets.info())\n",
    "print(df_planets.describe())"
   ]
  },
  {
   "cell_type": "code",
   "execution_count": 13,
   "metadata": {},
   "outputs": [
    {
     "name": "stdout",
     "output_type": "stream",
     "text": [
      "orbital_period outlier count: 6\n",
      "mass outlier count: 14\n",
      "distance outlier count: 8\n"
     ]
    },
    {
     "data": {
      "image/png": "[encoded data removed]",
      "text/plain": [
       "<Figure size 1200x600 with 1 Axes>"
      ]
     },
     "metadata": {},
     "output_type": "display_data"
    }
   ],
   "source": [
    "# create heatmaps of missing\n",
    "# create a boolean mask: True for NaN, False for finite values\n",
    "nan_mask = df_planets.isna()\n",
    "# convert boolean mask to integer (False becomes 0, True becomes 1)\n",
    "nan_array = nan_mask.astype(int).to_numpy()\n",
    "# size the plot\n",
    "plt.figure(figsize=(12, 6))\n",
    "# imshow with interpolation set to 'nearest' and aspect to 'auto'\n",
    "im = plt.imshow(nan_array.T, interpolation='nearest', aspect='auto', cmap='viridis')\n",
    "plt.xlabel('Planet Index')\n",
    "plt.ylabel('Features')\n",
    "plt.title('Missing values in planets dataset')\n",
    "# y-axis tick labels to feature names\n",
    "plt.yticks(range(len(df_planets.columns)), df_planets.columns)\n",
    "# x-axis ticks\n",
    "num_planets = nan_array.shape[0]\n",
    "plt.xticks(np.linspace(0, num_planets-1, min(10, num_planets)).astype(int))\n",
    "\n",
    "plt.grid(True, axis='y', linestyle='--', alpha=0.7)\n",
    "\n",
    "# to scale factors with sklearn zscore need to handle missing values first or it will propigate\n",
    "df_planets_sub = df_planets.dropna()\n",
    "\n",
    "# scale numeric variables\n",
    "numeric_cols = df_planets_sub.select_dtypes(include=[np.float64]).columns\n",
    "df_planets_scale = df_planets_sub[numeric_cols].apply(zscore)\n",
    "# add other cols back\n",
    "df_planets_scale[['year', 'method', 'number']] = df_planets[['year', 'method', 'number']]\n",
    "\n",
    "# count the number of outliers, |z| > 3\n",
    "for c in numeric_cols:\n",
    "    count = df_planets_scale[df_planets_scale[c].abs() > 3].shape[0]\n",
    "    print(\"{} outlier count: {}\".format(c, count))"
   ]
  },
  {
   "cell_type": "markdown",
   "metadata": {},
   "source": [
    "____\n",
    "\n",
    "## <font color=#00BBFF> Problem #2 EDA (10 pts) </font>\n",
    "\n",
    "In this problem you are going to explore EDA: Exploratory Data Analysis, which - _like IDA_ - is can be defined many ways, but we will assume it contains these steps:\n",
    "* Univariate analysis\n",
    "* Bivariate analysis\n",
    "* Multivariate analysis\n",
    "* Correlation analysis\n",
    "* Dimensionality assessment\n",
    "* Pattern and trend identification\n",
    "* Hypothesis generation\n",
    "\n",
    "Note that IDA did not involve much in the way of visualization; EDA relies heavily on visualization. An important aspect of EDA is that is, as in the name, exploratory. The goals of EDA might be:\n",
    "* you have a unique dataset and you want to explore whether it contains anything that would be useful or surprising.\n",
    "* you have a very specific goal in mind already and you want to explore whether this dataset can help you achieve your goal. \n",
    "\n",
    "Because this is EDA, with an emphasis on the E, I want you to explore this dataset with little guidance. Use your curiosity, intuition and creativity. \n",
    "\n",
    "🤓 Follow these steps:\n",
    "* only use the Plotly library for this problem, with as many plot types as you can; interactive plots are preferred\n",
    "* make about one plot per category above - if you are not familiar with a concept, skip that item (e.g., you don't know what PCA is, you have no idea how to do clustering, there are temporal trends, or whatever); shoot for about 5 plots\n",
    "* but, complete 7: the EDA must lead to something to do next!! use a markdown cell for this\n",
    " "
   ]
  },
  {
   "cell_type": "code",
   "execution_count": 16,
   "metadata": {},
   "outputs": [
    {
     "data": {
      "application/vnd.plotly.v1+json": {
       "config": {
        "plotlyServerURL": "https://plot.ly"
       },
       "data": [
        {
         "alignmentgroup": "True",
         "bingroup": "x",
         "hovertemplate": "mass=%{x}<br>count=%{y}<extra></extra>",
         "legendgroup": "",
         "marker": {
          "color": "#636efa",
          "pattern": {
           "shape": ""
          }
         },
         "name": "",
         "offsetgroup": "",
         "orientation": "v",
         "showlegend": false,
         "type": "histogram",
         "x": [
          1.263737447225493,
          -0.08239780310655312,
          0.024962676981278815,
          4.649721819226345,
          2.1997006069655662,
          0.6305858979895612,
          0.5865405728253225,
          2.1446439505102677,
          -0.14296012520738136,
          -0.4540302341798174,
          2.0290249719541413,
          0.3773252782951886,
          0.005692847221924293,
          -0.5421208845082949,
          -0.2393092740041536,
          -0.5608401477030963,
          -0.4705472311164069,
          -0.6453521153619793,
          0.2809761294984163,
          -0.6434251323860439,
          -0.6863693244211767,
          -0.6750827098478406,
          -0.6709534606136931,
          0.7682275391278073,
          0.19013264634717408,
          -0.19526394883991485,
          -0.6897828371214052,
          -0.26408476940903786,
          1.401379088363739,
          1.7262133614499995,
          -0.18149978472609024,
          0.08001933343657715,
          -0.22279227706756408,
          -0.4044792433700488,
          0.3828309439407184,
          4.980061757958136,
          -0.5014890720442846,
          -0.14543767474786976,
          0.44669666542886455,
          -0.39924886100679546,
          0.7131708826725088,
          -0.6783861092351584,
          -0.5999303737863582,
          -0.6833412083161352,
          -0.6439756989505969,
          -0.28610743199115724,
          -0.38520941361069433,
          0.38558377676348343,
          -0.6811389420579232,
          -0.6841670581629647,
          -0.6690264776377577,
          -0.4650415654708771,
          -0.16938732030592463,
          -0.2503206052952132,
          -0.05762230770166887,
          -0.6858187578566237,
          -0.6772849761060524,
          -0.6860940411389003,
          -0.6847176247275177,
          -0.6891221572439417,
          -0.6004809403509112,
          -0.6858187578566237,
          -0.6874704575502827,
          -0.6863693244211767,
          -0.6885715906793887,
          -0.6885715906793887,
          -0.6869198909857297,
          -0.6811389420579232,
          0.6718783903310351,
          -0.6869198909857297,
          -0.6808636587756468,
          -0.5145925562806456,
          -0.4402660700659927,
          -0.06433921978921528,
          -0.49416653673572997,
          -0.6849929080097943,
          -0.678110825952882,
          0.2369308043341777,
          -0.6847176247275177,
          3.493532033665079,
          0.24518930280247242,
          0.24518930280247242,
          -0.34666975409198547,
          0.7682275391278073,
          -0.6841670581629647,
          -0.6856535878872577,
          0.16260431811952483,
          0.9884541649490008,
          0.6581142262172106,
          -0.5586378814448844,
          -0.2503206052952132,
          -0.6277339852962839,
          -0.2613319365862729,
          -0.4705472311164069,
          -0.6796248840054026,
          -0.12093746262526205,
          -0.05762230770166887,
          -0.038352477942314354,
          -0.038352477942314354,
          -0.15672428932120597,
          -0.15121862367567612,
          1.401379088363739,
          -0.5586378814448844,
          -0.2365564411813887,
          -0.6109417050774179,
          -0.38520941361069433,
          -0.14020729238461643,
          -0.6827906417515823,
          -0.5173453891034105,
          -0.19526394883991485,
          3.218248751388587,
          -0.4980755593440561,
          -0.189758283194385,
          -0.6794872423642644,
          -0.6803130922110939,
          -0.6687511943554811,
          -0.6704028940491402,
          -0.6723298770250755,
          -0.6343407840709196,
          -0.43200757159769804,
          1.0187353259994152,
          0.2562006340935321,
          -0.4650415654708771,
          1.1095788091506575,
          -0.5195476553616225,
          -0.6690815342942129,
          -0.05762230770166887,
          -0.16222995496673584,
          3.1631920949332883,
          -0.6818271502636145,
          -0.6808636587756468,
          -0.45265381776843494,
          0.7214293811408037,
          -0.17324128625779553,
          -0.6192002035457127,
          -0.6716141404911568,
          0.5204725850789645,
          3.245777079616236,
          0.05249100520892804,
          -0.3136357602188064,
          -0.6803681488675491,
          -0.6791569024255326,
          -0.396220744901754,
          -0.6884339490382503,
          -0.688695468156413,
          -0.6866170793752255,
          -0.6803406205393215,
          -0.6771198061366865,
          -0.16773562061226568,
          -0.14296012520738136,
          -0.6819097352482975,
          -0.6729575229086661,
          -0.2778489335228625,
          0.027715509804043678,
          3.0668429461365156,
          1.4316602494141533,
          0.41311210499113254,
          -0.4292547387749331,
          -0.33841125562369073,
          -0.2916130976366871,
          -0.5200982219261755,
          -0.3714452494968698,
          0.84805969098799,
          -0.22279227706756408,
          1.8335738415378315,
          -0.312809910371977,
          -0.19526394883991485,
          -0.5531322157993546,
          -0.680781073790964,
          -0.6770647494802313,
          -0.6764866545874506,
          -0.3329055899781609,
          -0.5999303737863582,
          0.1460873211829353,
          -0.47330006393917184,
          1.814304011778477,
          -0.5228510547489404,
          -0.5027553751427565,
          -0.5189970887970695,
          2.158408114624092,
          -0.05762230770166887,
          0.23582967120507173,
          -0.6875530425349656,
          -0.6856260595590302,
          -0.6863142677647214,
          -0.45981118310762376,
          2.992516459921863,
          2.2547572634208644,
          -0.6643191335108297,
          -0.6873052875809168,
          -0.6850479646662495,
          -0.6825428867975334,
          -0.6877457408325591,
          -0.686259211108266,
          -0.6846350397428348,
          0.41311210499113254,
          0.008445680044689277,
          4.366180038481559,
          -0.6800378089288174,
          -0.6833412083161352,
          -0.5256038875717053,
          6.191308199974701,
          -0.0053184840691352766,
          -0.5311095532172352,
          -0.6797625256465408,
          -0.6392408264954413,
          -0.5096649855278964,
          -0.19801678166267977,
          -0.5613907142676493,
          -0.622228319650754,
          -0.6710443040968443,
          -0.5942567853386397,
          0.6856425544448598,
          1.236209118997844,
          -0.3714452494968698,
          -0.6591162794758039,
          -0.22003944424479915,
          0.6581142262172106,
          -0.6794046573795814,
          -0.6752203514889787,
          -0.37970374796516454,
          0.7544633750139828,
          0.17768984198827653,
          1.3637753920047702,
          -0.5861662096725336,
          0.10754766166422638,
          -0.5145925562806456,
          -0.3439169212692206,
          -0.6439756989505969,
          0.9609258367213518,
          0.08552499908210699,
          -0.16773562061226568,
          -0.6816895086224763,
          -0.6803130922110939,
          -0.674807426565564,
          -0.14020729238461643,
          0.1763684822333494,
          0.15159298682846514,
          -0.17599411908056037,
          -0.07138647181549343,
          -0.07138647181549343,
          -0.3741980823196347,
          -0.19526394883991485,
          1.5280093982109255,
          -0.5817616771561097,
          -0.5751548783814739,
          0.000187181576394447,
          -0.6365430503291316,
          -0.3218942586871012,
          1.197669459479135,
          0.05249100520892804,
          -0.3329055899781609,
          -0.5806605440270037,
          -0.6544364636771036,
          -0.6876548973494079,
          -0.2778489335228625,
          -0.4375132372432279,
          1.236209118997844,
          -0.2007696144854447,
          -0.6302115348367723,
          -0.2007696144854447,
          1.6326170454759923,
          -0.6750827098478406,
          0.37181961264965874,
          -0.5889190424952985,
          -0.6835339066137288,
          -0.6820198485612081,
          -0.3604339182058101,
          -0.4430189028887577,
          -0.5035812249895859,
          0.41035927216836765,
          -0.6829558117209482,
          -0.6797625256465408,
          -0.6836164915984119,
          -0.19526394883991485,
          1.1811524625425454,
          -0.5525816492348016,
          -0.6668242113795457,
          -0.5916718753180634,
          -0.3053772617505117,
          -0.22279227706756408,
          -0.3714452494968698,
          -0.608188872254653,
          -0.6434251323860439,
          -0.5668963799131791,
          0.9333975084937026,
          0.024962676981278815,
          -0.677009692823776,
          0.9333975084937026,
          -0.4265019059521682,
          -0.6637960952745043,
          -0.589744892342128,
          -0.639571166434173,
          1.5940773859572837,
          1.2141864564157245,
          2.337342248103812,
          1.954698485739488,
          -0.6329643676595372,
          -0.618924920263436,
          0.024962676981278815,
          -0.3356584228009258,
          -0.4182434074838734,
          -0.4788057295847017,
          -0.67590855969467,
          -0.6698523274845871,
          -0.6136945379001827,
          2.3621177435086964,
          1.1811524625425454,
          0.08827783190487198,
          -0.6164473707229476,
          -0.4953227265212912,
          -0.3494225869147504,
          -0.5586378814448844,
          2.524534880051827,
          -0.3879622464334593,
          -0.4292547387749331,
          -0.11267896415696721,
          -0.17324128625779553,
          -0.641773432692385,
          -0.10442046568867251,
          0.5480009133066137,
          -0.35492825256028027,
          0.330527120308185,
          0.1350759898918756,
          -0.674807426565564,
          1.2912657754531423,
          -0.6794872423642644,
          -0.5861662096725336,
          -0.6291104017076663,
          -0.2916130976366871,
          0.20114397763823377,
          -0.2503206052952132,
          -0.4044792433700488,
          -0.08515063592931799,
          4.3056177163807305,
          0.85356535663352,
          -0.2806017663456274,
          -0.6811114137296957,
          -0.6492886662985332,
          -0.25307343811797817,
          -0.4650415654708771,
          -0.682735585095127,
          -0.6802580355546386,
          -0.657464579782145,
          -0.14020729238461643,
          -0.6862041544518108,
          -0.6809187154321021,
          -0.6825153584693059,
          -0.6293856849899429,
          1.995990978080962,
          1.9794739811443722,
          0.7131708826725088,
          -0.16773562061226568,
          -0.2448149396496834,
          0.16810998376505468,
          0.10754766166422638,
          0.8948578489749937,
          -0.10717329851143736,
          1.1150844747961872,
          -0.35768108538304516,
          -0.4567830670025823,
          -0.4265019059521682,
          -0.3246470915098661,
          3.5761170183480266,
          -0.6445262655151498,
          0.1350759898918756,
          -0.2778489335228625,
          0.06074950367722275,
          -0.6854608895896643,
          -0.43008058862176257,
          0.6911482200903895,
          -0.0741393046382583,
          0.01945701133574897,
          -0.4567830670025823,
          -0.4650415654708771,
          1.9822268139671375,
          -0.48431139523023153,
          -0.6871951742680061,
          2.218970436724921,
          -0.6577398630644214,
          -0.19526394883991485,
          -0.37970374796516454,
          -0.16773562061226568,
          -0.11267896415696721,
          -0.4898170608757614,
          -0.19140998288804395,
          3.273305407843885,
          -0.4788057295847017,
          -0.06037514052443374,
          -0.5586378814448844,
          0.05249100520892804,
          -0.5916718753180634,
          0.2809761294984163,
          -0.22279227706756408,
          1.5169980669198657,
          4.291853552266907,
          -0.6274587020140074,
          0.10204199601869654,
          0.42137060345942734,
          -0.5063340578123509,
          0.024962676981278815,
          0.05249100520892804,
          1.4564357448190375,
          -0.5228510547489404,
          -0.2806017663456274,
          -0.6494813645961268,
          1.2444676174661387,
          -0.6687511943554811,
          -0.4292547387749331,
          -0.2503206052952132,
          0.21766097457482317,
          -0.6842221148194201,
          -0.5145925562806456,
          -0.5421208845082949,
          -0.5889190424952985,
          0.32502145466265514,
          0.36080828135859905,
          -0.43200757159769804,
          -0.48431139523023153,
          -0.5476265501538247,
          -0.14296012520738136,
          -0.3439169212692206,
          -0.6820749052176633,
          0.9416560069619972,
          -0.2772983669583095,
          -0.6750827098478406,
          -0.16773562061226568,
          0.16260431811952483,
          -0.4925698936985263,
          -0.6761342919861367,
          -0.6699844634600799,
          -0.002565651246370415,
          0.3277742874854201,
          0.1350759898918756,
          1.2086807907701946,
          0.01945701133574897,
          -0.47330006393917184,
          -0.18149978472609024,
          -0.44439531930014015,
          4.099155254673361,
          -0.019082648182959953,
          0.42412343628219223,
          -0.67590855969467,
          -0.22829794271309392,
          -0.6175485038520536,
          -0.3136357602188064,
          -0.08515063592931799,
          -0.5668963799131791,
          2.034530637599671,
          -0.3521754197375153,
          -0.5668963799131791,
          -0.05762230770166887,
          0.5480009133066137,
          -0.6883788923817951,
          -0.6881036090995186,
          -0.6629702454276749,
          -0.6230541694975835,
          -0.6860940411389003,
          -0.5999303737863582,
          -0.3439169212692206,
          -0.11267896415696721,
          -0.5118397234578808,
          -0.3081300945732766,
          0.024962676981278815,
          2.8879088126567964,
          -0.6329643676595372,
          2.169419445915152,
          -0.674256860001011,
          2.364870576331461,
          -0.39897357772451897,
          -0.2916130976366871,
          0.15985148529675985,
          -0.16773562061226568,
          1.4426715807052128,
          -0.4953227265212912,
          -0.3934679120789891,
          0.7682275391278073,
          0.008445680044689277,
          -0.6834788499572735,
          -0.4815585624074666,
          -0.2998715961049819,
          -0.5613907142676493,
          -0.34666975409198547,
          0.3773252782951886,
          -0.33841125562369073,
          -0.5338623860400001,
          -0.6087394388192059,
          -0.6808636587756468,
          -0.5779077112042388,
          -0.5456995671778893,
          1.8363266743605964,
          1.786775683550828,
          1.7372246927410595,
          -0.11267896415696721,
          -0.396771311466307,
          -0.15672428932120597,
          -0.28610743199115724,
          -0.43008058862176257
         ],
         "xaxis": "x",
         "yaxis": "y"
        }
       ],
       "layout": {
        "barmode": "relative",
        "legend": {
         "tracegroupgap": 0
        },
        "margin": {
         "t": 60
        },
        "template": {
         "data": {
          "bar": [
           {
            "error_x": {
             "color": "#2a3f5f"
            },
            "error_y": {
             "color": "#2a3f5f"
            },
            "marker": {
             "line": {
              "color": "#E5ECF6",
              "width": 0.5
             },
             "pattern": {
              "fillmode": "overlay",
              "size": 10,
              "solidity": 0.2
             }
            },
            "type": "bar"
           }
          ],
          "barpolar": [
           {
            "marker": {
             "line": {
              "color": "#E5ECF6",
              "width": 0.5
             },
             "pattern": {
              "fillmode": "overlay",
              "size": 10,
              "solidity": 0.2
             }
            },
            "type": "barpolar"
           }
          ],
          "carpet": [
           {
            "aaxis": {
             "endlinecolor": "#2a3f5f",
             "gridcolor": "white",
             "linecolor": "white",
             "minorgridcolor": "white",
             "startlinecolor": "#2a3f5f"
            },
            "baxis": {
             "endlinecolor": "#2a3f5f",
             "gridcolor": "white",
             "linecolor": "white",
             "minorgridcolor": "white",
             "startlinecolor": "#2a3f5f"
            },
            "type": "carpet"
           }
          ],
          "choropleth": [
           {
            "colorbar": {
             "outlinewidth": 0,
             "ticks": ""
            },
            "type": "choropleth"
           }
          ],
          "contour": [
           {
            "colorbar": {
             "outlinewidth": 0,
             "ticks": ""
            },
            "colorscale": [
             [
              0,
              "#0d0887"
             ],
             [
              0.1111111111111111,
              "#46039f"
             ],
             [
              0.2222222222222222,
              "#7201a8"
             ],
             [
              0.3333333333333333,
              "#9c179e"
             ],
             [
              0.4444444444444444,
              "#bd3786"
             ],
             [
              0.5555555555555556,
              "#d8576b"
             ],
             [
              0.6666666666666666,
              "#ed7953"
             ],
             [
              0.7777777777777778,
              "#fb9f3a"
             ],
             [
              0.8888888888888888,
              "#fdca26"
             ],
             [
              1,
              "#f0f921"
             ]
            ],
            "type": "contour"
           }
          ],
          "contourcarpet": [
           {
            "colorbar": {
             "outlinewidth": 0,
             "ticks": ""
            },
            "type": "contourcarpet"
           }
          ],
          "heatmap": [
           {
            "colorbar": {
             "outlinewidth": 0,
             "ticks": ""
            },
            "colorscale": [
             [
              0,
              "#0d0887"
             ],
             [
              0.1111111111111111,
              "#46039f"
             ],
             [
              0.2222222222222222,
              "#7201a8"
             ],
             [
              0.3333333333333333,
              "#9c179e"
             ],
             [
              0.4444444444444444,
              "#bd3786"
             ],
             [
              0.5555555555555556,
              "#d8576b"
             ],
             [
              0.6666666666666666,
              "#ed7953"
             ],
             [
              0.7777777777777778,
              "#fb9f3a"
             ],
             [
              0.8888888888888888,
              "#fdca26"
             ],
             [
              1,
              "#f0f921"
             ]
            ],
            "type": "heatmap"
           }
          ],
          "heatmapgl": [
           {
            "colorbar": {
             "outlinewidth": 0,
             "ticks": ""
            },
            "colorscale": [
             [
              0,
              "#0d0887"
             ],
             [
              0.1111111111111111,
              "#46039f"
             ],
             [
              0.2222222222222222,
              "#7201a8"
             ],
             [
              0.3333333333333333,
              "#9c179e"
             ],
             [
              0.4444444444444444,
              "#bd3786"
             ],
             [
              0.5555555555555556,
              "#d8576b"
             ],
             [
              0.6666666666666666,
              "#ed7953"
             ],
             [
              0.7777777777777778,
              "#fb9f3a"
             ],
             [
              0.8888888888888888,
              "#fdca26"
             ],
             [
              1,
              "#f0f921"
             ]
            ],
            "type": "heatmapgl"
           }
          ],
          "histogram": [
           {
            "marker": {
             "pattern": {
              "fillmode": "overlay",
              "size": 10,
              "solidity": 0.2
             }
            },
            "type": "histogram"
           }
          ],
          "histogram2d": [
           {
            "colorbar": {
             "outlinewidth": 0,
             "ticks": ""
            },
            "colorscale": [
             [
              0,
              "#0d0887"
             ],
             [
              0.1111111111111111,
              "#46039f"
             ],
             [
              0.2222222222222222,
              "#7201a8"
             ],
             [
              0.3333333333333333,
              "#9c179e"
             ],
             [
              0.4444444444444444,
              "#bd3786"
             ],
             [
              0.5555555555555556,
              "#d8576b"
             ],
             [
              0.6666666666666666,
              "#ed7953"
             ],
             [
              0.7777777777777778,
              "#fb9f3a"
             ],
             [
              0.8888888888888888,
              "#fdca26"
             ],
             [
              1,
              "#f0f921"
             ]
            ],
            "type": "histogram2d"
           }
          ],
          "histogram2dcontour": [
           {
            "colorbar": {
             "outlinewidth": 0,
             "ticks": ""
            },
            "colorscale": [
             [
              0,
              "#0d0887"
             ],
             [
              0.1111111111111111,
              "#46039f"
             ],
             [
              0.2222222222222222,
              "#7201a8"
             ],
             [
              0.3333333333333333,
              "#9c179e"
             ],
             [
              0.4444444444444444,
              "#bd3786"
             ],
             [
              0.5555555555555556,
              "#d8576b"
             ],
             [
              0.6666666666666666,
              "#ed7953"
             ],
             [
              0.7777777777777778,
              "#fb9f3a"
             ],
             [
              0.8888888888888888,
              "#fdca26"
             ],
             [
              1,
              "#f0f921"
             ]
            ],
            "type": "histogram2dcontour"
           }
          ],
          "mesh3d": [
           {
            "colorbar": {
             "outlinewidth": 0,
             "ticks": ""
            },
            "type": "mesh3d"
           }
          ],
          "parcoords": [
           {
            "line": {
             "colorbar": {
              "outlinewidth": 0,
              "ticks": ""
             }
            },
            "type": "parcoords"
           }
          ],
          "pie": [
           {
            "automargin": true,
            "type": "pie"
           }
          ],
          "scatter": [
           {
            "fillpattern": {
             "fillmode": "overlay",
             "size": 10,
             "solidity": 0.2
            },
            "type": "scatter"
           }
          ],
          "scatter3d": [
           {
            "line": {
             "colorbar": {
              "outlinewidth": 0,
              "ticks": ""
             }
            },
            "marker": {
             "colorbar": {
              "outlinewidth": 0,
              "ticks": ""
             }
            },
            "type": "scatter3d"
           }
          ],
          "scattercarpet": [
           {
            "marker": {
             "colorbar": {
              "outlinewidth": 0,
              "ticks": ""
             }
            },
            "type": "scattercarpet"
           }
          ],
          "scattergeo": [
           {
            "marker": {
             "colorbar": {
              "outlinewidth": 0,
              "ticks": ""
             }
            },
            "type": "scattergeo"
           }
          ],
          "scattergl": [
           {
            "marker": {
             "colorbar": {
              "outlinewidth": 0,
              "ticks": ""
             }
            },
            "type": "scattergl"
           }
          ],
          "scattermapbox": [
           {
            "marker": {
             "colorbar": {
              "outlinewidth": 0,
              "ticks": ""
             }
            },
            "type": "scattermapbox"
           }
          ],
          "scatterpolar": [
           {
            "marker": {
             "colorbar": {
              "outlinewidth": 0,
              "ticks": ""
             }
            },
            "type": "scatterpolar"
           }
          ],
          "scatterpolargl": [
           {
            "marker": {
             "colorbar": {
              "outlinewidth": 0,
              "ticks": ""
             }
            },
            "type": "scatterpolargl"
           }
          ],
          "scatterternary": [
           {
            "marker": {
             "colorbar": {
              "outlinewidth": 0,
              "ticks": ""
             }
            },
            "type": "scatterternary"
           }
          ],
          "surface": [
           {
            "colorbar": {
             "outlinewidth": 0,
             "ticks": ""
            },
            "colorscale": [
             [
              0,
              "#0d0887"
             ],
             [
              0.1111111111111111,
              "#46039f"
             ],
             [
              0.2222222222222222,
              "#7201a8"
             ],
             [
              0.3333333333333333,
              "#9c179e"
             ],
             [
              0.4444444444444444,
              "#bd3786"
             ],
             [
              0.5555555555555556,
              "#d8576b"
             ],
             [
              0.6666666666666666,
              "#ed7953"
             ],
             [
              0.7777777777777778,
              "#fb9f3a"
             ],
             [
              0.8888888888888888,
              "#fdca26"
             ],
             [
              1,
              "#f0f921"
             ]
            ],
            "type": "surface"
           }
          ],
          "table": [
           {
            "cells": {
             "fill": {
              "color": "#EBF0F8"
             },
             "line": {
              "color": "white"
             }
            },
            "header": {
             "fill": {
              "color": "#C8D4E3"
             },
             "line": {
              "color": "white"
             }
            },
            "type": "table"
           }
          ]
         },
         "layout": {
          "annotationdefaults": {
           "arrowcolor": "#2a3f5f",
           "arrowhead": 0,
           "arrowwidth": 1
          },
          "autotypenumbers": "strict",
          "coloraxis": {
           "colorbar": {
            "outlinewidth": 0,
            "ticks": ""
           }
          },
          "colorscale": {
           "diverging": [
            [
             0,
             "#8e0152"
            ],
            [
             0.1,
             "#c51b7d"
            ],
            [
             0.2,
             "#de77ae"
            ],
            [
             0.3,
             "#f1b6da"
            ],
            [
             0.4,
             "#fde0ef"
            ],
            [
             0.5,
             "#f7f7f7"
            ],
            [
             0.6,
             "#e6f5d0"
            ],
            [
             0.7,
             "#b8e186"
            ],
            [
             0.8,
             "#7fbc41"
            ],
            [
             0.9,
             "#4d9221"
            ],
            [
             1,
             "#276419"
            ]
           ],
           "sequential": [
            [
             0,
             "#0d0887"
            ],
            [
             0.1111111111111111,
             "#46039f"
            ],
            [
             0.2222222222222222,
             "#7201a8"
            ],
            [
             0.3333333333333333,
             "#9c179e"
            ],
            [
             0.4444444444444444,
             "#bd3786"
            ],
            [
             0.5555555555555556,
             "#d8576b"
            ],
            [
             0.6666666666666666,
             "#ed7953"
            ],
            [
             0.7777777777777778,
             "#fb9f3a"
            ],
            [
             0.8888888888888888,
             "#fdca26"
            ],
            [
             1,
             "#f0f921"
            ]
           ],
           "sequentialminus": [
            [
             0,
             "#0d0887"
            ],
            [
             0.1111111111111111,
             "#46039f"
            ],
            [
             0.2222222222222222,
             "#7201a8"
            ],
            [
             0.3333333333333333,
             "#9c179e"
            ],
            [
             0.4444444444444444,
             "#bd3786"
            ],
            [
             0.5555555555555556,
             "#d8576b"
            ],
            [
             0.6666666666666666,
             "#ed7953"
            ],
            [
             0.7777777777777778,
             "#fb9f3a"
            ],
            [
             0.8888888888888888,
             "#fdca26"
            ],
            [
             1,
             "#f0f921"
            ]
           ]
          },
          "colorway": [
           "#636efa",
           "#EF553B",
           "#00cc96",
           "#ab63fa",
           "#FFA15A",
           "#19d3f3",
           "#FF6692",
           "#B6E880",
           "#FF97FF",
           "#FECB52"
          ],
          "font": {
           "color": "#2a3f5f"
          },
          "geo": {
           "bgcolor": "white",
           "lakecolor": "white",
           "landcolor": "#E5ECF6",
           "showlakes": true,
           "showland": true,
           "subunitcolor": "white"
          },
          "hoverlabel": {
           "align": "left"
          },
          "hovermode": "closest",
          "mapbox": {
           "style": "light"
          },
          "paper_bgcolor": "white",
          "plot_bgcolor": "#E5ECF6",
          "polar": {
           "angularaxis": {
            "gridcolor": "white",
            "linecolor": "white",
            "ticks": ""
           },
           "bgcolor": "#E5ECF6",
           "radialaxis": {
            "gridcolor": "white",
            "linecolor": "white",
            "ticks": ""
           }
          },
          "scene": {
           "xaxis": {
            "backgroundcolor": "#E5ECF6",
            "gridcolor": "white",
            "gridwidth": 2,
            "linecolor": "white",
            "showbackground": true,
            "ticks": "",
            "zerolinecolor": "white"
           },
           "yaxis": {
            "backgroundcolor": "#E5ECF6",
            "gridcolor": "white",
            "gridwidth": 2,
            "linecolor": "white",
            "showbackground": true,
            "ticks": "",
            "zerolinecolor": "white"
           },
           "zaxis": {
            "backgroundcolor": "#E5ECF6",
            "gridcolor": "white",
            "gridwidth": 2,
            "linecolor": "white",
            "showbackground": true,
            "ticks": "",
            "zerolinecolor": "white"
           }
          },
          "shapedefaults": {
           "line": {
            "color": "#2a3f5f"
           }
          },
          "ternary": {
           "aaxis": {
            "gridcolor": "white",
            "linecolor": "white",
            "ticks": ""
           },
           "baxis": {
            "gridcolor": "white",
            "linecolor": "white",
            "ticks": ""
           },
           "bgcolor": "#E5ECF6",
           "caxis": {
            "gridcolor": "white",
            "linecolor": "white",
            "ticks": ""
           }
          },
          "title": {
           "x": 0.05
          },
          "xaxis": {
           "automargin": true,
           "gridcolor": "white",
           "linecolor": "white",
           "ticks": "",
           "title": {
            "standoff": 15
           },
           "zerolinecolor": "white",
           "zerolinewidth": 2
          },
          "yaxis": {
           "automargin": true,
           "gridcolor": "white",
           "linecolor": "white",
           "ticks": "",
           "title": {
            "standoff": 15
           },
           "zerolinecolor": "white",
           "zerolinewidth": 2
          }
         }
        },
        "xaxis": {
         "anchor": "y",
         "domain": [
          0,
          1
         ],
         "title": {
          "text": "mass"
         }
        },
        "yaxis": {
         "anchor": "x",
         "domain": [
          0,
          1
         ],
         "title": {
          "text": "count"
         }
        }
       }
      }
     },
     "metadata": {},
     "output_type": "display_data"
    }
   ],
   "source": [
    "import plotly.express as px\n",
    "\n",
    "# univariate\n",
    "fig = px.histogram(df_planets_scale, x = 'mass')\n",
    "fig.show()"
   ]
  },
  {
   "cell_type": "code",
   "execution_count": 37,
   "metadata": {},
   "outputs": [
    {
     "data": {
      "application/vnd.plotly.v1+json": {
       "config": {
        "plotlyServerURL": "https://plot.ly"
       },
       "data": [
        {
         "hovertemplate": "distance=%{x}<br>mass=%{y}<extra></extra>",
         "legendgroup": "",
         "marker": {
          "color": "#636efa",
          "symbol": "circle"
         },
         "mode": "markers",
         "name": "",
         "orientation": "v",
         "showlegend": false,
         "type": "scatter",
         "x": [
          0.5441934230888527,
          0.10487362946803205,
          -0.6923467881979167,
          1.2578464081296181,
          1.447967688009533,
          0.5224959662889977,
          -0.7286524337343072,
          0.45181811196075805,
          0.48812375749714887,
          0.48812375749714887,
          -0.27150205680271494,
          0.9712681173275768,
          -0.8160867398485732,
          -0.8160867398485732,
          -0.8160867398485732,
          -0.7885889728150939,
          -0.8493848171156768,
          -0.8493848171156768,
          -0.8493848171156768,
          -0.8493848171156768,
          -0.9355301654002485,
          -0.9355301654002485,
          -0.9355301654002485,
          0.9691198542780863,
          -0.1406728370887395,
          -0.6843982149148015,
          -1.089560626048722,
          -1.0493881070232485,
          -0.09749274979397919,
          -0.291051250553079,
          -0.8223167026920958,
          0.22753944959394318,
          0.6137971458923468,
          -0.7441199276906392,
          -0.7834331414963165,
          0.8687959698668769,
          -0.8291911444504656,
          -0.8291911444504656,
          -0.8291911444504656,
          -0.8291911444504656,
          -0.31210422843808666,
          -0.21435825968626587,
          -0.21435825968626587,
          -0.6867613042692411,
          -0.6867613042692411,
          -0.04378617355671507,
          2.650350516809402,
          -0.8841866785174239,
          -0.7969671987081072,
          -0.7969671987081072,
          -0.7969671987081072,
          -0.8581926956185882,
          -0.7941744567437693,
          -0.7941744567437693,
          -0.6882650884038845,
          -0.9243591975428976,
          -0.9838660840137862,
          -0.9838660840137862,
          -0.9838660840137862,
          -0.9838660840137862,
          -0.8968614305094184,
          -0.9724802898514863,
          -0.9724802898514863,
          -0.9724802898514863,
          -0.9724802898514863,
          -0.9724802898514863,
          -0.9724802898514863,
          -1.021031034769973,
          -0.7720473473340165,
          -0.7720473473340165,
          -0.7720473473340165,
          -1.012437982572011,
          -0.930159507776522,
          -1.017593813890788,
          -1.017593813890788,
          -1.017593813890788,
          -1.017593813890788,
          -0.7400382278966072,
          -0.6932060934177128,
          3.4787207486929637,
          0.8148745673246637,
          6.486289017979755,
          -0.5677475313274638,
          -0.5677475313274638,
          -0.6150093184162563,
          -0.6150093184162563,
          2.4797784306798514,
          -0.9679689374475561,
          0.8116521727504277,
          0.035269906664537706,
          1.356451682101235,
          -0.8798901524184429,
          -0.17225230391625093,
          -0.4160801600334299,
          -0.6491667009031562,
          0.5532161278967127,
          1.7044702961187064,
          0.09520644574532444,
          0.09520644574532444,
          1.0297008722737202,
          0.026032375551728285,
          2.1167219753159454,
          -0.25238251566224895,
          0.06319732630791498,
          -0.34776539505962994,
          -0.291051250553079,
          -0.291051250553079,
          -0.7572243322925316,
          0.09176922486613961,
          -0.17010404086676034,
          -0.2966367344817546,
          0.016794844438918863,
          0.016794844438918863,
          -0.27236136202251116,
          -0.27236136202251116,
          -0.27236136202251116,
          -0.27236136202251116,
          -0.27236136202251116,
          -0.27236136202251116,
          -0.7458385381302316,
          -0.41908772830271673,
          0.037632996018977315,
          0.037632996018977315,
          0.30981792438943173,
          -0.3885823929999508,
          -0.3885823929999508,
          -0.32026762802615083,
          -0.32026762802615083,
          5.332671760403321,
          -0.5041589450625431,
          -0.5041589450625431,
          0.31841097658739415,
          0.31841097658739415,
          -0.1406728370887395,
          -0.3471209161447829,
          -0.5698957943769545,
          0.1669584315983094,
          -0.04056377898247925,
          1.6286366104716894,
          -0.6377809067408563,
          -0.19309045549630938,
          -0.19309045549630938,
          -0.5357384118900544,
          -0.9883774364177164,
          -0.9883774364177164,
          -0.9883774364177164,
          -0.34755056875468093,
          -0.34755056875468093,
          -0.34475782679034317,
          -0.16258512019354332,
          -0.42445838592644314,
          -0.42445838592644314,
          0.7961846787940956,
          -0.3752631620931092,
          -0.43562935378379414,
          -0.0021098703965981612,
          -0.11940503289878301,
          0.08553926202261684,
          -0.7267189969897656,
          -0.1617258149737471,
          -0.2083431231476924,
          0.08833200398695464,
          -0.2687093148383772,
          2.510283765982617,
          0.05675253715944335,
          -0.549272469101845,
          1.482339896801382,
          0.037632996018977315,
          -0.302007392105481,
          -0.302007392105481,
          -0.302007392105481,
          1.820261674486248,
          0.7478487601805579,
          1.4028541639702312,
          -0.1516289786411415,
          -0.6678565894337242,
          -0.4044795395661809,
          -0.4044795395661809,
          -0.4044795395661809,
          -0.7273634759046128,
          -0.19738698159529042,
          -0.19738698159529042,
          -0.5688216628522091,
          -0.5688216628522091,
          -0.5688216628522091,
          -0.20705416531799803,
          -0.20705416531799803,
          1.0168112939767768,
          -0.7842924467161128,
          -0.8429400279672052,
          -0.8429400279672052,
          -0.8429400279672052,
          -0.8429400279672052,
          -0.8429400279672052,
          -0.8429400279672052,
          -0.40254610282163944,
          -0.1941645870210546,
          -0.1941645870210546,
          -0.0008209125669037735,
          -0.0008209125669037735,
          0.06169354217327159,
          -0.32263071738059046,
          0.8836189849083618,
          -0.03519312135875284,
          -0.6450850011091241,
          -0.4186580756928187,
          -0.4186580756928187,
          -0.06698741449121313,
          -0.34217991113095453,
          -0.400827492382047,
          -0.30565943928961486,
          -0.30565943928961486,
          1.4885698596449048,
          1.4885698596449048,
          0.7592345543428579,
          -0.2435746371593377,
          -0.10329306002760379,
          -0.45195615295992236,
          -0.38664895625540924,
          -0.38664895625540924,
          -0.5155447392248431,
          0.8687959698668769,
          -0.5664585734977695,
          -0.5664585734977695,
          -0.34948400549922254,
          -0.8964317778995203,
          -0.4177987704730225,
          -0.35399535790315256,
          -0.35399535790315256,
          0.6013372202053016,
          0.06384180522276219,
          0.14504614849350556,
          -0.8483106855909316,
          -0.8483106855909316,
          -0.8483106855909316,
          -0.5007217241833581,
          -0.015214274998490594,
          0.021091370537899903,
          -0.3340165115428903,
          0.9139094939061787,
          0.9139094939061787,
          0.9650381544840541,
          0.268356447534264,
          0.268356447534264,
          0.268356447534264,
          -0.49685485069427515,
          0.6125081880626524,
          0.1639508633290226,
          -0.07364702994463393,
          -0.41908772830271673,
          0.777494790263528,
          1.2924334432264162,
          -0.1834232717736018,
          -0.3890120456098488,
          -0.8790308471986467,
          0.8397944186987542,
          -0.2059800337932528,
          0.44043231779845804,
          -0.7305858704788487,
          0.48103448943382976,
          -0.45517854753415826,
          -0.2809544142204734,
          -0.6440108695843789,
          -0.4242435596214941,
          -0.4977141559140715,
          -0.20512072857345645,
          -0.20512072857345645,
          2.082994245438944,
          1.7343311525066254,
          0.6866232632700769,
          3.634254993476081,
          -0.5555024319453676,
          -0.5555024319453676,
          -0.6609821476753543,
          2.1119957966070664,
          -0.19975007094973002,
          0.18027766250515084,
          -0.732089654613492,
          -0.732089654613492,
          1.693299328261355,
          1.9072663279906155,
          0.015720712914173488,
          -0.4633419471222224,
          -0.21629169643080745,
          -0.495995545474479,
          2.4088857500466623,
          2.4088857500466623,
          -0.9200626714439164,
          1.8567821463275873,
          1.482339896801382,
          -0.058824014903149084,
          0.021735849452747095,
          -0.671293810312909,
          1.0735254384833277,
          -0.3142524914875772,
          0.7691165643705147,
          -0.3374537324220753,
          -0.01736253804798119,
          -0.2901919453332828,
          1.8567821463275873,
          0.3538573169039886,
          0.3538573169039886,
          0.29112803585886404,
          0.10422915055318485,
          0.10422915055318485,
          0.14955750089743575,
          0.9794315169156408,
          -0.49814380852396956,
          -0.31468214409747525,
          -0.7810700521418769,
          -0.7810700521418769,
          -0.5161892181396903,
          -0.678597904681177,
          -0.24701185803852252,
          -0.6796720362059223,
          -0.366670109895147,
          1.2578464081296181,
          -0.40942054458000926,
          -0.3017925658005319,
          0.7841544057169484,
          0.9794315169156408,
          -0.1653778621578811,
          1.7420648994847912,
          0.016365191829020683,
          0.016365191829020683,
          0.016365191829020683,
          -0.5288639701316846,
          0.34977561710995625,
          -0.30114808688568484,
          -0.7625949899162581,
          -0.7625949899162581,
          0.33387847054372616,
          -0.4792390936884525,
          1.4885698596449048,
          0.11045911339670747,
          0.40606010900660916,
          0.9979065791412597,
          -0.5997566507648733,
          -0.5997566507648733,
          -0.5675327050225148,
          -0.5675327050225148,
          -0.5404645905989337,
          -0.5404645905989337,
          -0.5404645905989337,
          1.166760054831218,
          -0.8057750772110184,
          -0.8057750772110184,
          -0.8057750772110184,
          -0.2925550346877224,
          1.4885698596449048,
          -0.3997533608573017,
          -0.3479802213645791,
          1.166760054831218,
          -0.37590764100795643,
          0.15643194265580557,
          1.5903975281907572,
          0.067064199796998,
          -0.2016835076942716,
          -0.2016835076942716,
          -0.842080722747409,
          0.021091370537899903,
          0.15492815852116218,
          0.24537003290471496,
          0.5250738819483866,
          -0.48375044609238277,
          0.7113282883392186,
          2.8088923298618056,
          -0.004258133446088757,
          -0.7301562178689506,
          -0.7305858704788487,
          0.2947800830429981,
          0.3538573169039886,
          0.3538573169039886,
          -0.18621601373793956,
          -0.18621601373793956,
          -0.35872153661203193,
          0.06513076305245658,
          -0.6019049138143638,
          -0.06591328296646791,
          -0.39932370824740365,
          1.333680093776635,
          0.3549314484287338,
          0.3549314484287338,
          0.014002102474581075,
          0.014002102474581075,
          -0.7903075832546863,
          -0.4470151479460941,
          0.3731916843494035,
          0.3731916843494035,
          -0.005547091275782992,
          -0.3026518710203282,
          -0.6476629167685128,
          -0.19502389224085082,
          -0.04443065247156226,
          -0.30480013406981865,
          -0.30480013406981865,
          -0.19223115027651316,
          -0.33831303764187154,
          -0.33831303764187154,
          0.2773791523421244,
          -0.17225230391625093,
          1.7805188080706722,
          0.3212037185517318,
          1.6215473424083708,
          0.14955750089743575,
          0.14955750089743575,
          -0.1146788541899038,
          0.249666559003696,
          -0.5374570223296469,
          1.3422731459745971,
          1.3620371660299104,
          -0.556791389775062,
          -0.556791389775062,
          -0.556791389775062,
          0.08296134636322822,
          0.016365191829020683,
          0.016365191829020683,
          -0.10092997067316417,
          -0.15227345755598867,
          -0.08911452390096597,
          -0.08911452390096597,
          0.012068665730039646,
          -0.7378899648471166,
          0.21572400282174511,
          -0.7772031786527939,
          -0.7772031786527939,
          0.04644087452188856,
          2.9500332122133357,
          -0.6912726566731713,
          -0.9290853762517768,
          -0.9290853762517768,
          0.32915229183484696,
          -0.31618592823211866,
          -0.1103823280909226,
          -0.18256396655380558,
          -0.4098501971899073,
          -0.41328741806909225,
          0.34977561710995625,
          0.34977561710995625,
          -0.12305708008291685,
          -0.12305708008291685,
          -0.10243375480780757,
          -0.10243375480780757,
          -0.10243375480780757,
          -0.5396052853791374,
          0.8219638353879825,
          2.5349887910517586,
          -0.17354126174594517,
          6.445686846344383,
          -0.6611969739803034,
          0.014002102474581075,
          1.4980222170626634,
          -0.2431449845494395,
          -0.6562559689664751,
          -0.6562559689664751,
          -0.2884733348936904,
          -0.2884733348936904,
          -0.1834232717736018,
          -0.1834232717736018,
          -0.40340540804143565,
          -0.5488428164919469,
          -0.30458530776486964,
          -0.6949247038573053,
          -0.6949247038573053,
          0.06126388956337356,
          -0.47537222019936953,
          -0.49126936676559974,
          0.6236791559200032,
          5.090347688420785,
          -0.14690279993226227,
          -0.07815838234856413,
          0.017439323353766058,
          -0.03476346874885466,
          -0.21736582795555268,
          0.9023088734389295,
          1.2114439262606218,
          5.491428399760674,
          0.06126388956337356,
          -0.9161957979548334,
          -0.04013412637258107,
          -0.1561403310450717,
          -0.6072755714380902,
          3.676575775551045,
          0.017439323353766058,
          0.017439323353766058,
          0.017439323353766058,
          -0.8816087628580354,
          -0.5628065263136355,
          -0.5628065263136355,
          -0.5628065263136355,
          2.087720424147823,
          -0.6034086979490072,
          -0.44551136381145073,
          -0.7984709828427505,
          -0.16344442541333953,
          -0.7482016274846712,
          2.7053460508763605,
          1.7815929395954175
         ],
         "xaxis": "x",
         "y": [
          1.263737447225493,
          -0.08239780310655312,
          0.024962676981278815,
          4.649721819226345,
          2.1997006069655662,
          0.6305858979895612,
          0.5865405728253225,
          2.1446439505102677,
          -0.14296012520738136,
          -0.4540302341798174,
          2.0290249719541413,
          0.3773252782951886,
          0.005692847221924293,
          -0.5421208845082949,
          -0.2393092740041536,
          -0.5608401477030963,
          -0.4705472311164069,
          -0.6453521153619793,
          0.2809761294984163,
          -0.6434251323860439,
          -0.6863693244211767,
          -0.6750827098478406,
          -0.6709534606136931,
          0.7682275391278073,
          0.19013264634717408,
          -0.19526394883991485,
          -0.6897828371214052,
          -0.26408476940903786,
          1.401379088363739,
          1.7262133614499995,
          -0.18149978472609024,
          0.08001933343657715,
          -0.22279227706756408,
          -0.4044792433700488,
          0.3828309439407184,
          4.980061757958136,
          -0.5014890720442846,
          -0.14543767474786976,
          0.44669666542886455,
          -0.39924886100679546,
          0.7131708826725088,
          -0.6783861092351584,
          -0.5999303737863582,
          -0.6833412083161352,
          -0.6439756989505969,
          -0.28610743199115724,
          -0.38520941361069433,
          0.38558377676348343,
          -0.6811389420579232,
          -0.6841670581629647,
          -0.6690264776377577,
          -0.4650415654708771,
          -0.16938732030592463,
          -0.2503206052952132,
          -0.05762230770166887,
          -0.6858187578566237,
          -0.6772849761060524,
          -0.6860940411389003,
          -0.6847176247275177,
          -0.6891221572439417,
          -0.6004809403509112,
          -0.6858187578566237,
          -0.6874704575502827,
          -0.6863693244211767,
          -0.6885715906793887,
          -0.6885715906793887,
          -0.6869198909857297,
          -0.6811389420579232,
          0.6718783903310351,
          -0.6869198909857297,
          -0.6808636587756468,
          -0.5145925562806456,
          -0.4402660700659927,
          -0.06433921978921528,
          -0.49416653673572997,
          -0.6849929080097943,
          -0.678110825952882,
          0.2369308043341777,
          -0.6847176247275177,
          3.493532033665079,
          0.24518930280247242,
          0.24518930280247242,
          -0.34666975409198547,
          0.7682275391278073,
          -0.6841670581629647,
          -0.6856535878872577,
          0.16260431811952483,
          0.9884541649490008,
          0.6581142262172106,
          -0.5586378814448844,
          -0.2503206052952132,
          -0.6277339852962839,
          -0.2613319365862729,
          -0.4705472311164069,
          -0.6796248840054026,
          -0.12093746262526205,
          -0.05762230770166887,
          -0.038352477942314354,
          -0.038352477942314354,
          -0.15672428932120597,
          -0.15121862367567612,
          1.401379088363739,
          -0.5586378814448844,
          -0.2365564411813887,
          -0.6109417050774179,
          -0.38520941361069433,
          -0.14020729238461643,
          -0.6827906417515823,
          -0.5173453891034105,
          -0.19526394883991485,
          3.218248751388587,
          -0.4980755593440561,
          -0.189758283194385,
          -0.6794872423642644,
          -0.6803130922110939,
          -0.6687511943554811,
          -0.6704028940491402,
          -0.6723298770250755,
          -0.6343407840709196,
          -0.43200757159769804,
          1.0187353259994152,
          0.2562006340935321,
          -0.4650415654708771,
          1.1095788091506575,
          -0.5195476553616225,
          -0.6690815342942129,
          -0.05762230770166887,
          -0.16222995496673584,
          3.1631920949332883,
          -0.6818271502636145,
          -0.6808636587756468,
          -0.45265381776843494,
          0.7214293811408037,
          -0.17324128625779553,
          -0.6192002035457127,
          -0.6716141404911568,
          0.5204725850789645,
          3.245777079616236,
          0.05249100520892804,
          -0.3136357602188064,
          -0.6803681488675491,
          -0.6791569024255326,
          -0.396220744901754,
          -0.6884339490382503,
          -0.688695468156413,
          -0.6866170793752255,
          -0.6803406205393215,
          -0.6771198061366865,
          -0.16773562061226568,
          -0.14296012520738136,
          -0.6819097352482975,
          -0.6729575229086661,
          -0.2778489335228625,
          0.027715509804043678,
          3.0668429461365156,
          1.4316602494141533,
          0.41311210499113254,
          -0.4292547387749331,
          -0.33841125562369073,
          -0.2916130976366871,
          -0.5200982219261755,
          -0.3714452494968698,
          0.84805969098799,
          -0.22279227706756408,
          1.8335738415378315,
          -0.312809910371977,
          -0.19526394883991485,
          -0.5531322157993546,
          -0.680781073790964,
          -0.6770647494802313,
          -0.6764866545874506,
          -0.3329055899781609,
          -0.5999303737863582,
          0.1460873211829353,
          -0.47330006393917184,
          1.814304011778477,
          -0.5228510547489404,
          -0.5027553751427565,
          -0.5189970887970695,
          2.158408114624092,
          -0.05762230770166887,
          0.23582967120507173,
          -0.6875530425349656,
          -0.6856260595590302,
          -0.6863142677647214,
          -0.45981118310762376,
          2.992516459921863,
          2.2547572634208644,
          -0.6643191335108297,
          -0.6873052875809168,
          -0.6850479646662495,
          -0.6825428867975334,
          -0.6877457408325591,
          -0.686259211108266,
          -0.6846350397428348,
          0.41311210499113254,
          0.008445680044689277,
          4.366180038481559,
          -0.6800378089288174,
          -0.6833412083161352,
          -0.5256038875717053,
          6.191308199974701,
          -0.0053184840691352766,
          -0.5311095532172352,
          -0.6797625256465408,
          -0.6392408264954413,
          -0.5096649855278964,
          -0.19801678166267977,
          -0.5613907142676493,
          -0.622228319650754,
          -0.6710443040968443,
          -0.5942567853386397,
          0.6856425544448598,
          1.236209118997844,
          -0.3714452494968698,
          -0.6591162794758039,
          -0.22003944424479915,
          0.6581142262172106,
          -0.6794046573795814,
          -0.6752203514889787,
          -0.37970374796516454,
          0.7544633750139828,
          0.17768984198827653,
          1.3637753920047702,
          -0.5861662096725336,
          0.10754766166422638,
          -0.5145925562806456,
          -0.3439169212692206,
          -0.6439756989505969,
          0.9609258367213518,
          0.08552499908210699,
          -0.16773562061226568,
          -0.6816895086224763,
          -0.6803130922110939,
          -0.674807426565564,
          -0.14020729238461643,
          0.1763684822333494,
          0.15159298682846514,
          -0.17599411908056037,
          -0.07138647181549343,
          -0.07138647181549343,
          -0.3741980823196347,
          -0.19526394883991485,
          1.5280093982109255,
          -0.5817616771561097,
          -0.5751548783814739,
          0.000187181576394447,
          -0.6365430503291316,
          -0.3218942586871012,
          1.197669459479135,
          0.05249100520892804,
          -0.3329055899781609,
          -0.5806605440270037,
          -0.6544364636771036,
          -0.6876548973494079,
          -0.2778489335228625,
          -0.4375132372432279,
          1.236209118997844,
          -0.2007696144854447,
          -0.6302115348367723,
          -0.2007696144854447,
          1.6326170454759923,
          -0.6750827098478406,
          0.37181961264965874,
          -0.5889190424952985,
          -0.6835339066137288,
          -0.6820198485612081,
          -0.3604339182058101,
          -0.4430189028887577,
          -0.5035812249895859,
          0.41035927216836765,
          -0.6829558117209482,
          -0.6797625256465408,
          -0.6836164915984119,
          -0.19526394883991485,
          1.1811524625425454,
          -0.5525816492348016,
          -0.6668242113795457,
          -0.5916718753180634,
          -0.3053772617505117,
          -0.22279227706756408,
          -0.3714452494968698,
          -0.608188872254653,
          -0.6434251323860439,
          -0.5668963799131791,
          0.9333975084937026,
          0.024962676981278815,
          -0.677009692823776,
          0.9333975084937026,
          -0.4265019059521682,
          -0.6637960952745043,
          -0.589744892342128,
          -0.639571166434173,
          1.5940773859572837,
          1.2141864564157245,
          2.337342248103812,
          1.954698485739488,
          -0.6329643676595372,
          -0.618924920263436,
          0.024962676981278815,
          -0.3356584228009258,
          -0.4182434074838734,
          -0.4788057295847017,
          -0.67590855969467,
          -0.6698523274845871,
          -0.6136945379001827,
          2.3621177435086964,
          1.1811524625425454,
          0.08827783190487198,
          -0.6164473707229476,
          -0.4953227265212912,
          -0.3494225869147504,
          -0.5586378814448844,
          2.524534880051827,
          -0.3879622464334593,
          -0.4292547387749331,
          -0.11267896415696721,
          -0.17324128625779553,
          -0.641773432692385,
          -0.10442046568867251,
          0.5480009133066137,
          -0.35492825256028027,
          0.330527120308185,
          0.1350759898918756,
          -0.674807426565564,
          1.2912657754531423,
          -0.6794872423642644,
          -0.5861662096725336,
          -0.6291104017076663,
          -0.2916130976366871,
          0.20114397763823377,
          -0.2503206052952132,
          -0.4044792433700488,
          -0.08515063592931799,
          4.3056177163807305,
          0.85356535663352,
          -0.2806017663456274,
          -0.6811114137296957,
          -0.6492886662985332,
          -0.25307343811797817,
          -0.4650415654708771,
          -0.682735585095127,
          -0.6802580355546386,
          -0.657464579782145,
          -0.14020729238461643,
          -0.6862041544518108,
          -0.6809187154321021,
          -0.6825153584693059,
          -0.6293856849899429,
          1.995990978080962,
          1.9794739811443722,
          0.7131708826725088,
          -0.16773562061226568,
          -0.2448149396496834,
          0.16810998376505468,
          0.10754766166422638,
          0.8948578489749937,
          -0.10717329851143736,
          1.1150844747961872,
          -0.35768108538304516,
          -0.4567830670025823,
          -0.4265019059521682,
          -0.3246470915098661,
          3.5761170183480266,
          -0.6445262655151498,
          0.1350759898918756,
          -0.2778489335228625,
          0.06074950367722275,
          -0.6854608895896643,
          -0.43008058862176257,
          0.6911482200903895,
          -0.0741393046382583,
          0.01945701133574897,
          -0.4567830670025823,
          -0.4650415654708771,
          1.9822268139671375,
          -0.48431139523023153,
          -0.6871951742680061,
          2.218970436724921,
          -0.6577398630644214,
          -0.19526394883991485,
          -0.37970374796516454,
          -0.16773562061226568,
          -0.11267896415696721,
          -0.4898170608757614,
          -0.19140998288804395,
          3.273305407843885,
          -0.4788057295847017,
          -0.06037514052443374,
          -0.5586378814448844,
          0.05249100520892804,
          -0.5916718753180634,
          0.2809761294984163,
          -0.22279227706756408,
          1.5169980669198657,
          4.291853552266907,
          -0.6274587020140074,
          0.10204199601869654,
          0.42137060345942734,
          -0.5063340578123509,
          0.024962676981278815,
          0.05249100520892804,
          1.4564357448190375,
          -0.5228510547489404,
          -0.2806017663456274,
          -0.6494813645961268,
          1.2444676174661387,
          -0.6687511943554811,
          -0.4292547387749331,
          -0.2503206052952132,
          0.21766097457482317,
          -0.6842221148194201,
          -0.5145925562806456,
          -0.5421208845082949,
          -0.5889190424952985,
          0.32502145466265514,
          0.36080828135859905,
          -0.43200757159769804,
          -0.48431139523023153,
          -0.5476265501538247,
          -0.14296012520738136,
          -0.3439169212692206,
          -0.6820749052176633,
          0.9416560069619972,
          -0.2772983669583095,
          -0.6750827098478406,
          -0.16773562061226568,
          0.16260431811952483,
          -0.4925698936985263,
          -0.6761342919861367,
          -0.6699844634600799,
          -0.002565651246370415,
          0.3277742874854201,
          0.1350759898918756,
          1.2086807907701946,
          0.01945701133574897,
          -0.47330006393917184,
          -0.18149978472609024,
          -0.44439531930014015,
          4.099155254673361,
          -0.019082648182959953,
          0.42412343628219223,
          -0.67590855969467,
          -0.22829794271309392,
          -0.6175485038520536,
          -0.3136357602188064,
          -0.08515063592931799,
          -0.5668963799131791,
          2.034530637599671,
          -0.3521754197375153,
          -0.5668963799131791,
          -0.05762230770166887,
          0.5480009133066137,
          -0.6883788923817951,
          -0.6881036090995186,
          -0.6629702454276749,
          -0.6230541694975835,
          -0.6860940411389003,
          -0.5999303737863582,
          -0.3439169212692206,
          -0.11267896415696721,
          -0.5118397234578808,
          -0.3081300945732766,
          0.024962676981278815,
          2.8879088126567964,
          -0.6329643676595372,
          2.169419445915152,
          -0.674256860001011,
          2.364870576331461,
          -0.39897357772451897,
          -0.2916130976366871,
          0.15985148529675985,
          -0.16773562061226568,
          1.4426715807052128,
          -0.4953227265212912,
          -0.3934679120789891,
          0.7682275391278073,
          0.008445680044689277,
          -0.6834788499572735,
          -0.4815585624074666,
          -0.2998715961049819,
          -0.5613907142676493,
          -0.34666975409198547,
          0.3773252782951886,
          -0.33841125562369073,
          -0.5338623860400001,
          -0.6087394388192059,
          -0.6808636587756468,
          -0.5779077112042388,
          -0.5456995671778893,
          1.8363266743605964,
          1.786775683550828,
          1.7372246927410595,
          -0.11267896415696721,
          -0.396771311466307,
          -0.15672428932120597,
          -0.28610743199115724,
          -0.43008058862176257
         ],
         "yaxis": "y"
        }
       ],
       "layout": {
        "legend": {
         "tracegroupgap": 0
        },
        "margin": {
         "t": 60
        },
        "template": {
         "data": {
          "bar": [
           {
            "error_x": {
             "color": "#2a3f5f"
            },
            "error_y": {
             "color": "#2a3f5f"
            },
            "marker": {
             "line": {
              "color": "#E5ECF6",
              "width": 0.5
             },
             "pattern": {
              "fillmode": "overlay",
              "size": 10,
              "solidity": 0.2
             }
            },
            "type": "bar"
           }
          ],
          "barpolar": [
           {
            "marker": {
             "line": {
              "color": "#E5ECF6",
              "width": 0.5
             },
             "pattern": {
              "fillmode": "overlay",
              "size": 10,
              "solidity": 0.2
             }
            },
            "type": "barpolar"
           }
          ],
          "carpet": [
           {
            "aaxis": {
             "endlinecolor": "#2a3f5f",
             "gridcolor": "white",
             "linecolor": "white",
             "minorgridcolor": "white",
             "startlinecolor": "#2a3f5f"
            },
            "baxis": {
             "endlinecolor": "#2a3f5f",
             "gridcolor": "white",
             "linecolor": "white",
             "minorgridcolor": "white",
             "startlinecolor": "#2a3f5f"
            },
            "type": "carpet"
           }
          ],
          "choropleth": [
           {
            "colorbar": {
             "outlinewidth": 0,
             "ticks": ""
            },
            "type": "choropleth"
           }
          ],
          "contour": [
           {
            "colorbar": {
             "outlinewidth": 0,
             "ticks": ""
            },
            "colorscale": [
             [
              0,
              "#0d0887"
             ],
             [
              0.1111111111111111,
              "#46039f"
             ],
             [
              0.2222222222222222,
              "#7201a8"
             ],
             [
              0.3333333333333333,
              "#9c179e"
             ],
             [
              0.4444444444444444,
              "#bd3786"
             ],
             [
              0.5555555555555556,
              "#d8576b"
             ],
             [
              0.6666666666666666,
              "#ed7953"
             ],
             [
              0.7777777777777778,
              "#fb9f3a"
             ],
             [
              0.8888888888888888,
              "#fdca26"
             ],
             [
              1,
              "#f0f921"
             ]
            ],
            "type": "contour"
           }
          ],
          "contourcarpet": [
           {
            "colorbar": {
             "outlinewidth": 0,
             "ticks": ""
            },
            "type": "contourcarpet"
           }
          ],
          "heatmap": [
           {
            "colorbar": {
             "outlinewidth": 0,
             "ticks": ""
            },
            "colorscale": [
             [
              0,
              "#0d0887"
             ],
             [
              0.1111111111111111,
              "#46039f"
             ],
             [
              0.2222222222222222,
              "#7201a8"
             ],
             [
              0.3333333333333333,
              "#9c179e"
             ],
             [
              0.4444444444444444,
              "#bd3786"
             ],
             [
              0.5555555555555556,
              "#d8576b"
             ],
             [
              0.6666666666666666,
              "#ed7953"
             ],
             [
              0.7777777777777778,
              "#fb9f3a"
             ],
             [
              0.8888888888888888,
              "#fdca26"
             ],
             [
              1,
              "#f0f921"
             ]
            ],
            "type": "heatmap"
           }
          ],
          "heatmapgl": [
           {
            "colorbar": {
             "outlinewidth": 0,
             "ticks": ""
            },
            "colorscale": [
             [
              0,
              "#0d0887"
             ],
             [
              0.1111111111111111,
              "#46039f"
             ],
             [
              0.2222222222222222,
              "#7201a8"
             ],
             [
              0.3333333333333333,
              "#9c179e"
             ],
             [
              0.4444444444444444,
              "#bd3786"
             ],
             [
              0.5555555555555556,
              "#d8576b"
             ],
             [
              0.6666666666666666,
              "#ed7953"
             ],
             [
              0.7777777777777778,
              "#fb9f3a"
             ],
             [
              0.8888888888888888,
              "#fdca26"
             ],
             [
              1,
              "#f0f921"
             ]
            ],
            "type": "heatmapgl"
           }
          ],
          "histogram": [
           {
            "marker": {
             "pattern": {
              "fillmode": "overlay",
              "size": 10,
              "solidity": 0.2
             }
            },
            "type": "histogram"
           }
          ],
          "histogram2d": [
           {
            "colorbar": {
             "outlinewidth": 0,
             "ticks": ""
            },
            "colorscale": [
             [
              0,
              "#0d0887"
             ],
             [
              0.1111111111111111,
              "#46039f"
             ],
             [
              0.2222222222222222,
              "#7201a8"
             ],
             [
              0.3333333333333333,
              "#9c179e"
             ],
             [
              0.4444444444444444,
              "#bd3786"
             ],
             [
              0.5555555555555556,
              "#d8576b"
             ],
             [
              0.6666666666666666,
              "#ed7953"
             ],
             [
              0.7777777777777778,
              "#fb9f3a"
             ],
             [
              0.8888888888888888,
              "#fdca26"
             ],
             [
              1,
              "#f0f921"
             ]
            ],
            "type": "histogram2d"
           }
          ],
          "histogram2dcontour": [
           {
            "colorbar": {
             "outlinewidth": 0,
             "ticks": ""
            },
            "colorscale": [
             [
              0,
              "#0d0887"
             ],
             [
              0.1111111111111111,
              "#46039f"
             ],
             [
              0.2222222222222222,
              "#7201a8"
             ],
             [
              0.3333333333333333,
              "#9c179e"
             ],
             [
              0.4444444444444444,
              "#bd3786"
             ],
             [
              0.5555555555555556,
              "#d8576b"
             ],
             [
              0.6666666666666666,
              "#ed7953"
             ],
             [
              0.7777777777777778,
              "#fb9f3a"
             ],
             [
              0.8888888888888888,
              "#fdca26"
             ],
             [
              1,
              "#f0f921"
             ]
            ],
            "type": "histogram2dcontour"
           }
          ],
          "mesh3d": [
           {
            "colorbar": {
             "outlinewidth": 0,
             "ticks": ""
            },
            "type": "mesh3d"
           }
          ],
          "parcoords": [
           {
            "line": {
             "colorbar": {
              "outlinewidth": 0,
              "ticks": ""
             }
            },
            "type": "parcoords"
           }
          ],
          "pie": [
           {
            "automargin": true,
            "type": "pie"
           }
          ],
          "scatter": [
           {
            "fillpattern": {
             "fillmode": "overlay",
             "size": 10,
             "solidity": 0.2
            },
            "type": "scatter"
           }
          ],
          "scatter3d": [
           {
            "line": {
             "colorbar": {
              "outlinewidth": 0,
              "ticks": ""
             }
            },
            "marker": {
             "colorbar": {
              "outlinewidth": 0,
              "ticks": ""
             }
            },
            "type": "scatter3d"
           }
          ],
          "scattercarpet": [
           {
            "marker": {
             "colorbar": {
              "outlinewidth": 0,
              "ticks": ""
             }
            },
            "type": "scattercarpet"
           }
          ],
          "scattergeo": [
           {
            "marker": {
             "colorbar": {
              "outlinewidth": 0,
              "ticks": ""
             }
            },
            "type": "scattergeo"
           }
          ],
          "scattergl": [
           {
            "marker": {
             "colorbar": {
              "outlinewidth": 0,
              "ticks": ""
             }
            },
            "type": "scattergl"
           }
          ],
          "scattermapbox": [
           {
            "marker": {
             "colorbar": {
              "outlinewidth": 0,
              "ticks": ""
             }
            },
            "type": "scattermapbox"
           }
          ],
          "scatterpolar": [
           {
            "marker": {
             "colorbar": {
              "outlinewidth": 0,
              "ticks": ""
             }
            },
            "type": "scatterpolar"
           }
          ],
          "scatterpolargl": [
           {
            "marker": {
             "colorbar": {
              "outlinewidth": 0,
              "ticks": ""
             }
            },
            "type": "scatterpolargl"
           }
          ],
          "scatterternary": [
           {
            "marker": {
             "colorbar": {
              "outlinewidth": 0,
              "ticks": ""
             }
            },
            "type": "scatterternary"
           }
          ],
          "surface": [
           {
            "colorbar": {
             "outlinewidth": 0,
             "ticks": ""
            },
            "colorscale": [
             [
              0,
              "#0d0887"
             ],
             [
              0.1111111111111111,
              "#46039f"
             ],
             [
              0.2222222222222222,
              "#7201a8"
             ],
             [
              0.3333333333333333,
              "#9c179e"
             ],
             [
              0.4444444444444444,
              "#bd3786"
             ],
             [
              0.5555555555555556,
              "#d8576b"
             ],
             [
              0.6666666666666666,
              "#ed7953"
             ],
             [
              0.7777777777777778,
              "#fb9f3a"
             ],
             [
              0.8888888888888888,
              "#fdca26"
             ],
             [
              1,
              "#f0f921"
             ]
            ],
            "type": "surface"
           }
          ],
          "table": [
           {
            "cells": {
             "fill": {
              "color": "#EBF0F8"
             },
             "line": {
              "color": "white"
             }
            },
            "header": {
             "fill": {
              "color": "#C8D4E3"
             },
             "line": {
              "color": "white"
             }
            },
            "type": "table"
           }
          ]
         },
         "layout": {
          "annotationdefaults": {
           "arrowcolor": "#2a3f5f",
           "arrowhead": 0,
           "arrowwidth": 1
          },
          "autotypenumbers": "strict",
          "coloraxis": {
           "colorbar": {
            "outlinewidth": 0,
            "ticks": ""
           }
          },
          "colorscale": {
           "diverging": [
            [
             0,
             "#8e0152"
            ],
            [
             0.1,
             "#c51b7d"
            ],
            [
             0.2,
             "#de77ae"
            ],
            [
             0.3,
             "#f1b6da"
            ],
            [
             0.4,
             "#fde0ef"
            ],
            [
             0.5,
             "#f7f7f7"
            ],
            [
             0.6,
             "#e6f5d0"
            ],
            [
             0.7,
             "#b8e186"
            ],
            [
             0.8,
             "#7fbc41"
            ],
            [
             0.9,
             "#4d9221"
            ],
            [
             1,
             "#276419"
            ]
           ],
           "sequential": [
            [
             0,
             "#0d0887"
            ],
            [
             0.1111111111111111,
             "#46039f"
            ],
            [
             0.2222222222222222,
             "#7201a8"
            ],
            [
             0.3333333333333333,
             "#9c179e"
            ],
            [
             0.4444444444444444,
             "#bd3786"
            ],
            [
             0.5555555555555556,
             "#d8576b"
            ],
            [
             0.6666666666666666,
             "#ed7953"
            ],
            [
             0.7777777777777778,
             "#fb9f3a"
            ],
            [
             0.8888888888888888,
             "#fdca26"
            ],
            [
             1,
             "#f0f921"
            ]
           ],
           "sequentialminus": [
            [
             0,
             "#0d0887"
            ],
            [
             0.1111111111111111,
             "#46039f"
            ],
            [
             0.2222222222222222,
             "#7201a8"
            ],
            [
             0.3333333333333333,
             "#9c179e"
            ],
            [
             0.4444444444444444,
             "#bd3786"
            ],
            [
             0.5555555555555556,
             "#d8576b"
            ],
            [
             0.6666666666666666,
             "#ed7953"
            ],
            [
             0.7777777777777778,
             "#fb9f3a"
            ],
            [
             0.8888888888888888,
             "#fdca26"
            ],
            [
             1,
             "#f0f921"
            ]
           ]
          },
          "colorway": [
           "#636efa",
           "#EF553B",
           "#00cc96",
           "#ab63fa",
           "#FFA15A",
           "#19d3f3",
           "#FF6692",
           "#B6E880",
           "#FF97FF",
           "#FECB52"
          ],
          "font": {
           "color": "#2a3f5f"
          },
          "geo": {
           "bgcolor": "white",
           "lakecolor": "white",
           "landcolor": "#E5ECF6",
           "showlakes": true,
           "showland": true,
           "subunitcolor": "white"
          },
          "hoverlabel": {
           "align": "left"
          },
          "hovermode": "closest",
          "mapbox": {
           "style": "light"
          },
          "paper_bgcolor": "white",
          "plot_bgcolor": "#E5ECF6",
          "polar": {
           "angularaxis": {
            "gridcolor": "white",
            "linecolor": "white",
            "ticks": ""
           },
           "bgcolor": "#E5ECF6",
           "radialaxis": {
            "gridcolor": "white",
            "linecolor": "white",
            "ticks": ""
           }
          },
          "scene": {
           "xaxis": {
            "backgroundcolor": "#E5ECF6",
            "gridcolor": "white",
            "gridwidth": 2,
            "linecolor": "white",
            "showbackground": true,
            "ticks": "",
            "zerolinecolor": "white"
           },
           "yaxis": {
            "backgroundcolor": "#E5ECF6",
            "gridcolor": "white",
            "gridwidth": 2,
            "linecolor": "white",
            "showbackground": true,
            "ticks": "",
            "zerolinecolor": "white"
           },
           "zaxis": {
            "backgroundcolor": "#E5ECF6",
            "gridcolor": "white",
            "gridwidth": 2,
            "linecolor": "white",
            "showbackground": true,
            "ticks": "",
            "zerolinecolor": "white"
           }
          },
          "shapedefaults": {
           "line": {
            "color": "#2a3f5f"
           }
          },
          "ternary": {
           "aaxis": {
            "gridcolor": "white",
            "linecolor": "white",
            "ticks": ""
           },
           "baxis": {
            "gridcolor": "white",
            "linecolor": "white",
            "ticks": ""
           },
           "bgcolor": "#E5ECF6",
           "caxis": {
            "gridcolor": "white",
            "linecolor": "white",
            "ticks": ""
           }
          },
          "title": {
           "x": 0.05
          },
          "xaxis": {
           "automargin": true,
           "gridcolor": "white",
           "linecolor": "white",
           "ticks": "",
           "title": {
            "standoff": 15
           },
           "zerolinecolor": "white",
           "zerolinewidth": 2
          },
          "yaxis": {
           "automargin": true,
           "gridcolor": "white",
           "linecolor": "white",
           "ticks": "",
           "title": {
            "standoff": 15
           },
           "zerolinecolor": "white",
           "zerolinewidth": 2
          }
         }
        },
        "xaxis": {
         "anchor": "y",
         "domain": [
          0,
          1
         ],
         "title": {
          "text": "distance"
         }
        },
        "yaxis": {
         "anchor": "x",
         "domain": [
          0,
          1
         ],
         "title": {
          "text": "mass"
         }
        }
       }
      }
     },
     "metadata": {},
     "output_type": "display_data"
    }
   ],
   "source": [
    "# bivariate\n",
    "fig = px.scatter(df_planets_scale, x = 'distance', y = 'mass')\n",
    "fig.show()"
   ]
  },
  {
   "cell_type": "code",
   "execution_count": 26,
   "metadata": {},
   "outputs": [
    {
     "data": {
      "application/vnd.plotly.v1+json": {
       "config": {
        "plotlyServerURL": "https://plot.ly"
       },
       "data": [
        {
         "dimensions": [
          {
           "label": "orbital_period",
           "values": [
            -0.3859760228922824,
            0.026569865565729628,
            -0.04958848993179105,
            -0.3473224584911305,
            -0.21773456119772183,
            -0.44284234555965646,
            0.6388578606926376,
            0.10732876516401842,
            -0.260946425366963,
            0.03217473460792732,
            -0.3411425214363368,
            -0.24302665198867474,
            0.16503997448496968,
            1.0596659229903882,
            8.970939257412637,
            -0.5665836374307147,
            -0.5594837176074052,
            -0.5392275600878945,
            2.7753309179154786,
            -0.3914950405487133,
            -0.5665943927015427,
            -0.543560329628295,
            -0.48565220720824404,
            0.07966554086141377,
            -0.44586758486762607,
            -0.310004360090794,
            -0.5672616487498073,
            1.1352969056896276,
            -0.16412514030784653,
            -0.277503478336256,
            0.04600634675922965,
            -0.4762903179984463,
            -0.3807159221135605,
            -0.5423175286152914,
            -0.5672086389258973,
            -0.3613107834894673,
            -0.5663204634144479,
            -0.40508272574680554,
            0.30026272066957393,
            2.0529937107193366,
            -0.12276657589483897,
            -0.5656507088183135,
            -0.40757514137485795,
            -0.5668275541635218,
            -0.48365582180906586,
            -0.3862213125659015,
            -0.475792925049163,
            -0.5587247436620132,
            -0.5635855060384811,
            -0.5520235047283604,
            -0.15860612265141552,
            0.9894858219271299,
            -0.0979650644511244,
            4.268191125969836,
            2.2241105124768774,
            -0.5644440880321686,
            -0.5658082801792056,
            -0.5606568836075092,
            -0.5239514643030572,
            -0.5673204365082514,
            -0.16180851561255452,
            -0.5645602599470355,
            -0.5502928498089363,
            -0.5070469176294703,
            -0.5270584668355663,
            -0.5428755626227749,
            -0.39490184157120156,
            -0.5662681574356292,
            0.14616629682038465,
            -0.5670134292273088,
            -0.5453666155304183,
            1.7580601326004826,
            0.6876432513346695,
            -0.5278239068892991,
            -0.5489654919945545,
            -0.5681459997864289,
            -0.48480050695262195,
            -0.4783616530201191,
            -0.5676637125928793,
            -0.277503478336256,
            3.2352490559513942,
            0.1268838030331011,
            -0.3311946624506711,
            3.5221017020449064,
            -0.5655330379109967,
            -0.5602645564017595,
            -0.2752549896614137,
            -0.20630133696625125,
            0.23658279595722323,
            -0.5671195851471695,
            -0.3571544862420316,
            -0.5270734567600653,
            -0.21064841507094628,
            -0.004618716434945942,
            -0.5588309745314964,
            -0.27520048084505394,
            -0.3269020931623358,
            -0.3240403803034457,
            1.292009752724088,
            -0.10954818792758451,
            -0.0400494470688239,
            -0.448790620144921,
            -0.5544150790461472,
            1.1312087444626417,
            -0.1504298001974437,
            0.2992679347710073,
            2.187317061434004,
            -0.5657884798516629,
            0.32515962254191816,
            -0.41479755954253306,
            0.5438762481856647,
            -0.5489900890979368,
            -0.43803194251590305,
            -0.5655419501024715,
            -0.5583215215065935,
            -0.5355706998703557,
            -0.4858498016675483,
            -0.15928748285591318,
            0.9622314137472238,
            0.10453518832557811,
            0.16313216591237628,
            0.29599740578941863,
            -0.45332507230585284,
            -0.085019220565669,
            0.7557792717844348,
            -0.5436359606109943,
            -0.39046686800012637,
            0.594296903318491,
            -0.24813685352240714,
            -0.5598032755433145,
            -0.5327873434349827,
            -0.5562602024799268,
            0.06488002442381467,
            2.3045110166076004,
            -0.518007959239224,
            -0.5577196760379608,
            0.1050802764891762,
            -0.2525656948516419,
            -0.04345624809131217,
            -0.25181619862669447,
            -0.5613928889004076,
            -0.5464206797667762,
            -0.2287862237146738,
            -0.5569872138181258,
            -0.5421342427202814,
            -0.5079333672555217,
            -0.5496046760023937,
            -0.5114614503944106,
            -0.16616922092133948,
            -0.30997029208056914,
            -0.5540294291704015,
            -0.5327539567849623,
            0.25770496229665046,
            -0.06630975071036799,
            -0.20966044277442464,
            0.4941369532573361,
            1.929762904133891,
            0.6876432513346695,
            -0.28067793552901055,
            0.9349770055673177,
            -0.5572079745243831,
            0.19161302246037815,
            -0.306529423047856,
            -0.3057117908024588,
            1.3517337000891252,
            0.22036642309017912,
            0.05193418053835926,
            -0.251952470667594,
            -0.5581925400198822,
            -0.5345234492360427,
            -0.38243976343093955,
            -0.3469340831745668,
            -0.5570798788059375,
            -0.4621248393469401,
            0.14528052855453774,
            -0.30509856661841095,
            -0.4642234287767928,
            0.9942553433586134,
            0.005329142550719808,
            0.8367371285624371,
            -0.5319915147161294,
            1.283833430270116,
            -0.5656259754428902,
            -0.5599102490954208,
            -0.5463402792626455,
            -0.5597161977091798,
            0.8887807837023766,
            -0.09503521557178453,
            -0.2920505187022809,
            -0.5665280963536451,
            -0.5629127309725601,
            -0.5555447742652042,
            -0.5458776356837916,
            -0.5341991217787018,
            -0.4346932775138646,
            -0.38948502794544526,
            0.08668355096773957,
            -0.5685612752038661,
            -0.556958596689537,
            -0.5519907994385445,
            -0.34611645092916965,
            1.046038718900435,
            -0.544283252805267,
            -0.24786430944060808,
            -0.5654550221675817,
            -0.41484525475684786,
            -0.33586197985148,
            0.0374620897948291,
            -0.5397590210474026,
            -0.5674058927050994,
            -0.5666833102082296,
            0.3528228468445228,
            -0.27648143802950953,
            1.1339341852806324,
            -0.09251418281514319,
            -0.5660978855205252,
            1.190282674192588,
            0.3019933755889979,
            -0.5598795878862183,
            -0.5044543420513568,
            -0.4884117160364595,
            -0.36301418400071145,
            -0.43194739588973896,
            -0.1558398002211551,
            -0.5675463741893424,
            -0.1677090949835042,
            -0.32553937275334055,
            -0.17945574490904373,
            -0.46549075875715845,
            -0.24207274770237802,
            0.7748573575103691,
            -0.5651901093200731,
            -0.5635609770711192,
            -0.5479625979095545,
            -0.43523836567746266,
            0.9506482902707636,
            1.73557524585206,
            0.2890475317035425,
            -0.5677298249735216,
            -0.4407573833338937,
            -0.31116267243844004,
            0.6569820421322752,
            -0.534277478202219,
            1.1155374597591956,
            -0.33330687908461376,
            -0.5670747516457135,
            -0.28452148844258185,
            -0.5667606445914402,
            0.7701559720993353,
            0.11305219088179877,
            -0.4440824211318422,
            -0.08910738179265493,
            -0.567432039902947,
            -0.032554484819349715,
            -0.5296544492147025,
            -0.5680099185263866,
            0.5854392206600216,
            0.4355399756705379,
            1.3069996772230361,
            -0.5671387995049363,
            0.9002276351379374,
            -0.394506652652593,
            -0.5355550285856522,
            -0.34747235773612,
            -0.47163662780172727,
            -0.5604819103069942,
            -0.5381067225514958,
            -0.22401670228319023,
            -0.32342715611939776,
            -0.22953571993962124,
            -0.12842186559216953,
            -0.5639298654858342,
            -0.4989523584000382,
            -0.5629974921819996,
            -0.2717800526184757,
            2.80394804650438,
            -0.27014478812768133,
            -0.5578464090359974,
            2.8168938903898355,
            0.021954331540462526,
            -0.46210439854080515,
            -0.30802841549775084,
            -0.5214576859545956,
            -0.5552849716192293,
            -0.566663363388243,
            -0.48253839107368973,
            -0.21515901962472073,
            -0.48627224499433686,
            -0.03929995084387647,
            -0.565040891435288,
            -0.5368700537803326,
            -0.5654544089433977,
            -0.5314423383913043,
            -0.4335315583651961,
            0.4736961471224065,
            1.399664665034717,
            1.9038712163629803,
            -0.5367228799761611,
            -0.5620405217747827,
            -0.267351211289241,
            -0.2997839570233292,
            0.5370626461406882,
            -0.5229498648024455,
            -0.5641147185093144,
            -0.5483918548383879,
            -0.5658959984919326,
            -0.00020554639041466026,
            0.2093283877773171,
            -0.34870561970626074,
            -0.3900641841192683,
            0.5595475328891107,
            0.06944513779394898,
            2.038099176649018,
            -0.5123083811286012,
            -0.23307879300300902,
            0.18956894184688516,
            -0.11295498895007278,
            1.2000261251169047,
            -0.5518688359619395,
            -0.565287203149214,
            0.8491256198006133,
            -0.5263157842126639,
            -0.3344311234220349,
            -0.1883134275675132,
            -0.5666354787218739,
            1.48006516916544,
            -0.5628750517532514,
            0.27814576843158006,
            0.0765449111248145,
            -0.25999252108066634,
            0.059974230951431534,
            0.6842364503121813,
            -0.5621699802136373,
            0.03217473460792732,
            0.7598674330114208,
            0.09417851321721375,
            0.48255382978087596,
            -0.567238278094793,
            0.22152473543782517,
            -0.39354593476425126,
            2.8373346965247648,
            -0.5612334506125553,
            -0.5289124479520045,
            -0.2565448384459082,
            -0.25311078301524,
            -0.561578218876031,
            -0.550673048803046,
            -0.4967515649395108,
            -0.34461745847927483,
            0.19754085623950776,
            -0.12438821318154338,
            0.7441961483079748,
            0.315620579678951,
            -0.30625687896605697,
            0.15073141019051894,
            -0.4493425219105641,
            -0.49863893270596926,
            -0.5393256759573422,
            0.11734476017013395,
            -0.20943559390694047,
            0.13029060405558937,
            -0.3435954181725283,
            -0.5666918272107859,
            -0.5678371937145464,
            0.177440730206827,
            0.8593460228680782,
            -0.10000914506461737,
            -0.2291950398373724,
            -0.556795751600662,
            1.7076394774676562,
            -0.457791388446335,
            -0.2910625464057593,
            1.7825890999623981,
            -0.4370780382296064,
            -0.3024412618208701,
            -0.4801740711640829,
            0.004238966223523547,
            -0.5663010671335065,
            -0.3244801301794285,
            -0.49803252212396637,
            -0.2144776594202231,
            -0.56086756018274,
            -0.4002164511662833,
            0.2334485390165341,
            -0.32942312591897716,
            2.296198422112729,
            -0.5637236872506737,
            -0.518166716166872,
            0.32584098274641576,
            -0.3770502042133631,
            -0.15628949795612354,
            0.21750471023128895,
            2.935450565972427,
            -0.28277039271702287,
            -0.5298705153491508,
            0.6225733518051437,
            -0.5651035765741018,
            -0.41573783662473984,
            0.8627528238905664,
            0.21069110818631243,
            0.46824526548642526,
            -0.3489781637880598,
            0.3094883378384721,
            -0.3668979371663481,
            -0.29242526681475456,
            -0.4939034792847106,
            -0.5207599731051901,
            -0.5596029556431923,
            -0.5673592195310914,
            -0.2430947880091245,
            -0.11772451038155635,
            -0.563079050998478,
            0.08600219076324192,
            0.9104480382054021,
            0.081914029536256,
            -0.1373272434649538,
            1.440546277304576,
            -0.5648071848851454,
            0.10235483567118558,
            -0.5673561534101711,
            2.026516053172558,
            -0.2584526470185016,
            -0.5597399090442964,
            0.20462700236628326,
            1.4003460252392146,
            -0.5578150664665904,
            0.13785370232551325,
            2.7589782730075347,
            -0.5528765677043915,
            -0.5185550914834357,
            -0.21120713043863437,
            -0.32996821408257526,
            -0.5570644596245097,
            0.30880697763397447,
            1.9093220979989616,
            0.3387868266318712,
            0.136218437834719,
            -0.15124743244284092,
            -0.007344157252936555,
            -0.3951266904386858,
            0.37312738093855297,
            0.7462402289214677,
            -0.5457052515520536,
            1.359873229092054,
            0.6113309084309324,
            -0.37882174074505703,
            -0.15383660121993195,
            -0.485659020810289,
            0.027064533074194926,
            -0.2682369795550879,
            -0.5679361851318568,
            -0.31511456162452645,
            0.07850722851376774,
            -0.5645043202742461,
            -0.5620626659814288,
            -0.4386519803019959,
            0.9819908596776556,
            -0.5667885803598246,
            -0.18313509001333103,
            0.32379690213292284,
            0.3122137786564627,
            -0.48875920974075326,
            -0.5646103971563232,
            2.339941747241478,
            0.32924778376890407,
            -0.41568332780838,
            3.1786961589780893,
            -0.5668543316195586,
            -0.11152413252062769,
            0.9356583657718153,
            1.9683960277289079,
            -0.25869793669212077,
            2.155293131822614,
            -0.17946937211313368,
            -0.5512535676972781,
            -0.4729857210066326,
            -0.06137602146960041,
            1.0950966536242661,
            -0.5634815304712748,
            -0.5671708234345477,
            -0.3339064760645717,
            -0.530628794307134,
            -0.5584282906506383,
            -0.5649190267559127,
            -0.468808982953062,
            0.07918858871826538,
            -0.541260057577911,
            -0.563923324427871,
            -0.5476423586134405,
            -0.2753231256818635,
            -0.48456884448309273,
            11.243616219514559,
            -0.22122448816515883,
            -0.49335839112111246,
            -0.5660251162506849,
            -0.3573670706258349,
            -0.5676243433277194,
            -0.17427740735486155
           ]
          },
          {
           "label": "mass",
           "values": [
            1.263737447225493,
            -0.08239780310655312,
            0.024962676981278815,
            4.649721819226345,
            2.1997006069655662,
            0.6305858979895612,
            0.5865405728253225,
            2.1446439505102677,
            -0.14296012520738136,
            -0.4540302341798174,
            2.0290249719541413,
            0.3773252782951886,
            0.005692847221924293,
            -0.5421208845082949,
            -0.2393092740041536,
            -0.5608401477030963,
            -0.4705472311164069,
            -0.6453521153619793,
            0.2809761294984163,
            -0.6434251323860439,
            -0.6863693244211767,
            -0.6750827098478406,
            -0.6709534606136931,
            0.7682275391278073,
            0.19013264634717408,
            -0.19526394883991485,
            -0.6897828371214052,
            -0.26408476940903786,
            1.401379088363739,
            1.7262133614499995,
            -0.18149978472609024,
            0.08001933343657715,
            -0.22279227706756408,
            -0.4044792433700488,
            0.3828309439407184,
            4.980061757958136,
            -0.5014890720442846,
            -0.14543767474786976,
            0.44669666542886455,
            -0.39924886100679546,
            0.7131708826725088,
            -0.6783861092351584,
            -0.5999303737863582,
            -0.6833412083161352,
            -0.6439756989505969,
            -0.28610743199115724,
            -0.38520941361069433,
            0.38558377676348343,
            -0.6811389420579232,
            -0.6841670581629647,
            -0.6690264776377577,
            -0.4650415654708771,
            -0.16938732030592463,
            -0.2503206052952132,
            -0.05762230770166887,
            -0.6858187578566237,
            -0.6772849761060524,
            -0.6860940411389003,
            -0.6847176247275177,
            -0.6891221572439417,
            -0.6004809403509112,
            -0.6858187578566237,
            -0.6874704575502827,
            -0.6863693244211767,
            -0.6885715906793887,
            -0.6885715906793887,
            -0.6869198909857297,
            -0.6811389420579232,
            0.6718783903310351,
            -0.6869198909857297,
            -0.6808636587756468,
            -0.5145925562806456,
            -0.4402660700659927,
            -0.06433921978921528,
            -0.49416653673572997,
            -0.6849929080097943,
            -0.678110825952882,
            0.2369308043341777,
            -0.6847176247275177,
            3.493532033665079,
            0.24518930280247242,
            0.24518930280247242,
            -0.34666975409198547,
            0.7682275391278073,
            -0.6841670581629647,
            -0.6856535878872577,
            0.16260431811952483,
            0.9884541649490008,
            0.6581142262172106,
            -0.5586378814448844,
            -0.2503206052952132,
            -0.6277339852962839,
            -0.2613319365862729,
            -0.4705472311164069,
            -0.6796248840054026,
            -0.12093746262526205,
            -0.05762230770166887,
            -0.038352477942314354,
            -0.038352477942314354,
            -0.15672428932120597,
            -0.15121862367567612,
            1.401379088363739,
            -0.5586378814448844,
            -0.2365564411813887,
            -0.6109417050774179,
            -0.38520941361069433,
            -0.14020729238461643,
            -0.6827906417515823,
            -0.5173453891034105,
            -0.19526394883991485,
            3.218248751388587,
            -0.4980755593440561,
            -0.189758283194385,
            -0.6794872423642644,
            -0.6803130922110939,
            -0.6687511943554811,
            -0.6704028940491402,
            -0.6723298770250755,
            -0.6343407840709196,
            -0.43200757159769804,
            1.0187353259994152,
            0.2562006340935321,
            -0.4650415654708771,
            1.1095788091506575,
            -0.5195476553616225,
            -0.6690815342942129,
            -0.05762230770166887,
            -0.16222995496673584,
            3.1631920949332883,
            -0.6818271502636145,
            -0.6808636587756468,
            -0.45265381776843494,
            0.7214293811408037,
            -0.17324128625779553,
            -0.6192002035457127,
            -0.6716141404911568,
            0.5204725850789645,
            3.245777079616236,
            0.05249100520892804,
            -0.3136357602188064,
            -0.6803681488675491,
            -0.6791569024255326,
            -0.396220744901754,
            -0.6884339490382503,
            -0.688695468156413,
            -0.6866170793752255,
            -0.6803406205393215,
            -0.6771198061366865,
            -0.16773562061226568,
            -0.14296012520738136,
            -0.6819097352482975,
            -0.6729575229086661,
            -0.2778489335228625,
            0.027715509804043678,
            3.0668429461365156,
            1.4316602494141533,
            0.41311210499113254,
            -0.4292547387749331,
            -0.33841125562369073,
            -0.2916130976366871,
            -0.5200982219261755,
            -0.3714452494968698,
            0.84805969098799,
            -0.22279227706756408,
            1.8335738415378315,
            -0.312809910371977,
            -0.19526394883991485,
            -0.5531322157993546,
            -0.680781073790964,
            -0.6770647494802313,
            -0.6764866545874506,
            -0.3329055899781609,
            -0.5999303737863582,
            0.1460873211829353,
            -0.47330006393917184,
            1.814304011778477,
            -0.5228510547489404,
            -0.5027553751427565,
            -0.5189970887970695,
            2.158408114624092,
            -0.05762230770166887,
            0.23582967120507173,
            -0.6875530425349656,
            -0.6856260595590302,
            -0.6863142677647214,
            -0.45981118310762376,
            2.992516459921863,
            2.2547572634208644,
            -0.6643191335108297,
            -0.6873052875809168,
            -0.6850479646662495,
            -0.6825428867975334,
            -0.6877457408325591,
            -0.686259211108266,
            -0.6846350397428348,
            0.41311210499113254,
            0.008445680044689277,
            4.366180038481559,
            -0.6800378089288174,
            -0.6833412083161352,
            -0.5256038875717053,
            6.191308199974701,
            -0.0053184840691352766,
            -0.5311095532172352,
            -0.6797625256465408,
            -0.6392408264954413,
            -0.5096649855278964,
            -0.19801678166267977,
            -0.5613907142676493,
            -0.622228319650754,
            -0.6710443040968443,
            -0.5942567853386397,
            0.6856425544448598,
            1.236209118997844,
            -0.3714452494968698,
            -0.6591162794758039,
            -0.22003944424479915,
            0.6581142262172106,
            -0.6794046573795814,
            -0.6752203514889787,
            -0.37970374796516454,
            0.7544633750139828,
            0.17768984198827653,
            1.3637753920047702,
            -0.5861662096725336,
            0.10754766166422638,
            -0.5145925562806456,
            -0.3439169212692206,
            -0.6439756989505969,
            0.9609258367213518,
            0.08552499908210699,
            -0.16773562061226568,
            -0.6816895086224763,
            -0.6803130922110939,
            -0.674807426565564,
            -0.14020729238461643,
            0.1763684822333494,
            0.15159298682846514,
            -0.17599411908056037,
            -0.07138647181549343,
            -0.07138647181549343,
            -0.3741980823196347,
            -0.19526394883991485,
            1.5280093982109255,
            -0.5817616771561097,
            -0.5751548783814739,
            0.000187181576394447,
            -0.6365430503291316,
            -0.3218942586871012,
            1.197669459479135,
            0.05249100520892804,
            -0.3329055899781609,
            -0.5806605440270037,
            -0.6544364636771036,
            -0.6876548973494079,
            -0.2778489335228625,
            -0.4375132372432279,
            1.236209118997844,
            -0.2007696144854447,
            -0.6302115348367723,
            -0.2007696144854447,
            1.6326170454759923,
            -0.6750827098478406,
            0.37181961264965874,
            -0.5889190424952985,
            -0.6835339066137288,
            -0.6820198485612081,
            -0.3604339182058101,
            -0.4430189028887577,
            -0.5035812249895859,
            0.41035927216836765,
            -0.6829558117209482,
            -0.6797625256465408,
            -0.6836164915984119,
            -0.19526394883991485,
            1.1811524625425454,
            -0.5525816492348016,
            -0.6668242113795457,
            -0.5916718753180634,
            -0.3053772617505117,
            -0.22279227706756408,
            -0.3714452494968698,
            -0.608188872254653,
            -0.6434251323860439,
            -0.5668963799131791,
            0.9333975084937026,
            0.024962676981278815,
            -0.677009692823776,
            0.9333975084937026,
            -0.4265019059521682,
            -0.6637960952745043,
            -0.589744892342128,
            -0.639571166434173,
            1.5940773859572837,
            1.2141864564157245,
            2.337342248103812,
            1.954698485739488,
            -0.6329643676595372,
            -0.618924920263436,
            0.024962676981278815,
            -0.3356584228009258,
            -0.4182434074838734,
            -0.4788057295847017,
            -0.67590855969467,
            -0.6698523274845871,
            -0.6136945379001827,
            2.3621177435086964,
            1.1811524625425454,
            0.08827783190487198,
            -0.6164473707229476,
            -0.4953227265212912,
            -0.3494225869147504,
            -0.5586378814448844,
            2.524534880051827,
            -0.3879622464334593,
            -0.4292547387749331,
            -0.11267896415696721,
            -0.17324128625779553,
            -0.641773432692385,
            -0.10442046568867251,
            0.5480009133066137,
            -0.35492825256028027,
            0.330527120308185,
            0.1350759898918756,
            -0.674807426565564,
            1.2912657754531423,
            -0.6794872423642644,
            -0.5861662096725336,
            -0.6291104017076663,
            -0.2916130976366871,
            0.20114397763823377,
            -0.2503206052952132,
            -0.4044792433700488,
            -0.08515063592931799,
            4.3056177163807305,
            0.85356535663352,
            -0.2806017663456274,
            -0.6811114137296957,
            -0.6492886662985332,
            -0.25307343811797817,
            -0.4650415654708771,
            -0.682735585095127,
            -0.6802580355546386,
            -0.657464579782145,
            -0.14020729238461643,
            -0.6862041544518108,
            -0.6809187154321021,
            -0.6825153584693059,
            -0.6293856849899429,
            1.995990978080962,
            1.9794739811443722,
            0.7131708826725088,
            -0.16773562061226568,
            -0.2448149396496834,
            0.16810998376505468,
            0.10754766166422638,
            0.8948578489749937,
            -0.10717329851143736,
            1.1150844747961872,
            -0.35768108538304516,
            -0.4567830670025823,
            -0.4265019059521682,
            -0.3246470915098661,
            3.5761170183480266,
            -0.6445262655151498,
            0.1350759898918756,
            -0.2778489335228625,
            0.06074950367722275,
            -0.6854608895896643,
            -0.43008058862176257,
            0.6911482200903895,
            -0.0741393046382583,
            0.01945701133574897,
            -0.4567830670025823,
            -0.4650415654708771,
            1.9822268139671375,
            -0.48431139523023153,
            -0.6871951742680061,
            2.218970436724921,
            -0.6577398630644214,
            -0.19526394883991485,
            -0.37970374796516454,
            -0.16773562061226568,
            -0.11267896415696721,
            -0.4898170608757614,
            -0.19140998288804395,
            3.273305407843885,
            -0.4788057295847017,
            -0.06037514052443374,
            -0.5586378814448844,
            0.05249100520892804,
            -0.5916718753180634,
            0.2809761294984163,
            -0.22279227706756408,
            1.5169980669198657,
            4.291853552266907,
            -0.6274587020140074,
            0.10204199601869654,
            0.42137060345942734,
            -0.5063340578123509,
            0.024962676981278815,
            0.05249100520892804,
            1.4564357448190375,
            -0.5228510547489404,
            -0.2806017663456274,
            -0.6494813645961268,
            1.2444676174661387,
            -0.6687511943554811,
            -0.4292547387749331,
            -0.2503206052952132,
            0.21766097457482317,
            -0.6842221148194201,
            -0.5145925562806456,
            -0.5421208845082949,
            -0.5889190424952985,
            0.32502145466265514,
            0.36080828135859905,
            -0.43200757159769804,
            -0.48431139523023153,
            -0.5476265501538247,
            -0.14296012520738136,
            -0.3439169212692206,
            -0.6820749052176633,
            0.9416560069619972,
            -0.2772983669583095,
            -0.6750827098478406,
            -0.16773562061226568,
            0.16260431811952483,
            -0.4925698936985263,
            -0.6761342919861367,
            -0.6699844634600799,
            -0.002565651246370415,
            0.3277742874854201,
            0.1350759898918756,
            1.2086807907701946,
            0.01945701133574897,
            -0.47330006393917184,
            -0.18149978472609024,
            -0.44439531930014015,
            4.099155254673361,
            -0.019082648182959953,
            0.42412343628219223,
            -0.67590855969467,
            -0.22829794271309392,
            -0.6175485038520536,
            -0.3136357602188064,
            -0.08515063592931799,
            -0.5668963799131791,
            2.034530637599671,
            -0.3521754197375153,
            -0.5668963799131791,
            -0.05762230770166887,
            0.5480009133066137,
            -0.6883788923817951,
            -0.6881036090995186,
            -0.6629702454276749,
            -0.6230541694975835,
            -0.6860940411389003,
            -0.5999303737863582,
            -0.3439169212692206,
            -0.11267896415696721,
            -0.5118397234578808,
            -0.3081300945732766,
            0.024962676981278815,
            2.8879088126567964,
            -0.6329643676595372,
            2.169419445915152,
            -0.674256860001011,
            2.364870576331461,
            -0.39897357772451897,
            -0.2916130976366871,
            0.15985148529675985,
            -0.16773562061226568,
            1.4426715807052128,
            -0.4953227265212912,
            -0.3934679120789891,
            0.7682275391278073,
            0.008445680044689277,
            -0.6834788499572735,
            -0.4815585624074666,
            -0.2998715961049819,
            -0.5613907142676493,
            -0.34666975409198547,
            0.3773252782951886,
            -0.33841125562369073,
            -0.5338623860400001,
            -0.6087394388192059,
            -0.6808636587756468,
            -0.5779077112042388,
            -0.5456995671778893,
            1.8363266743605964,
            1.786775683550828,
            1.7372246927410595,
            -0.11267896415696721,
            -0.396771311466307,
            -0.15672428932120597,
            -0.28610743199115724,
            -0.43008058862176257
           ]
          },
          {
           "label": "distance",
           "values": [
            0.5441934230888527,
            0.10487362946803205,
            -0.6923467881979167,
            1.2578464081296181,
            1.447967688009533,
            0.5224959662889977,
            -0.7286524337343072,
            0.45181811196075805,
            0.48812375749714887,
            0.48812375749714887,
            -0.27150205680271494,
            0.9712681173275768,
            -0.8160867398485732,
            -0.8160867398485732,
            -0.8160867398485732,
            -0.7885889728150939,
            -0.8493848171156768,
            -0.8493848171156768,
            -0.8493848171156768,
            -0.8493848171156768,
            -0.9355301654002485,
            -0.9355301654002485,
            -0.9355301654002485,
            0.9691198542780863,
            -0.1406728370887395,
            -0.6843982149148015,
            -1.089560626048722,
            -1.0493881070232485,
            -0.09749274979397919,
            -0.291051250553079,
            -0.8223167026920958,
            0.22753944959394318,
            0.6137971458923468,
            -0.7441199276906392,
            -0.7834331414963165,
            0.8687959698668769,
            -0.8291911444504656,
            -0.8291911444504656,
            -0.8291911444504656,
            -0.8291911444504656,
            -0.31210422843808666,
            -0.21435825968626587,
            -0.21435825968626587,
            -0.6867613042692411,
            -0.6867613042692411,
            -0.04378617355671507,
            2.650350516809402,
            -0.8841866785174239,
            -0.7969671987081072,
            -0.7969671987081072,
            -0.7969671987081072,
            -0.8581926956185882,
            -0.7941744567437693,
            -0.7941744567437693,
            -0.6882650884038845,
            -0.9243591975428976,
            -0.9838660840137862,
            -0.9838660840137862,
            -0.9838660840137862,
            -0.9838660840137862,
            -0.8968614305094184,
            -0.9724802898514863,
            -0.9724802898514863,
            -0.9724802898514863,
            -0.9724802898514863,
            -0.9724802898514863,
            -0.9724802898514863,
            -1.021031034769973,
            -0.7720473473340165,
            -0.7720473473340165,
            -0.7720473473340165,
            -1.012437982572011,
            -0.930159507776522,
            -1.017593813890788,
            -1.017593813890788,
            -1.017593813890788,
            -1.017593813890788,
            -0.7400382278966072,
            -0.6932060934177128,
            3.4787207486929637,
            0.8148745673246637,
            6.486289017979755,
            -0.5677475313274638,
            -0.5677475313274638,
            -0.6150093184162563,
            -0.6150093184162563,
            2.4797784306798514,
            -0.9679689374475561,
            0.8116521727504277,
            0.035269906664537706,
            1.356451682101235,
            -0.8798901524184429,
            -0.17225230391625093,
            -0.4160801600334299,
            -0.6491667009031562,
            0.5532161278967127,
            1.7044702961187064,
            0.09520644574532444,
            0.09520644574532444,
            1.0297008722737202,
            0.026032375551728285,
            2.1167219753159454,
            -0.25238251566224895,
            0.06319732630791498,
            -0.34776539505962994,
            -0.291051250553079,
            -0.291051250553079,
            -0.7572243322925316,
            0.09176922486613961,
            -0.17010404086676034,
            -0.2966367344817546,
            0.016794844438918863,
            0.016794844438918863,
            -0.27236136202251116,
            -0.27236136202251116,
            -0.27236136202251116,
            -0.27236136202251116,
            -0.27236136202251116,
            -0.27236136202251116,
            -0.7458385381302316,
            -0.41908772830271673,
            0.037632996018977315,
            0.037632996018977315,
            0.30981792438943173,
            -0.3885823929999508,
            -0.3885823929999508,
            -0.32026762802615083,
            -0.32026762802615083,
            5.332671760403321,
            -0.5041589450625431,
            -0.5041589450625431,
            0.31841097658739415,
            0.31841097658739415,
            -0.1406728370887395,
            -0.3471209161447829,
            -0.5698957943769545,
            0.1669584315983094,
            -0.04056377898247925,
            1.6286366104716894,
            -0.6377809067408563,
            -0.19309045549630938,
            -0.19309045549630938,
            -0.5357384118900544,
            -0.9883774364177164,
            -0.9883774364177164,
            -0.9883774364177164,
            -0.34755056875468093,
            -0.34755056875468093,
            -0.34475782679034317,
            -0.16258512019354332,
            -0.42445838592644314,
            -0.42445838592644314,
            0.7961846787940956,
            -0.3752631620931092,
            -0.43562935378379414,
            -0.0021098703965981612,
            -0.11940503289878301,
            0.08553926202261684,
            -0.7267189969897656,
            -0.1617258149737471,
            -0.2083431231476924,
            0.08833200398695464,
            -0.2687093148383772,
            2.510283765982617,
            0.05675253715944335,
            -0.549272469101845,
            1.482339896801382,
            0.037632996018977315,
            -0.302007392105481,
            -0.302007392105481,
            -0.302007392105481,
            1.820261674486248,
            0.7478487601805579,
            1.4028541639702312,
            -0.1516289786411415,
            -0.6678565894337242,
            -0.4044795395661809,
            -0.4044795395661809,
            -0.4044795395661809,
            -0.7273634759046128,
            -0.19738698159529042,
            -0.19738698159529042,
            -0.5688216628522091,
            -0.5688216628522091,
            -0.5688216628522091,
            -0.20705416531799803,
            -0.20705416531799803,
            1.0168112939767768,
            -0.7842924467161128,
            -0.8429400279672052,
            -0.8429400279672052,
            -0.8429400279672052,
            -0.8429400279672052,
            -0.8429400279672052,
            -0.8429400279672052,
            -0.40254610282163944,
            -0.1941645870210546,
            -0.1941645870210546,
            -0.0008209125669037735,
            -0.0008209125669037735,
            0.06169354217327159,
            -0.32263071738059046,
            0.8836189849083618,
            -0.03519312135875284,
            -0.6450850011091241,
            -0.4186580756928187,
            -0.4186580756928187,
            -0.06698741449121313,
            -0.34217991113095453,
            -0.400827492382047,
            -0.30565943928961486,
            -0.30565943928961486,
            1.4885698596449048,
            1.4885698596449048,
            0.7592345543428579,
            -0.2435746371593377,
            -0.10329306002760379,
            -0.45195615295992236,
            -0.38664895625540924,
            -0.38664895625540924,
            -0.5155447392248431,
            0.8687959698668769,
            -0.5664585734977695,
            -0.5664585734977695,
            -0.34948400549922254,
            -0.8964317778995203,
            -0.4177987704730225,
            -0.35399535790315256,
            -0.35399535790315256,
            0.6013372202053016,
            0.06384180522276219,
            0.14504614849350556,
            -0.8483106855909316,
            -0.8483106855909316,
            -0.8483106855909316,
            -0.5007217241833581,
            -0.015214274998490594,
            0.021091370537899903,
            -0.3340165115428903,
            0.9139094939061787,
            0.9139094939061787,
            0.9650381544840541,
            0.268356447534264,
            0.268356447534264,
            0.268356447534264,
            -0.49685485069427515,
            0.6125081880626524,
            0.1639508633290226,
            -0.07364702994463393,
            -0.41908772830271673,
            0.777494790263528,
            1.2924334432264162,
            -0.1834232717736018,
            -0.3890120456098488,
            -0.8790308471986467,
            0.8397944186987542,
            -0.2059800337932528,
            0.44043231779845804,
            -0.7305858704788487,
            0.48103448943382976,
            -0.45517854753415826,
            -0.2809544142204734,
            -0.6440108695843789,
            -0.4242435596214941,
            -0.4977141559140715,
            -0.20512072857345645,
            -0.20512072857345645,
            2.082994245438944,
            1.7343311525066254,
            0.6866232632700769,
            3.634254993476081,
            -0.5555024319453676,
            -0.5555024319453676,
            -0.6609821476753543,
            2.1119957966070664,
            -0.19975007094973002,
            0.18027766250515084,
            -0.732089654613492,
            -0.732089654613492,
            1.693299328261355,
            1.9072663279906155,
            0.015720712914173488,
            -0.4633419471222224,
            -0.21629169643080745,
            -0.495995545474479,
            2.4088857500466623,
            2.4088857500466623,
            -0.9200626714439164,
            1.8567821463275873,
            1.482339896801382,
            -0.058824014903149084,
            0.021735849452747095,
            -0.671293810312909,
            1.0735254384833277,
            -0.3142524914875772,
            0.7691165643705147,
            -0.3374537324220753,
            -0.01736253804798119,
            -0.2901919453332828,
            1.8567821463275873,
            0.3538573169039886,
            0.3538573169039886,
            0.29112803585886404,
            0.10422915055318485,
            0.10422915055318485,
            0.14955750089743575,
            0.9794315169156408,
            -0.49814380852396956,
            -0.31468214409747525,
            -0.7810700521418769,
            -0.7810700521418769,
            -0.5161892181396903,
            -0.678597904681177,
            -0.24701185803852252,
            -0.6796720362059223,
            -0.366670109895147,
            1.2578464081296181,
            -0.40942054458000926,
            -0.3017925658005319,
            0.7841544057169484,
            0.9794315169156408,
            -0.1653778621578811,
            1.7420648994847912,
            0.016365191829020683,
            0.016365191829020683,
            0.016365191829020683,
            -0.5288639701316846,
            0.34977561710995625,
            -0.30114808688568484,
            -0.7625949899162581,
            -0.7625949899162581,
            0.33387847054372616,
            -0.4792390936884525,
            1.4885698596449048,
            0.11045911339670747,
            0.40606010900660916,
            0.9979065791412597,
            -0.5997566507648733,
            -0.5997566507648733,
            -0.5675327050225148,
            -0.5675327050225148,
            -0.5404645905989337,
            -0.5404645905989337,
            -0.5404645905989337,
            1.166760054831218,
            -0.8057750772110184,
            -0.8057750772110184,
            -0.8057750772110184,
            -0.2925550346877224,
            1.4885698596449048,
            -0.3997533608573017,
            -0.3479802213645791,
            1.166760054831218,
            -0.37590764100795643,
            0.15643194265580557,
            1.5903975281907572,
            0.067064199796998,
            -0.2016835076942716,
            -0.2016835076942716,
            -0.842080722747409,
            0.021091370537899903,
            0.15492815852116218,
            0.24537003290471496,
            0.5250738819483866,
            -0.48375044609238277,
            0.7113282883392186,
            2.8088923298618056,
            -0.004258133446088757,
            -0.7301562178689506,
            -0.7305858704788487,
            0.2947800830429981,
            0.3538573169039886,
            0.3538573169039886,
            -0.18621601373793956,
            -0.18621601373793956,
            -0.35872153661203193,
            0.06513076305245658,
            -0.6019049138143638,
            -0.06591328296646791,
            -0.39932370824740365,
            1.333680093776635,
            0.3549314484287338,
            0.3549314484287338,
            0.014002102474581075,
            0.014002102474581075,
            -0.7903075832546863,
            -0.4470151479460941,
            0.3731916843494035,
            0.3731916843494035,
            -0.005547091275782992,
            -0.3026518710203282,
            -0.6476629167685128,
            -0.19502389224085082,
            -0.04443065247156226,
            -0.30480013406981865,
            -0.30480013406981865,
            -0.19223115027651316,
            -0.33831303764187154,
            -0.33831303764187154,
            0.2773791523421244,
            -0.17225230391625093,
            1.7805188080706722,
            0.3212037185517318,
            1.6215473424083708,
            0.14955750089743575,
            0.14955750089743575,
            -0.1146788541899038,
            0.249666559003696,
            -0.5374570223296469,
            1.3422731459745971,
            1.3620371660299104,
            -0.556791389775062,
            -0.556791389775062,
            -0.556791389775062,
            0.08296134636322822,
            0.016365191829020683,
            0.016365191829020683,
            -0.10092997067316417,
            -0.15227345755598867,
            -0.08911452390096597,
            -0.08911452390096597,
            0.012068665730039646,
            -0.7378899648471166,
            0.21572400282174511,
            -0.7772031786527939,
            -0.7772031786527939,
            0.04644087452188856,
            2.9500332122133357,
            -0.6912726566731713,
            -0.9290853762517768,
            -0.9290853762517768,
            0.32915229183484696,
            -0.31618592823211866,
            -0.1103823280909226,
            -0.18256396655380558,
            -0.4098501971899073,
            -0.41328741806909225,
            0.34977561710995625,
            0.34977561710995625,
            -0.12305708008291685,
            -0.12305708008291685,
            -0.10243375480780757,
            -0.10243375480780757,
            -0.10243375480780757,
            -0.5396052853791374,
            0.8219638353879825,
            2.5349887910517586,
            -0.17354126174594517,
            6.445686846344383,
            -0.6611969739803034,
            0.014002102474581075,
            1.4980222170626634,
            -0.2431449845494395,
            -0.6562559689664751,
            -0.6562559689664751,
            -0.2884733348936904,
            -0.2884733348936904,
            -0.1834232717736018,
            -0.1834232717736018,
            -0.40340540804143565,
            -0.5488428164919469,
            -0.30458530776486964,
            -0.6949247038573053,
            -0.6949247038573053,
            0.06126388956337356,
            -0.47537222019936953,
            -0.49126936676559974,
            0.6236791559200032,
            5.090347688420785,
            -0.14690279993226227,
            -0.07815838234856413,
            0.017439323353766058,
            -0.03476346874885466,
            -0.21736582795555268,
            0.9023088734389295,
            1.2114439262606218,
            5.491428399760674,
            0.06126388956337356,
            -0.9161957979548334,
            -0.04013412637258107,
            -0.1561403310450717,
            -0.6072755714380902,
            3.676575775551045,
            0.017439323353766058,
            0.017439323353766058,
            0.017439323353766058,
            -0.8816087628580354,
            -0.5628065263136355,
            -0.5628065263136355,
            -0.5628065263136355,
            2.087720424147823,
            -0.6034086979490072,
            -0.44551136381145073,
            -0.7984709828427505,
            -0.16344442541333953,
            -0.7482016274846712,
            2.7053460508763605,
            1.7815929395954175
           ]
          },
          {
           "label": "year",
           "values": [
            2006,
            2008,
            2011,
            2007,
            2009,
            2008,
            2002,
            2008,
            2010,
            2010,
            2009,
            2008,
            1996,
            2001,
            2009,
            1995,
            1996,
            2004,
            2002,
            2007,
            2009,
            2009,
            2009,
            2008,
            2013,
            2010,
            2012,
            2000,
            2006,
            2009,
            2003,
            2007,
            2013,
            1997,
            1996,
            2013,
            1996,
            1999,
            1999,
            2010,
            2008,
            2009,
            2009,
            2013,
            2013,
            2009,
            2013,
            1999,
            2013,
            2013,
            2013,
            2009,
            2007,
            2011,
            2013,
            2011,
            2005,
            2005,
            2005,
            2005,
            2009,
            2011,
            2011,
            2013,
            2013,
            2013,
            2013,
            2007,
            2010,
            2012,
            2012,
            2008,
            2006,
            1998,
            2000,
            2005,
            2010,
            2000,
            2010,
            2009,
            2010,
            2011,
            2001,
            2012,
            2009,
            2011,
            2011,
            2010,
            2002,
            2005,
            2013,
            2003,
            2007,
            2001,
            2005,
            2001,
            2009,
            2012,
            2012,
            2007,
            2009,
            2011,
            2003,
            2009,
            2011,
            2011,
            2011,
            2008,
            2010,
            2002,
            2009,
            2009,
            2009,
            2010,
            2010,
            2010,
            2010,
            2010,
            2010,
            2006,
            1999,
            2007,
            2008,
            2005,
            2005,
            2008,
            2000,
            2002,
            2005,
            2011,
            2011,
            2013,
            2013,
            2009,
            2000,
            2008,
            2009,
            2009,
            2011,
            2003,
            2011,
            2011,
            2002,
            2011,
            2011,
            2011,
            2011,
            2011,
            2006,
            2008,
            2011,
            2011,
            2006,
            2001,
            2011,
            2003,
            2006,
            2010,
            2000,
            2012,
            2005,
            2010,
            2001,
            2011,
            2002,
            2009,
            2011,
            2010,
            2011,
            2011,
            2011,
            2011,
            2006,
            2009,
            2009,
            2005,
            2002,
            2002,
            2005,
            2001,
            2004,
            2012,
            2011,
            2011,
            2011,
            2000,
            2000,
            2009,
            2011,
            2008,
            2008,
            2008,
            2012,
            2012,
            2012,
            2002,
            2004,
            2003,
            2013,
            2013,
            2010,
            2008,
            2007,
            2010,
            2011,
            2008,
            2008,
            2004,
            2008,
            2000,
            2008,
            2008,
            2002,
            2008,
            2008,
            2002,
            2005,
            2002,
            2011,
            2011,
            2000,
            2003,
            2008,
            2008,
            2005,
            2006,
            2009,
            2003,
            2011,
            2012,
            2005,
            2001,
            2006,
            2006,
            2006,
            2003,
            2002,
            2008,
            2003,
            2002,
            2005,
            2008,
            2003,
            2003,
            2007,
            1999,
            2007,
            2002,
            2011,
            2005,
            2007,
            2011,
            2002,
            2009,
            2011,
            2006,
            2009,
            2009,
            2009,
            2004,
            2009,
            1999,
            2009,
            2000,
            2005,
            2011,
            2011,
            2009,
            2011,
            2009,
            2011,
            2011,
            2011,
            2010,
            2011,
            2012,
            2005,
            2004,
            2010,
            2011,
            2011,
            2007,
            2005,
            2005,
            2006,
            2008,
            2008,
            2010,
            2011,
            2010,
            2009,
            2013,
            2009,
            2003,
            2002,
            2011,
            2012,
            2005,
            2002,
            2011,
            2002,
            2005,
            2010,
            2013,
            2013,
            2005,
            2009,
            2003,
            2013,
            2010,
            2010,
            2003,
            2014,
            1989,
            2001,
            2002,
            2011,
            2004,
            2004,
            2005,
            2013,
            2003,
            2003,
            2007,
            2009,
            2009,
            2009,
            2009,
            2011,
            2002,
            2005,
            2009,
            1999,
            2011,
            2008,
            2007,
            2011,
            2011,
            2011,
            1999,
            2009,
            2011,
            2011,
            2011,
            2009,
            2011,
            2011,
            2011,
            2011,
            2008,
            2002,
            2005,
            2011,
            2003,
            2008,
            2010,
            2008,
            2009,
            2009,
            2003,
            2009,
            2009,
            2005,
            2009,
            2011,
            2009,
            2011,
            2008,
            2011,
            2006,
            2008,
            2004,
            2014,
            2007,
            2007,
            2011,
            2009,
            2010,
            2007,
            2011,
            2011,
            2013,
            2013,
            2006,
            2012,
            2004,
            2002,
            2010,
            2010,
            2010,
            2009,
            2005,
            2012,
            2007,
            1998,
            2000,
            2002,
            2000,
            2003,
            2007,
            2009,
            2008,
            2009,
            2007,
            1999,
            2010,
            2001,
            2008,
            2000,
            2009,
            2009,
            2008,
            2008,
            2008,
            2009,
            2004,
            2008,
            2006,
            2006,
            1998,
            1999,
            2004,
            2011,
            2002,
            2003,
            2005,
            2007,
            2009,
            1999,
            2011,
            2011,
            2007,
            1999,
            2002,
            2012,
            2007,
            2011,
            2010,
            2010,
            2002,
            2004,
            2009,
            2011,
            2012,
            2011,
            2008,
            2009,
            2004,
            2012,
            1998,
            2005,
            2009,
            2001,
            2011,
            2011,
            2011,
            2011,
            2009,
            2009,
            2002,
            2002,
            2003,
            1998,
            2005,
            2010,
            2010,
            2012,
            2007,
            2012,
            2012,
            2011,
            2007,
            2011,
            1999,
            2006,
            2007,
            2011,
            2009,
            2008,
            2004,
            2009,
            2010,
            2010,
            2005,
            2006,
            2009,
            2010,
            2011,
            2011,
            2011,
            2013,
            2009,
            2002,
            2009,
            2013,
            1999,
            2013,
            2012
           ]
          },
          {
           "label": "number",
           "values": [
            1,
            1,
            1,
            1,
            1,
            1,
            1,
            1,
            2,
            2,
            1,
            1,
            3,
            3,
            3,
            1,
            5,
            5,
            5,
            5,
            3,
            3,
            3,
            1,
            1,
            1,
            1,
            1,
            1,
            1,
            1,
            1,
            1,
            1,
            1,
            1,
            4,
            4,
            4,
            4,
            1,
            2,
            2,
            2,
            2,
            1,
            1,
            1,
            3,
            3,
            3,
            1,
            2,
            2,
            1,
            1,
            4,
            4,
            4,
            4,
            1,
            6,
            6,
            6,
            6,
            6,
            6,
            1,
            3,
            3,
            3,
            1,
            1,
            4,
            4,
            4,
            4,
            1,
            1,
            2,
            2,
            2,
            2,
            2,
            2,
            2,
            1,
            1,
            1,
            1,
            1,
            1,
            1,
            1,
            1,
            1,
            1,
            2,
            2,
            1,
            1,
            1,
            1,
            1,
            1,
            2,
            2,
            1,
            1,
            1,
            1,
            2,
            2,
            6,
            6,
            6,
            6,
            6,
            6,
            1,
            1,
            2,
            2,
            1,
            2,
            2,
            2,
            2,
            1,
            2,
            2,
            2,
            2,
            1,
            1,
            1,
            1,
            1,
            1,
            1,
            2,
            2,
            1,
            3,
            3,
            3,
            2,
            2,
            1,
            1,
            2,
            2,
            1,
            1,
            1,
            1,
            1,
            1,
            1,
            1,
            1,
            1,
            1,
            1,
            1,
            1,
            1,
            1,
            3,
            3,
            3,
            1,
            1,
            1,
            1,
            1,
            3,
            3,
            3,
            1,
            2,
            2,
            3,
            3,
            3,
            2,
            2,
            1,
            1,
            6,
            6,
            6,
            6,
            6,
            6,
            1,
            1,
            1,
            2,
            2,
            1,
            1,
            1,
            1,
            1,
            2,
            2,
            1,
            1,
            1,
            2,
            2,
            2,
            2,
            1,
            1,
            1,
            1,
            2,
            2,
            1,
            1,
            2,
            2,
            1,
            1,
            1,
            2,
            2,
            1,
            1,
            1,
            3,
            3,
            3,
            1,
            1,
            1,
            1,
            2,
            2,
            1,
            3,
            3,
            3,
            1,
            1,
            1,
            1,
            1,
            1,
            1,
            1,
            1,
            1,
            1,
            1,
            1,
            1,
            1,
            1,
            1,
            1,
            1,
            1,
            2,
            2,
            1,
            1,
            1,
            1,
            2,
            2,
            1,
            1,
            1,
            1,
            2,
            2,
            1,
            1,
            1,
            1,
            1,
            1,
            2,
            2,
            1,
            1,
            1,
            1,
            1,
            1,
            1,
            1,
            1,
            1,
            1,
            1,
            1,
            2,
            2,
            1,
            2,
            2,
            1,
            1,
            1,
            1,
            2,
            2,
            2,
            1,
            1,
            1,
            1,
            1,
            1,
            1,
            1,
            1,
            1,
            1,
            3,
            3,
            3,
            1,
            1,
            1,
            2,
            2,
            1,
            1,
            1,
            1,
            1,
            1,
            2,
            2,
            2,
            2,
            3,
            3,
            3,
            1,
            3,
            3,
            3,
            1,
            1,
            1,
            1,
            1,
            1,
            1,
            1,
            1,
            2,
            2,
            1,
            1,
            1,
            1,
            1,
            1,
            1,
            1,
            1,
            1,
            1,
            1,
            2,
            2,
            2,
            2,
            1,
            1,
            1,
            1,
            1,
            1,
            2,
            2,
            2,
            2,
            4,
            1,
            2,
            2,
            1,
            1,
            1,
            1,
            1,
            2,
            2,
            1,
            2,
            2,
            1,
            1,
            1,
            1,
            1,
            2,
            2,
            1,
            1,
            1,
            1,
            1,
            3,
            3,
            3,
            1,
            2,
            2,
            1,
            1,
            2,
            2,
            1,
            1,
            1,
            2,
            2,
            1,
            1,
            1,
            2,
            2,
            1,
            1,
            1,
            1,
            1,
            1,
            2,
            2,
            2,
            2,
            3,
            3,
            3,
            1,
            1,
            1,
            1,
            1,
            1,
            1,
            1,
            1,
            2,
            2,
            2,
            2,
            2,
            2,
            1,
            1,
            1,
            2,
            2,
            1,
            1,
            1,
            1,
            1,
            1,
            1,
            1,
            1,
            1,
            1,
            1,
            1,
            1,
            1,
            1,
            2,
            1,
            1,
            3,
            3,
            3,
            1,
            3,
            3,
            3,
            1,
            1,
            1,
            1,
            1,
            1,
            1,
            3
           ]
          }
         ],
         "domain": {
          "x": [
           0,
           1
          ],
          "y": [
           0,
           1
          ]
         },
         "name": "",
         "type": "parcoords"
        }
       ],
       "layout": {
        "legend": {
         "tracegroupgap": 0
        },
        "margin": {
         "t": 60
        },
        "template": {
         "data": {
          "bar": [
           {
            "error_x": {
             "color": "#2a3f5f"
            },
            "error_y": {
             "color": "#2a3f5f"
            },
            "marker": {
             "line": {
              "color": "#E5ECF6",
              "width": 0.5
             },
             "pattern": {
              "fillmode": "overlay",
              "size": 10,
              "solidity": 0.2
             }
            },
            "type": "bar"
           }
          ],
          "barpolar": [
           {
            "marker": {
             "line": {
              "color": "#E5ECF6",
              "width": 0.5
             },
             "pattern": {
              "fillmode": "overlay",
              "size": 10,
              "solidity": 0.2
             }
            },
            "type": "barpolar"
           }
          ],
          "carpet": [
           {
            "aaxis": {
             "endlinecolor": "#2a3f5f",
             "gridcolor": "white",
             "linecolor": "white",
             "minorgridcolor": "white",
             "startlinecolor": "#2a3f5f"
            },
            "baxis": {
             "endlinecolor": "#2a3f5f",
             "gridcolor": "white",
             "linecolor": "white",
             "minorgridcolor": "white",
             "startlinecolor": "#2a3f5f"
            },
            "type": "carpet"
           }
          ],
          "choropleth": [
           {
            "colorbar": {
             "outlinewidth": 0,
             "ticks": ""
            },
            "type": "choropleth"
           }
          ],
          "contour": [
           {
            "colorbar": {
             "outlinewidth": 0,
             "ticks": ""
            },
            "colorscale": [
             [
              0,
              "#0d0887"
             ],
             [
              0.1111111111111111,
              "#46039f"
             ],
             [
              0.2222222222222222,
              "#7201a8"
             ],
             [
              0.3333333333333333,
              "#9c179e"
             ],
             [
              0.4444444444444444,
              "#bd3786"
             ],
             [
              0.5555555555555556,
              "#d8576b"
             ],
             [
              0.6666666666666666,
              "#ed7953"
             ],
             [
              0.7777777777777778,
              "#fb9f3a"
             ],
             [
              0.8888888888888888,
              "#fdca26"
             ],
             [
              1,
              "#f0f921"
             ]
            ],
            "type": "contour"
           }
          ],
          "contourcarpet": [
           {
            "colorbar": {
             "outlinewidth": 0,
             "ticks": ""
            },
            "type": "contourcarpet"
           }
          ],
          "heatmap": [
           {
            "colorbar": {
             "outlinewidth": 0,
             "ticks": ""
            },
            "colorscale": [
             [
              0,
              "#0d0887"
             ],
             [
              0.1111111111111111,
              "#46039f"
             ],
             [
              0.2222222222222222,
              "#7201a8"
             ],
             [
              0.3333333333333333,
              "#9c179e"
             ],
             [
              0.4444444444444444,
              "#bd3786"
             ],
             [
              0.5555555555555556,
              "#d8576b"
             ],
             [
              0.6666666666666666,
              "#ed7953"
             ],
             [
              0.7777777777777778,
              "#fb9f3a"
             ],
             [
              0.8888888888888888,
              "#fdca26"
             ],
             [
              1,
              "#f0f921"
             ]
            ],
            "type": "heatmap"
           }
          ],
          "heatmapgl": [
           {
            "colorbar": {
             "outlinewidth": 0,
             "ticks": ""
            },
            "colorscale": [
             [
              0,
              "#0d0887"
             ],
             [
              0.1111111111111111,
              "#46039f"
             ],
             [
              0.2222222222222222,
              "#7201a8"
             ],
             [
              0.3333333333333333,
              "#9c179e"
             ],
             [
              0.4444444444444444,
              "#bd3786"
             ],
             [
              0.5555555555555556,
              "#d8576b"
             ],
             [
              0.6666666666666666,
              "#ed7953"
             ],
             [
              0.7777777777777778,
              "#fb9f3a"
             ],
             [
              0.8888888888888888,
              "#fdca26"
             ],
             [
              1,
              "#f0f921"
             ]
            ],
            "type": "heatmapgl"
           }
          ],
          "histogram": [
           {
            "marker": {
             "pattern": {
              "fillmode": "overlay",
              "size": 10,
              "solidity": 0.2
             }
            },
            "type": "histogram"
           }
          ],
          "histogram2d": [
           {
            "colorbar": {
             "outlinewidth": 0,
             "ticks": ""
            },
            "colorscale": [
             [
              0,
              "#0d0887"
             ],
             [
              0.1111111111111111,
              "#46039f"
             ],
             [
              0.2222222222222222,
              "#7201a8"
             ],
             [
              0.3333333333333333,
              "#9c179e"
             ],
             [
              0.4444444444444444,
              "#bd3786"
             ],
             [
              0.5555555555555556,
              "#d8576b"
             ],
             [
              0.6666666666666666,
              "#ed7953"
             ],
             [
              0.7777777777777778,
              "#fb9f3a"
             ],
             [
              0.8888888888888888,
              "#fdca26"
             ],
             [
              1,
              "#f0f921"
             ]
            ],
            "type": "histogram2d"
           }
          ],
          "histogram2dcontour": [
           {
            "colorbar": {
             "outlinewidth": 0,
             "ticks": ""
            },
            "colorscale": [
             [
              0,
              "#0d0887"
             ],
             [
              0.1111111111111111,
              "#46039f"
             ],
             [
              0.2222222222222222,
              "#7201a8"
             ],
             [
              0.3333333333333333,
              "#9c179e"
             ],
             [
              0.4444444444444444,
              "#bd3786"
             ],
             [
              0.5555555555555556,
              "#d8576b"
             ],
             [
              0.6666666666666666,
              "#ed7953"
             ],
             [
              0.7777777777777778,
              "#fb9f3a"
             ],
             [
              0.8888888888888888,
              "#fdca26"
             ],
             [
              1,
              "#f0f921"
             ]
            ],
            "type": "histogram2dcontour"
           }
          ],
          "mesh3d": [
           {
            "colorbar": {
             "outlinewidth": 0,
             "ticks": ""
            },
            "type": "mesh3d"
           }
          ],
          "parcoords": [
           {
            "line": {
             "colorbar": {
              "outlinewidth": 0,
              "ticks": ""
             }
            },
            "type": "parcoords"
           }
          ],
          "pie": [
           {
            "automargin": true,
            "type": "pie"
           }
          ],
          "scatter": [
           {
            "fillpattern": {
             "fillmode": "overlay",
             "size": 10,
             "solidity": 0.2
            },
            "type": "scatter"
           }
          ],
          "scatter3d": [
           {
            "line": {
             "colorbar": {
              "outlinewidth": 0,
              "ticks": ""
             }
            },
            "marker": {
             "colorbar": {
              "outlinewidth": 0,
              "ticks": ""
             }
            },
            "type": "scatter3d"
           }
          ],
          "scattercarpet": [
           {
            "marker": {
             "colorbar": {
              "outlinewidth": 0,
              "ticks": ""
             }
            },
            "type": "scattercarpet"
           }
          ],
          "scattergeo": [
           {
            "marker": {
             "colorbar": {
              "outlinewidth": 0,
              "ticks": ""
             }
            },
            "type": "scattergeo"
           }
          ],
          "scattergl": [
           {
            "marker": {
             "colorbar": {
              "outlinewidth": 0,
              "ticks": ""
             }
            },
            "type": "scattergl"
           }
          ],
          "scattermapbox": [
           {
            "marker": {
             "colorbar": {
              "outlinewidth": 0,
              "ticks": ""
             }
            },
            "type": "scattermapbox"
           }
          ],
          "scatterpolar": [
           {
            "marker": {
             "colorbar": {
              "outlinewidth": 0,
              "ticks": ""
             }
            },
            "type": "scatterpolar"
           }
          ],
          "scatterpolargl": [
           {
            "marker": {
             "colorbar": {
              "outlinewidth": 0,
              "ticks": ""
             }
            },
            "type": "scatterpolargl"
           }
          ],
          "scatterternary": [
           {
            "marker": {
             "colorbar": {
              "outlinewidth": 0,
              "ticks": ""
             }
            },
            "type": "scatterternary"
           }
          ],
          "surface": [
           {
            "colorbar": {
             "outlinewidth": 0,
             "ticks": ""
            },
            "colorscale": [
             [
              0,
              "#0d0887"
             ],
             [
              0.1111111111111111,
              "#46039f"
             ],
             [
              0.2222222222222222,
              "#7201a8"
             ],
             [
              0.3333333333333333,
              "#9c179e"
             ],
             [
              0.4444444444444444,
              "#bd3786"
             ],
             [
              0.5555555555555556,
              "#d8576b"
             ],
             [
              0.6666666666666666,
              "#ed7953"
             ],
             [
              0.7777777777777778,
              "#fb9f3a"
             ],
             [
              0.8888888888888888,
              "#fdca26"
             ],
             [
              1,
              "#f0f921"
             ]
            ],
            "type": "surface"
           }
          ],
          "table": [
           {
            "cells": {
             "fill": {
              "color": "#EBF0F8"
             },
             "line": {
              "color": "white"
             }
            },
            "header": {
             "fill": {
              "color": "#C8D4E3"
             },
             "line": {
              "color": "white"
             }
            },
            "type": "table"
           }
          ]
         },
         "layout": {
          "annotationdefaults": {
           "arrowcolor": "#2a3f5f",
           "arrowhead": 0,
           "arrowwidth": 1
          },
          "autotypenumbers": "strict",
          "coloraxis": {
           "colorbar": {
            "outlinewidth": 0,
            "ticks": ""
           }
          },
          "colorscale": {
           "diverging": [
            [
             0,
             "#8e0152"
            ],
            [
             0.1,
             "#c51b7d"
            ],
            [
             0.2,
             "#de77ae"
            ],
            [
             0.3,
             "#f1b6da"
            ],
            [
             0.4,
             "#fde0ef"
            ],
            [
             0.5,
             "#f7f7f7"
            ],
            [
             0.6,
             "#e6f5d0"
            ],
            [
             0.7,
             "#b8e186"
            ],
            [
             0.8,
             "#7fbc41"
            ],
            [
             0.9,
             "#4d9221"
            ],
            [
             1,
             "#276419"
            ]
           ],
           "sequential": [
            [
             0,
             "#0d0887"
            ],
            [
             0.1111111111111111,
             "#46039f"
            ],
            [
             0.2222222222222222,
             "#7201a8"
            ],
            [
             0.3333333333333333,
             "#9c179e"
            ],
            [
             0.4444444444444444,
             "#bd3786"
            ],
            [
             0.5555555555555556,
             "#d8576b"
            ],
            [
             0.6666666666666666,
             "#ed7953"
            ],
            [
             0.7777777777777778,
             "#fb9f3a"
            ],
            [
             0.8888888888888888,
             "#fdca26"
            ],
            [
             1,
             "#f0f921"
            ]
           ],
           "sequentialminus": [
            [
             0,
             "#0d0887"
            ],
            [
             0.1111111111111111,
             "#46039f"
            ],
            [
             0.2222222222222222,
             "#7201a8"
            ],
            [
             0.3333333333333333,
             "#9c179e"
            ],
            [
             0.4444444444444444,
             "#bd3786"
            ],
            [
             0.5555555555555556,
             "#d8576b"
            ],
            [
             0.6666666666666666,
             "#ed7953"
            ],
            [
             0.7777777777777778,
             "#fb9f3a"
            ],
            [
             0.8888888888888888,
             "#fdca26"
            ],
            [
             1,
             "#f0f921"
            ]
           ]
          },
          "colorway": [
           "#636efa",
           "#EF553B",
           "#00cc96",
           "#ab63fa",
           "#FFA15A",
           "#19d3f3",
           "#FF6692",
           "#B6E880",
           "#FF97FF",
           "#FECB52"
          ],
          "font": {
           "color": "#2a3f5f"
          },
          "geo": {
           "bgcolor": "white",
           "lakecolor": "white",
           "landcolor": "#E5ECF6",
           "showlakes": true,
           "showland": true,
           "subunitcolor": "white"
          },
          "hoverlabel": {
           "align": "left"
          },
          "hovermode": "closest",
          "mapbox": {
           "style": "light"
          },
          "paper_bgcolor": "white",
          "plot_bgcolor": "#E5ECF6",
          "polar": {
           "angularaxis": {
            "gridcolor": "white",
            "linecolor": "white",
            "ticks": ""
           },
           "bgcolor": "#E5ECF6",
           "radialaxis": {
            "gridcolor": "white",
            "linecolor": "white",
            "ticks": ""
           }
          },
          "scene": {
           "xaxis": {
            "backgroundcolor": "#E5ECF6",
            "gridcolor": "white",
            "gridwidth": 2,
            "linecolor": "white",
            "showbackground": true,
            "ticks": "",
            "zerolinecolor": "white"
           },
           "yaxis": {
            "backgroundcolor": "#E5ECF6",
            "gridcolor": "white",
            "gridwidth": 2,
            "linecolor": "white",
            "showbackground": true,
            "ticks": "",
            "zerolinecolor": "white"
           },
           "zaxis": {
            "backgroundcolor": "#E5ECF6",
            "gridcolor": "white",
            "gridwidth": 2,
            "linecolor": "white",
            "showbackground": true,
            "ticks": "",
            "zerolinecolor": "white"
           }
          },
          "shapedefaults": {
           "line": {
            "color": "#2a3f5f"
           }
          },
          "ternary": {
           "aaxis": {
            "gridcolor": "white",
            "linecolor": "white",
            "ticks": ""
           },
           "baxis": {
            "gridcolor": "white",
            "linecolor": "white",
            "ticks": ""
           },
           "bgcolor": "#E5ECF6",
           "caxis": {
            "gridcolor": "white",
            "linecolor": "white",
            "ticks": ""
           }
          },
          "title": {
           "x": 0.05
          },
          "xaxis": {
           "automargin": true,
           "gridcolor": "white",
           "linecolor": "white",
           "ticks": "",
           "title": {
            "standoff": 15
           },
           "zerolinecolor": "white",
           "zerolinewidth": 2
          },
          "yaxis": {
           "automargin": true,
           "gridcolor": "white",
           "linecolor": "white",
           "ticks": "",
           "title": {
            "standoff": 15
           },
           "zerolinecolor": "white",
           "zerolinewidth": 2
          }
         }
        }
       }
      }
     },
     "metadata": {},
     "output_type": "display_data"
    }
   ],
   "source": [
    "#multivariate\n",
    "fig = px.parallel_coordinates(df_planets_scale)\n",
    "fig.show()"
   ]
  },
  {
   "cell_type": "code",
   "execution_count": 35,
   "metadata": {},
   "outputs": [
    {
     "data": {
      "application/vnd.plotly.v1+json": {
       "config": {
        "plotlyServerURL": "https://plot.ly"
       },
       "data": [
        {
         "hovertemplate": "color=Radial Velocity<br>Principal Component 1=%{x}<br>Principal Component 2=%{y}<extra></extra>",
         "legendgroup": "Radial Velocity",
         "marker": {
          "color": "#636efa",
          "symbol": "circle"
         },
         "mode": "markers",
         "name": "Radial Velocity",
         "orientation": "v",
         "showlegend": true,
         "type": "scatter",
         "x": [
          1.0966317792025075,
          0.011743070618859342,
          -0.4078882664688047,
          3.981229121302162,
          2.367062769250364,
          0.6052906101669483,
          0.22423917237152705,
          1.8566981339851556,
          0.09061915517697113,
          -0.029218249033834683,
          1.1856106527965131,
          0.7583374139389576,
          -0.4177151812711371,
          -0.4928841794847677,
          2.5667628362760526,
          -1.0741231258715918,
          -1.0420800366194705,
          -1.1612914632186406,
          0.6990674033951665,
          -1.1068538325839012,
          -1.2515801426492021,
          -1.2351430607016265,
          -1.2113633473143184,
          1.155780509964143,
          -0.10544159516139179,
          -0.6560551498377626,
          -1.3450922695117462,
          -0.40208266889305166,
          0.8976003615687015,
          0.9778289471377255,
          -0.5995746525028854,
          0.021025036676104877,
          0.06393724648410723,
          -0.9260566094654558,
          -0.38849157710814947,
          3.9858828151160957,
          -1.0550191138761424,
          -0.739496968268311,
          -0.057789474555667214,
          -0.04057675572604411,
          0.28796430705255965,
          -0.8203262464625244,
          -0.7068006778079119,
          -1.1028208650757294,
          -1.0444741937867041,
          -0.371505164075864,
          1.1128491164887366,
          -0.44284885338822755,
          -1.1650308675723402,
          -1.1630706028882154,
          -1.0108588749238465,
          -0.48713159154615315,
          -0.6259131118718286,
          0.8831926111489089,
          0.3511324419229625,
          -1.243824294395623,
          -1.2732192296771208,
          -1.2777436390482233,
          -1.2635686297320987,
          -1.2823272538477122,
          -1.0212996025048107,
          -1.272233908647389,
          -1.2683063276712037,
          -1.2519821372942128,
          -1.2607607818876594,
          -1.2664399051348736,
          -1.2121148591946371,
          -1.2980821199468036,
          0.0835049391238747,
          -1.155754089685746,
          -1.143599671594362,
          -0.3379583316127016,
          -0.6200063609915072,
          -0.835951764515798,
          -1.1545548205124856,
          -1.2995187121800231,
          -1.2646138387654748,
          -0.4365789767393251,
          -1.107916300293887,
          4.478937283847561,
          1.819405274176073,
          4.046707680194082,
          -0.7044500972381473,
          1.4857862320094894,
          -1.0606550641906023,
          -1.059839032883854,
          1.4806822774525188,
          0.07051988126337251,
          1.0396174962158917,
          -0.5870483611756847,
          0.4902810269293424,
          -1.1621627269631427,
          -0.36627101773782983,
          -0.5874181658950949,
          -1.0750982333628298,
          0.13980893695049945,
          0.8457354793934404,
          -0.08797225305508714,
          0.4922700368450651,
          0.4542847919492436,
          -0.1084513471400396,
          2.1006947652736665,
          -0.7520610167316056,
          0.272249389202769,
          -0.7010851898330378,
          -0.34285358291711515,
          0.5123271987526977,
          -1.1435881244887582,
          -0.20349063298057632,
          -0.39049915423288506,
          2.349051451282953,
          -0.5476088550288994,
          -0.2846787836242985,
          -0.8552774029879234,
          -0.8532824744449113,
          -0.8367479022244902,
          -0.8200907575552069,
          -0.7042329762667248,
          -0.274064023680491,
          -0.7147362872495511,
          0.5486469370342221,
          0.31384313169973743,
          -0.47707348336365485,
          0.9549780485312587,
          -0.3336427460165197,
          -0.9083963080401266,
          -0.3706922701512091,
          -0.09280459717097672,
          5.34337984648002,
          -0.9915572063484867,
          -0.981159986382131,
          -0.33954720146208983,
          0.7330099119186122,
          0.6191527849170032,
          -0.8386597251239167,
          -1.0221717964641306,
          0.512753635891222,
          2.233965793565849,
          0.9824770537573828,
          -0.6933321522213387,
          -0.807694031437798,
          -0.8014418371827727,
          -0.684664502461205,
          -1.280778634334742,
          -1.2756349083730507,
          -1.2618512252771583,
          -0.894497460687906,
          -0.8784716477295026,
          -0.3842707155715176,
          -0.310582748092282,
          -0.9425595260878719,
          -0.9284429799924526,
          0.3608438763082487,
          -0.22497593324042353,
          1.8870032809119743,
          1.2120890765596433,
          0.921407678846748,
          -0.013273463973407717,
          -0.7740518348043907,
          0.02936022412376836,
          -0.6992157852570176,
          -0.1478971250160086,
          0.34516821473486475,
          1.2088667667990716,
          1.8455234527635702,
          -0.4710208886542495,
          0.7512142477188685,
          -0.46851088117386314,
          -0.8710514376995623,
          -0.8598640198402674,
          -0.804840125636519,
          0.7076152443744124,
          -0.19324889374220494,
          0.7667769689247063,
          -0.37969194676443613,
          0.8095302962143165,
          -0.7834461259267238,
          -0.24523905783361044,
          -0.6120647911816195,
          1.43341111747485,
          -0.34906718387720365,
          0.5152386199288433,
          -1.0359103250897237,
          -1.0324637792002689,
          -1.028089455870715,
          -0.6557343307847039,
          2.3623650287367597,
          2.1967841917641118,
          -1.0478940250580615,
          -1.1976506939059772,
          -1.1947192563325653,
          -1.1902611828093403,
          -1.190554853358236,
          -1.1852860713134856,
          -1.148383320029064,
          -0.07823227230198719,
          -0.07722733545610633,
          2.840653594665142,
          -0.6925179059676129,
          -0.6931244761897618,
          -0.4682176750323771,
          4.665259625234745,
          0.3216298682710018,
          -0.494039767880884,
          -1.0751699835474242,
          -0.8582920034882701,
          -0.7361752819260454,
          -0.16931898711723475,
          -0.8017271767826548,
          -0.8902477115310401,
          -0.8692076869307432,
          -0.48349778495304563,
          1.274371022188267,
          2.17915634902264,
          0.14559137883407103,
          -0.8237670131558132,
          0.20726326843637455,
          0.31819241181577546,
          -0.9205583462767475,
          -0.8976302713389659,
          -0.7540272844396586,
          0.927735081924294,
          -0.3604521367483905,
          0.596905717082795,
          -0.8339369814581652,
          -0.5108533278972045,
          -0.7355278489974736,
          -0.5219671956705362,
          -0.8417829203355457,
          0.9628802657550035,
          0.377731448509308,
          -0.23879431499057213,
          -1.1956879756051813,
          -1.1890914423865648,
          -1.1446340819759036,
          -0.05530133787558337,
          0.7418045382804472,
          0.22590486691512593,
          -0.5280944431282281,
          0.328852255535004,
          0.375383195554824,
          0.5340293227687262,
          -0.17492119585684332,
          1.6643613502644805,
          -0.3824227476923274,
          -0.9126768268885924,
          0.2590582702726457,
          -0.5674308823206795,
          0.00019399520926580266,
          0.6601379516949798,
          0.33687507273826,
          0.48902740665625555,
          -0.7320175763267105,
          -0.7145491476714189,
          -1.205940118404709,
          0.09007962099547809,
          -0.2277991976249105,
          1.3105097465774174,
          -0.10668224228693951,
          -0.3760611178151475,
          -0.09037802918962816,
          0.8740472609731129,
          -1.0604149918162817,
          -0.1058167242620372,
          -0.8888757694225008,
          -0.8167495827976989,
          -0.8076202445829315,
          0.8867135724155781,
          0.5857232213498607,
          -0.042021550037224166,
          2.393248264948501,
          -1.024123067159802,
          -0.9984823327134362,
          -1.0864477797866032,
          1.0061736964851749,
          1.743653891496083,
          -0.3905538820670094,
          -1.114366457735626,
          0.1517113108289324,
          0.7851376432943695,
          0.7972287688892421,
          -0.37009836451327266,
          -0.9004443784256446,
          -0.7924473348903122,
          -0.9060469077318769,
          1.9221916978218714,
          1.3608737062332357,
          -1.2068498536960288,
          1.7558652925780773,
          0.3623716050361516,
          -0.7077464819429131,
          -0.6169371992504745,
          -1.0493266646731332,
          1.6306295352202604,
          0.8633798340164295,
          2.6471934044894185,
          1.8990221367167994,
          -0.6609425931954336,
          -0.8207101726677416,
          1.016663089069297,
          -0.14190857765052511,
          0.0988045245256699,
          -0.3625935849941896,
          -0.6301713440569834,
          -0.620143918351584,
          -0.559072867983491,
          2.2864803012533765,
          0.6361501968230836,
          -0.24683555282331665,
          -1.0465473674133496,
          -0.6179468509220006,
          -0.5321982021683922,
          -0.07247815928822485,
          1.497129279593346,
          -0.7650805309091144,
          -0.45868918801151365,
          0.6194259178099848,
          0.06415816220247943,
          -0.8404293287058042,
          0.18374527697544765,
          1.278783327528181,
          -0.5432826566602273,
          1.1460497175980051,
          0.03977115065556837,
          -0.6820764211558376,
          1.4753916486080354,
          -1.005530907095415,
          -0.11807039771098957,
          -0.6052549950217023,
          -0.7539120642980299,
          -0.2824815448065655,
          0.26137418011692043,
          -0.7770345183258937,
          0.8274674637075087,
          3.4533830940021293,
          0.8908098839198121,
          0.558501146196285,
          -1.050064731066737,
          -0.7438334848879458,
          -0.6589867321880016,
          0.34768516169253055,
          -1.0141306002207642,
          -1.0007330622305797,
          -0.8864467898855235,
          0.4954878347062901,
          -1.1731675506883938,
          -1.1654276428076538,
          -1.1472224415791985,
          -0.7516067019206223,
          2.3927035588876384,
          1.1519768483200037,
          0.5780977147340683,
          0.6797718487357337,
          -0.5087049422722373,
          0.26797851496788777,
          0.8540389682935892,
          0.5079954268138657,
          -0.390087204459226,
          0.7300849230593556,
          -0.8304224372146958,
          -0.2713022850112144,
          -0.34064199972782006,
          -0.29372866693374383,
          2.6932427869704316,
          -0.6878289718294665,
          0.8256211840295511,
          1.4189196005524374,
          -0.040845817697048786,
          -1.1263344667534891,
          -0.1287562703222782,
          0.5095035573079859,
          0.050451462363235035,
          0.8627193583737923,
          -0.5972257550834121,
          -0.5548601036739833,
          1.0504126313872155,
          -0.3105181911773724,
          -1.0553967052694444,
          1.4502298127046067,
          -0.8901479825259035,
          0.5679226039688366,
          -0.2668874342136536,
          -0.05583092781418829,
          0.010542365689632023,
          -0.4644441170997452,
          0.2200550537867971,
          1.9025559523928393,
          -0.31249879138337733,
          0.29330769882341956,
          -0.5428660703558863,
          -0.19655107216104697,
          -0.7318280811388795,
          1.1423111330624756,
          -0.28892782633270403,
          0.7277286308944239,
          3.1493284926871374,
          -0.7702358452788407,
          -0.27487471460595325,
          0.4152250580631037,
          -0.12720394254341924,
          0.08464108607311052,
          0.9623156995069668,
          1.3543148181140499,
          0.4458632528514838,
          -0.21986578230162165,
          -0.5591184194739875,
          0.6458821714661356,
          -0.5376355880670712,
          -0.8311447316314389,
          0.5228757256377035,
          0.9181606234480296,
          -1.025493701923317,
          -0.6697016282965272,
          -0.39360340927529386,
          -0.34780911122689756,
          0.19551745868960327,
          0.7879468907909967,
          -0.5748829009807687,
          -0.40345185136115763,
          -0.6524917430256016,
          0.5716436449690484,
          -0.3345323195537195,
          -1.129500680120861,
          0.8820013590820445,
          -0.1560219412487272,
          -1.1469257536763533,
          -0.04449552862523162,
          2.8473430362240815,
          -0.9624339598794307,
          -1.223126563392772,
          -1.1083235146458905,
          0.07370740157219839,
          -0.14923964687812308,
          0.14354304555055233,
          1.4524889231953253,
          -0.10589120582998451,
          -0.5371961588461608,
          0.020562500510983395,
          -0.11799363437063949,
          2.751631488868363,
          0.047620071126387276,
          0.5144365083538067,
          -0.7453914417306116,
          0.2626856326663637,
          -0.5454474442640336,
          0.12160181259169493,
          1.3775553949822057,
          -0.6868720471183426,
          5.281654323681114,
          -0.7409183755294066,
          -0.6058548016645077,
          0.7282644203217725,
          0.28137100794720044,
          -1.0876486253996465,
          -1.0865727621755534,
          -0.8072644998513528,
          -0.2683008737123785,
          -0.8080755545593525,
          -0.6079790393280734,
          -0.370402248982598,
          -0.2929801482743229,
          -0.7253994427624372,
          -0.8353439345234439,
          0.4485521014762381,
          2.2439498200870536,
          -0.8874850261501737,
          2.4214383115158187,
          -0.32373849422440865,
          4.671932685690543,
          -0.03934013484764058,
          0.44967290023282425,
          0.033059748919495924,
          0.6319946254983294,
          0.8513027511279269,
          -0.02440960829386415,
          0.2596304520074521,
          3.7710892291037563,
          0.4354209115889723,
          -1.236973178150096,
          -0.5757456027769365,
          -0.42891492687257077,
          -0.9547257217943793,
          1.7160360924492588,
          0.08046970010877004,
          -0.4029108745353393,
          -0.34757601465036786,
          -1.1545255874175129,
          -1.026912732016301,
          -0.9465707363960993,
          -0.825489603314557,
          2.385468951751382,
          4.974166617764418,
          0.9149475194689292,
          -0.729379077005976,
          -0.5866770772262221,
          -0.6827871927531203,
          0.6764985616147646
         ],
         "xaxis": "x",
         "y": [
          -0.5717305337267153,
          -0.039525603438916694,
          0.3444310376948806,
          -0.7990557669519919,
          -0.8961836754115128,
          -0.6325266365127272,
          0.959095114476656,
          -0.07506755230425062,
          -0.49366485438593866,
          -0.2628078447837167,
          -0.0504011787061971,
          -0.7261201950977573,
          0.5906443089465884,
          1.3114861978401897,
          7.894248397473274,
          -0.05518720032247185,
          -0.01186416961103604,
          -0.0021143745468443064,
          2.78819245869048,
          0.12065912694564,
          0.02135161962701491,
          0.04093869181183609,
          0.08919991495392593,
          -0.4411051470106726,
          -0.28446528636649515,
          0.11482225083651648,
          0.10622474441829345,
          1.515151473655501,
          -0.025445289089742505,
          0.0010591801025148766,
          0.4876700153294767,
          -0.5187333563743494,
          -0.66617958318852,
          -0.05340946835761389,
          -0.02038492063712146,
          -0.5811849579753054,
          -0.03001209489536657,
          0.11830740361272124,
          0.7280749193903188,
          2.149530509644128,
          0.1002745815590943,
          -0.37815962246165813,
          -0.24369924120668526,
          -0.11691302565156848,
          -0.04624391837275408,
          -0.30802002872659473,
          -1.883040854398647,
          0.04274213139844317,
          -0.052910859594172174,
          -0.04343086250781687,
          0.2839247047728069,
          1.279709150628311,
          0.35295501894462283,
          3.975881220570884,
          2.227185317656636,
          0.016954197926614685,
          0.04922317673423458,
          0.05314508236156886,
          0.08368554112302255,
          0.047488304035074674,
          0.33953094119973176,
          0.043589450841038116,
          0.055372053580919824,
          0.09133343143562894,
          0.07462422853242133,
          0.06148773765568296,
          0.18445042370822626,
          0.06933078022242564,
          0.5774620113675574,
          -0.06983498067616122,
          -0.05161169999194364,
          2.001708894798513,
          1.0700022018639885,
          0.12430896030711154,
          0.08935746712009024,
          0.06570582574878882,
          0.13520480963270837,
          0.023394587793964146,
          -0.11408302913399199,
          -2.0215717507588766,
          2.2442054514822902,
          -3.48789518519596,
          0.02629597739428567,
          3.2716684163321266,
          -0.1557302442558604,
          -0.1514147916633231,
          -1.5995674796684913,
          0.40637542314724123,
          -0.22776234965535122,
          -0.5132048546563633,
          -1.0602769994368932,
          0.02563883602479639,
          -0.08983565153950875,
          0.20826002692782403,
          -0.13100545650165044,
          -0.5407715058016145,
          -1.2206818729403783,
          -0.3235636194618333,
          1.0186061514285036,
          -0.669333197036358,
          -0.053842332428054133,
          -1.491884936678475,
          -0.3428597179158196,
          0.8948180126741893,
          0.043529745649783104,
          0.3946438368462195,
          1.972629492026352,
          -0.07688487007226932,
          0.19814015762633386,
          -0.25790653854384865,
          0.7467131651833011,
          -0.48543413750202413,
          -0.3808046403610557,
          -0.3458925631709041,
          -0.3399292357581102,
          -0.32056626333482546,
          -0.2793386582521468,
          -0.00819851714543916,
          0.9247880014798349,
          0.4836585542150035,
          0.40951557354336077,
          0.23529481062459587,
          -0.4162210474485024,
          -0.1978185576410691,
          0.822531369995481,
          -0.2627161124755186,
          -0.14871231309485639,
          0.6649255272744342,
          -3.0404370699195025,
          -0.21245531498413817,
          -0.18997892491182286,
          -0.657184871008145,
          -0.09380342998620772,
          1.985088591210649,
          -0.2624452373407103,
          -0.17379410475331994,
          0.015585566062436603,
          -0.05588874668137835,
          -0.9386909918255256,
          0.13246270113020978,
          -0.38651807299765445,
          -0.3740342686099859,
          0.09156227924081231,
          0.05860425062971676,
          0.07092942968539549,
          0.0994182077665627,
          -0.2909224546100079,
          -0.2591132287863398,
          0.04672128331783989,
          -0.1729052589139633,
          -0.2519377726631738,
          -0.2339057148682391,
          -0.23950109559660204,
          0.15451195826975883,
          0.19196737837501354,
          0.4694969286702129,
          1.6857631837934297,
          0.506217190611601,
          0.15689575348607104,
          0.8545618236057647,
          -0.36808409937591496,
          0.09503962107911848,
          -0.07099307469687587,
          -1.6574036218843164,
          1.1653170417566827,
          0.4754882120157096,
          -0.7882229767759278,
          -0.25254067222856735,
          -0.32337239107696064,
          -0.30356424298168383,
          -0.17723157234504588,
          -1.3127814656259458,
          -0.9023820320563557,
          -1.157193944045511,
          0.18573846679838416,
          0.19102439000633575,
          -0.18201382351371098,
          1.0301021866953943,
          0.20811719855485686,
          1.1863280572306738,
          -0.33451344578145836,
          1.1854487471888562,
          -0.18160213799378466,
          -0.17677711030489904,
          -0.16553476155766758,
          -0.3684437659730946,
          0.9742667412563362,
          -0.5525393781144328,
          0.16624535301804202,
          -0.030065918467873768,
          -0.02697192558147134,
          -0.0207512870434156,
          -0.012933020875219413,
          -0.0031735728890756715,
          0.07953422383955823,
          -0.08314219488044794,
          0.1801949184493584,
          -0.18766728021521287,
          -0.48962952423497896,
          -0.4856373166764185,
          -0.34299813609841123,
          1.29851577234196,
          -0.9431149431885945,
          -0.20779859069913673,
          -0.1387798863025957,
          -0.13783739868339015,
          -0.06699656520401083,
          0.060312646800819,
          -0.2809155607622452,
          -0.2737594526288477,
          -0.3280014421678984,
          0.4387784501907745,
          -1.02879539324754,
          0.16486838297205655,
          -0.5136279959655254,
          -0.36152128085424134,
          1.0370357706507618,
          0.5285095225439526,
          -0.27769861457140743,
          -0.23149725423952724,
          -0.13461256519313655,
          -0.7535877197632311,
          -0.0368795860041584,
          0.24042935860405387,
          -0.3009386877001107,
          0.3630419317420125,
          -0.0591001293062807,
          0.03368889062685858,
          -0.21601211430962142,
          -0.49621244193143454,
          0.6115342863376064,
          -0.5567663645175164,
          -0.02439095802972518,
          -0.01138042031080732,
          0.0824626398473189,
          1.0620193593660128,
          1.4570267413793558,
          0.2344788732301328,
          -0.2930858553811032,
          -0.8766342396672677,
          -0.76900261371932,
          -0.005590068999218335,
          -0.6007066602509877,
          0.8392375522072298,
          -0.44943514450374067,
          -0.21823547875028768,
          -0.5765488663922975,
          -0.5875426913612479,
          0.6675199154195022,
          0.37516344664198586,
          -0.7986033876178014,
          -0.8054362513175415,
          -0.3928693033142327,
          0.1625810323856112,
          0.020593216793959247,
          -0.94950344743199,
          0.5829418411336276,
          0.16708528419460322,
          1.4832191707879832,
          -0.7637436047537823,
          0.9923934308023242,
          -0.10551111051220406,
          -0.11435452173227481,
          -0.03786737273672304,
          -0.139051358522748,
          -0.37920665030042966,
          -0.3605622350956578,
          -1.357759964890071,
          -1.249978849553638,
          -0.5924383619082667,
          -2.1089165673251746,
          -0.1874064132707754,
          -0.13331176416565546,
          -0.12806377650588668,
          -1.4068556865753752,
          2.487506717283189,
          -0.34686806996880953,
          -0.0836052632427012,
          2.722241393960279,
          -0.9347677242048522,
          -1.4523094927451043,
          -0.2795887209076075,
          -0.20030283224701578,
          -0.36706188792667427,
          -0.2180369844339862,
          -1.7011499145647142,
          -1.5158443510068147,
          0.07984754997501395,
          -1.026330439952967,
          -1.3099930974614,
          -0.44006698292415075,
          -0.5055623229086675,
          -0.09434592251386958,
          -0.8919085457153066,
          0.6171185687146776,
          0.8297846207439239,
          1.8477676789401851,
          -0.46172940652819916,
          -0.3306288338837922,
          -1.2524923204501228,
          -0.4591315708474393,
          0.23254853068022532,
          -0.6154221005575985,
          -0.553762107484921,
          -0.5404588144215199,
          -0.5779043671847256,
          -0.44867182995413796,
          0.4983712864235845,
          -0.11122752831625313,
          0.08498961992030724,
          0.878567020967058,
          0.33028474239299477,
          2.0470545674869,
          -0.18611250526034445,
          0.168287905934333,
          0.3437608275964407,
          -0.7971174165917181,
          1.2170784336410165,
          -0.31666129903946183,
          -0.909315843880694,
          0.18331090013300713,
          -0.3596114182354165,
          -1.2321126950143948,
          -0.16002417770890764,
          -0.5070018174292696,
          1.2723906845310902,
          -0.2011879348650907,
          0.012984092828540416,
          0.2054063177275136,
          0.19589864691771366,
          0.48157830356743403,
          0.3726734390514183,
          -0.2170413117272786,
          -0.8036387780013878,
          0.7439536715837223,
          -0.11281339871771252,
          -0.16492840479775955,
          -0.16549584828995897,
          0.4908791252728756,
          -0.021820283540318477,
          2.652929070793129,
          -0.1935117300022939,
          -0.16656808100740392,
          0.060562315981984985,
          -0.8640348545193477,
          -0.046555858124397304,
          -0.03728496924566867,
          0.007433554409152553,
          -0.14916415368088246,
          -0.5820851022863902,
          0.1988584374556029,
          0.8402381197826084,
          -0.39280326170906343,
          -0.055439970103203264,
          0.04508924722733752,
          -1.2523195818236483,
          -0.41517658040098526,
          -0.3402229581873129,
          0.25461657911535157,
          0.27936910241225554,
          0.07800947919394607,
          -0.3886869523134716,
          -0.6200938689712289,
          -0.618579655665705,
          0.39001639449092235,
          0.3240242301128238,
          -1.654670295635844,
          -0.185528520794646,
          -0.08456083882183077,
          1.806681449457011,
          -0.5159931486097078,
          -0.44130590070351866,
          1.28470064913447,
          -0.27804299323750364,
          -0.1665579852488405,
          -0.11931273980917946,
          -0.0522577777055582,
          -0.16377026844158574,
          -0.14308311236406662,
          -0.21841548014512022,
          -0.9269026544135224,
          -0.6783469637761746,
          -0.5363449774038158,
          0.1815469717063998,
          -0.301192747510371,
          2.3383280258978747,
          -0.08741155492822711,
          -0.6570367347328677,
          0.0608643358074381,
          -0.332673272478187,
          0.04044779817931472,
          0.5164842455962161,
          2.5576719208782226,
          -0.2191814203489955,
          -0.209366130396868,
          0.8600511291260954,
          -0.387936272871231,
          -0.15321529286042185,
          0.9215245248080588,
          0.00040865823613707854,
          0.4855872686227848,
          -1.276806574165366,
          0.1375403483825687,
          -1.2266602982735626,
          -0.3373015962703128,
          -0.5195608992375457,
          -0.31844171937037624,
          -0.6305172552010895,
          -0.19001301189735215,
          -0.9576712720841563,
          -0.8455904621919816,
          -0.18603500276754334,
          0.3599071170161931,
          1.043515940206418,
          -0.001884700441460106,
          -0.10999277796804613,
          1.2019184755313497,
          -0.4304999155357878,
          0.1500000556531958,
          -0.44385899349862556,
          1.7267910451017197,
          -0.23527213744734018,
          -0.08257284952683515,
          0.08821495139605938,
          1.5835452793222295,
          -0.05885240801170151,
          0.08190517385442912,
          0.6592074795204079,
          -0.09510075917825217,
          0.05808346774359008,
          0.31359243418807625,
          -0.4569979268851212,
          -0.27374817367804916,
          0.3232561497726545,
          1.7360645284253666,
          0.5098339836009443,
          0.32356599302009376,
          -0.3272628737683601,
          -0.21838564827070106,
          -0.09393157229944046,
          0.37747879026741205,
          0.6938360694403155,
          -0.4236693264281709,
          1.1770734073316584,
          0.782492521971016,
          -0.7839210113205071,
          -1.5394217444852494,
          -0.3298873688135755,
          -3.47583730399636,
          0.13027318862126078,
          -0.5024027669533596,
          -1.0962081118182605,
          0.22244636983348295,
          -0.1321333827266581,
          -0.13009438891042882,
          -0.23088857646716934,
          0.9506057810290035,
          -0.3966012408522376,
          -0.07448089226848949,
          0.47910047775883513,
          0.5596293068400212,
          -0.25743804852380886,
          -0.09535392623900184,
          2.3304273021588813,
          0.35627446069326546,
          -0.1067742024747549,
          3.000676184594379,
          -0.8445301377719348,
          -2.824667354923725,
          0.8425490589339665,
          1.6664194623107815,
          -0.21807441534899402,
          1.8025485296362476,
          0.030072503483554582,
          -0.9791143080521593,
          -1.0817169214796618,
          -3.0704302148569087,
          0.8758140322034106,
          0.01331346165148841,
          -0.4682407326426353,
          -0.2027143906862939,
          -0.12606945331930594,
          -2.520190227815078,
          -0.46359859958982114,
          -0.4127389657613829,
          0.03447773400140198,
          0.015579827349582518,
          -0.18325882645336308,
          -0.1655709869064501,
          0.061900195729260275,
          -1.4878889233293306,
          9.74560347643369,
          0.13404995149116702,
          0.029252496535508023,
          -0.3953582192055132,
          0.11248926213228465,
          -1.1518371166742687
         ],
         "yaxis": "y"
        },
        {
         "hovertemplate": "color=Transit<br>Principal Component 1=%{x}<br>Principal Component 2=%{y}<extra></extra>",
         "legendgroup": "Transit",
         "marker": {
          "color": "#EF553B",
          "symbol": "circle"
         },
         "mode": "markers",
         "name": "Transit",
         "orientation": "v",
         "showlegend": true,
         "type": "scatter",
         "x": [
          1.1840052227441897
         ],
         "xaxis": "x",
         "y": [
          -1.9858495409603385
         ],
         "yaxis": "y"
        }
       ],
       "layout": {
        "legend": {
         "title": {
          "text": "color"
         },
         "tracegroupgap": 0
        },
        "template": {
         "data": {
          "bar": [
           {
            "error_x": {
             "color": "#2a3f5f"
            },
            "error_y": {
             "color": "#2a3f5f"
            },
            "marker": {
             "line": {
              "color": "#E5ECF6",
              "width": 0.5
             },
             "pattern": {
              "fillmode": "overlay",
              "size": 10,
              "solidity": 0.2
             }
            },
            "type": "bar"
           }
          ],
          "barpolar": [
           {
            "marker": {
             "line": {
              "color": "#E5ECF6",
              "width": 0.5
             },
             "pattern": {
              "fillmode": "overlay",
              "size": 10,
              "solidity": 0.2
             }
            },
            "type": "barpolar"
           }
          ],
          "carpet": [
           {
            "aaxis": {
             "endlinecolor": "#2a3f5f",
             "gridcolor": "white",
             "linecolor": "white",
             "minorgridcolor": "white",
             "startlinecolor": "#2a3f5f"
            },
            "baxis": {
             "endlinecolor": "#2a3f5f",
             "gridcolor": "white",
             "linecolor": "white",
             "minorgridcolor": "white",
             "startlinecolor": "#2a3f5f"
            },
            "type": "carpet"
           }
          ],
          "choropleth": [
           {
            "colorbar": {
             "outlinewidth": 0,
             "ticks": ""
            },
            "type": "choropleth"
           }
          ],
          "contour": [
           {
            "colorbar": {
             "outlinewidth": 0,
             "ticks": ""
            },
            "colorscale": [
             [
              0,
              "#0d0887"
             ],
             [
              0.1111111111111111,
              "#46039f"
             ],
             [
              0.2222222222222222,
              "#7201a8"
             ],
             [
              0.3333333333333333,
              "#9c179e"
             ],
             [
              0.4444444444444444,
              "#bd3786"
             ],
             [
              0.5555555555555556,
              "#d8576b"
             ],
             [
              0.6666666666666666,
              "#ed7953"
             ],
             [
              0.7777777777777778,
              "#fb9f3a"
             ],
             [
              0.8888888888888888,
              "#fdca26"
             ],
             [
              1,
              "#f0f921"
             ]
            ],
            "type": "contour"
           }
          ],
          "contourcarpet": [
           {
            "colorbar": {
             "outlinewidth": 0,
             "ticks": ""
            },
            "type": "contourcarpet"
           }
          ],
          "heatmap": [
           {
            "colorbar": {
             "outlinewidth": 0,
             "ticks": ""
            },
            "colorscale": [
             [
              0,
              "#0d0887"
             ],
             [
              0.1111111111111111,
              "#46039f"
             ],
             [
              0.2222222222222222,
              "#7201a8"
             ],
             [
              0.3333333333333333,
              "#9c179e"
             ],
             [
              0.4444444444444444,
              "#bd3786"
             ],
             [
              0.5555555555555556,
              "#d8576b"
             ],
             [
              0.6666666666666666,
              "#ed7953"
             ],
             [
              0.7777777777777778,
              "#fb9f3a"
             ],
             [
              0.8888888888888888,
              "#fdca26"
             ],
             [
              1,
              "#f0f921"
             ]
            ],
            "type": "heatmap"
           }
          ],
          "heatmapgl": [
           {
            "colorbar": {
             "outlinewidth": 0,
             "ticks": ""
            },
            "colorscale": [
             [
              0,
              "#0d0887"
             ],
             [
              0.1111111111111111,
              "#46039f"
             ],
             [
              0.2222222222222222,
              "#7201a8"
             ],
             [
              0.3333333333333333,
              "#9c179e"
             ],
             [
              0.4444444444444444,
              "#bd3786"
             ],
             [
              0.5555555555555556,
              "#d8576b"
             ],
             [
              0.6666666666666666,
              "#ed7953"
             ],
             [
              0.7777777777777778,
              "#fb9f3a"
             ],
             [
              0.8888888888888888,
              "#fdca26"
             ],
             [
              1,
              "#f0f921"
             ]
            ],
            "type": "heatmapgl"
           }
          ],
          "histogram": [
           {
            "marker": {
             "pattern": {
              "fillmode": "overlay",
              "size": 10,
              "solidity": 0.2
             }
            },
            "type": "histogram"
           }
          ],
          "histogram2d": [
           {
            "colorbar": {
             "outlinewidth": 0,
             "ticks": ""
            },
            "colorscale": [
             [
              0,
              "#0d0887"
             ],
             [
              0.1111111111111111,
              "#46039f"
             ],
             [
              0.2222222222222222,
              "#7201a8"
             ],
             [
              0.3333333333333333,
              "#9c179e"
             ],
             [
              0.4444444444444444,
              "#bd3786"
             ],
             [
              0.5555555555555556,
              "#d8576b"
             ],
             [
              0.6666666666666666,
              "#ed7953"
             ],
             [
              0.7777777777777778,
              "#fb9f3a"
             ],
             [
              0.8888888888888888,
              "#fdca26"
             ],
             [
              1,
              "#f0f921"
             ]
            ],
            "type": "histogram2d"
           }
          ],
          "histogram2dcontour": [
           {
            "colorbar": {
             "outlinewidth": 0,
             "ticks": ""
            },
            "colorscale": [
             [
              0,
              "#0d0887"
             ],
             [
              0.1111111111111111,
              "#46039f"
             ],
             [
              0.2222222222222222,
              "#7201a8"
             ],
             [
              0.3333333333333333,
              "#9c179e"
             ],
             [
              0.4444444444444444,
              "#bd3786"
             ],
             [
              0.5555555555555556,
              "#d8576b"
             ],
             [
              0.6666666666666666,
              "#ed7953"
             ],
             [
              0.7777777777777778,
              "#fb9f3a"
             ],
             [
              0.8888888888888888,
              "#fdca26"
             ],
             [
              1,
              "#f0f921"
             ]
            ],
            "type": "histogram2dcontour"
           }
          ],
          "mesh3d": [
           {
            "colorbar": {
             "outlinewidth": 0,
             "ticks": ""
            },
            "type": "mesh3d"
           }
          ],
          "parcoords": [
           {
            "line": {
             "colorbar": {
              "outlinewidth": 0,
              "ticks": ""
             }
            },
            "type": "parcoords"
           }
          ],
          "pie": [
           {
            "automargin": true,
            "type": "pie"
           }
          ],
          "scatter": [
           {
            "fillpattern": {
             "fillmode": "overlay",
             "size": 10,
             "solidity": 0.2
            },
            "type": "scatter"
           }
          ],
          "scatter3d": [
           {
            "line": {
             "colorbar": {
              "outlinewidth": 0,
              "ticks": ""
             }
            },
            "marker": {
             "colorbar": {
              "outlinewidth": 0,
              "ticks": ""
             }
            },
            "type": "scatter3d"
           }
          ],
          "scattercarpet": [
           {
            "marker": {
             "colorbar": {
              "outlinewidth": 0,
              "ticks": ""
             }
            },
            "type": "scattercarpet"
           }
          ],
          "scattergeo": [
           {
            "marker": {
             "colorbar": {
              "outlinewidth": 0,
              "ticks": ""
             }
            },
            "type": "scattergeo"
           }
          ],
          "scattergl": [
           {
            "marker": {
             "colorbar": {
              "outlinewidth": 0,
              "ticks": ""
             }
            },
            "type": "scattergl"
           }
          ],
          "scattermapbox": [
           {
            "marker": {
             "colorbar": {
              "outlinewidth": 0,
              "ticks": ""
             }
            },
            "type": "scattermapbox"
           }
          ],
          "scatterpolar": [
           {
            "marker": {
             "colorbar": {
              "outlinewidth": 0,
              "ticks": ""
             }
            },
            "type": "scatterpolar"
           }
          ],
          "scatterpolargl": [
           {
            "marker": {
             "colorbar": {
              "outlinewidth": 0,
              "ticks": ""
             }
            },
            "type": "scatterpolargl"
           }
          ],
          "scatterternary": [
           {
            "marker": {
             "colorbar": {
              "outlinewidth": 0,
              "ticks": ""
             }
            },
            "type": "scatterternary"
           }
          ],
          "surface": [
           {
            "colorbar": {
             "outlinewidth": 0,
             "ticks": ""
            },
            "colorscale": [
             [
              0,
              "#0d0887"
             ],
             [
              0.1111111111111111,
              "#46039f"
             ],
             [
              0.2222222222222222,
              "#7201a8"
             ],
             [
              0.3333333333333333,
              "#9c179e"
             ],
             [
              0.4444444444444444,
              "#bd3786"
             ],
             [
              0.5555555555555556,
              "#d8576b"
             ],
             [
              0.6666666666666666,
              "#ed7953"
             ],
             [
              0.7777777777777778,
              "#fb9f3a"
             ],
             [
              0.8888888888888888,
              "#fdca26"
             ],
             [
              1,
              "#f0f921"
             ]
            ],
            "type": "surface"
           }
          ],
          "table": [
           {
            "cells": {
             "fill": {
              "color": "#EBF0F8"
             },
             "line": {
              "color": "white"
             }
            },
            "header": {
             "fill": {
              "color": "#C8D4E3"
             },
             "line": {
              "color": "white"
             }
            },
            "type": "table"
           }
          ]
         },
         "layout": {
          "annotationdefaults": {
           "arrowcolor": "#2a3f5f",
           "arrowhead": 0,
           "arrowwidth": 1
          },
          "autotypenumbers": "strict",
          "coloraxis": {
           "colorbar": {
            "outlinewidth": 0,
            "ticks": ""
           }
          },
          "colorscale": {
           "diverging": [
            [
             0,
             "#8e0152"
            ],
            [
             0.1,
             "#c51b7d"
            ],
            [
             0.2,
             "#de77ae"
            ],
            [
             0.3,
             "#f1b6da"
            ],
            [
             0.4,
             "#fde0ef"
            ],
            [
             0.5,
             "#f7f7f7"
            ],
            [
             0.6,
             "#e6f5d0"
            ],
            [
             0.7,
             "#b8e186"
            ],
            [
             0.8,
             "#7fbc41"
            ],
            [
             0.9,
             "#4d9221"
            ],
            [
             1,
             "#276419"
            ]
           ],
           "sequential": [
            [
             0,
             "#0d0887"
            ],
            [
             0.1111111111111111,
             "#46039f"
            ],
            [
             0.2222222222222222,
             "#7201a8"
            ],
            [
             0.3333333333333333,
             "#9c179e"
            ],
            [
             0.4444444444444444,
             "#bd3786"
            ],
            [
             0.5555555555555556,
             "#d8576b"
            ],
            [
             0.6666666666666666,
             "#ed7953"
            ],
            [
             0.7777777777777778,
             "#fb9f3a"
            ],
            [
             0.8888888888888888,
             "#fdca26"
            ],
            [
             1,
             "#f0f921"
            ]
           ],
           "sequentialminus": [
            [
             0,
             "#0d0887"
            ],
            [
             0.1111111111111111,
             "#46039f"
            ],
            [
             0.2222222222222222,
             "#7201a8"
            ],
            [
             0.3333333333333333,
             "#9c179e"
            ],
            [
             0.4444444444444444,
             "#bd3786"
            ],
            [
             0.5555555555555556,
             "#d8576b"
            ],
            [
             0.6666666666666666,
             "#ed7953"
            ],
            [
             0.7777777777777778,
             "#fb9f3a"
            ],
            [
             0.8888888888888888,
             "#fdca26"
            ],
            [
             1,
             "#f0f921"
            ]
           ]
          },
          "colorway": [
           "#636efa",
           "#EF553B",
           "#00cc96",
           "#ab63fa",
           "#FFA15A",
           "#19d3f3",
           "#FF6692",
           "#B6E880",
           "#FF97FF",
           "#FECB52"
          ],
          "font": {
           "color": "#2a3f5f"
          },
          "geo": {
           "bgcolor": "white",
           "lakecolor": "white",
           "landcolor": "#E5ECF6",
           "showlakes": true,
           "showland": true,
           "subunitcolor": "white"
          },
          "hoverlabel": {
           "align": "left"
          },
          "hovermode": "closest",
          "mapbox": {
           "style": "light"
          },
          "paper_bgcolor": "white",
          "plot_bgcolor": "#E5ECF6",
          "polar": {
           "angularaxis": {
            "gridcolor": "white",
            "linecolor": "white",
            "ticks": ""
           },
           "bgcolor": "#E5ECF6",
           "radialaxis": {
            "gridcolor": "white",
            "linecolor": "white",
            "ticks": ""
           }
          },
          "scene": {
           "xaxis": {
            "backgroundcolor": "#E5ECF6",
            "gridcolor": "white",
            "gridwidth": 2,
            "linecolor": "white",
            "showbackground": true,
            "ticks": "",
            "zerolinecolor": "white"
           },
           "yaxis": {
            "backgroundcolor": "#E5ECF6",
            "gridcolor": "white",
            "gridwidth": 2,
            "linecolor": "white",
            "showbackground": true,
            "ticks": "",
            "zerolinecolor": "white"
           },
           "zaxis": {
            "backgroundcolor": "#E5ECF6",
            "gridcolor": "white",
            "gridwidth": 2,
            "linecolor": "white",
            "showbackground": true,
            "ticks": "",
            "zerolinecolor": "white"
           }
          },
          "shapedefaults": {
           "line": {
            "color": "#2a3f5f"
           }
          },
          "ternary": {
           "aaxis": {
            "gridcolor": "white",
            "linecolor": "white",
            "ticks": ""
           },
           "baxis": {
            "gridcolor": "white",
            "linecolor": "white",
            "ticks": ""
           },
           "bgcolor": "#E5ECF6",
           "caxis": {
            "gridcolor": "white",
            "linecolor": "white",
            "ticks": ""
           }
          },
          "title": {
           "x": 0.05
          },
          "xaxis": {
           "automargin": true,
           "gridcolor": "white",
           "linecolor": "white",
           "ticks": "",
           "title": {
            "standoff": 15
           },
           "zerolinecolor": "white",
           "zerolinewidth": 2
          },
          "yaxis": {
           "automargin": true,
           "gridcolor": "white",
           "linecolor": "white",
           "ticks": "",
           "title": {
            "standoff": 15
           },
           "zerolinecolor": "white",
           "zerolinewidth": 2
          }
         }
        },
        "title": {
         "text": "PCA of DataFrame"
        },
        "xaxis": {
         "anchor": "y",
         "domain": [
          0,
          1
         ],
         "title": {
          "text": "Principal Component 1"
         }
        },
        "yaxis": {
         "anchor": "x",
         "domain": [
          0,
          1
         ],
         "title": {
          "text": "Principal Component 2"
         }
        }
       }
      }
     },
     "metadata": {},
     "output_type": "display_data"
    }
   ],
   "source": [
    "# dimensionality assessment\n",
    "from sklearn.decomposition import PCA\n",
    "\n",
    "pca = PCA(n_components = 3)\n",
    "pca_res = pca.fit_transform(df_planets_scale[numeric_cols])\n",
    "df_pca = pd.DataFrame(data=pca_res, columns=['PC1', 'PC2', 'PC3'])\n",
    "\n",
    "# plot\n",
    "fig = px.scatter(df_pca, x='PC1', y='PC2', title='PCA of DataFrame', \n",
    "                 labels={'PC1': 'Principal Component 1', 'PC2': 'Principal Component 2'},\n",
    "                 color= df_planets_scale['method'])\n",
    "fig.show()"
   ]
  },
  {
   "cell_type": "markdown",
   "metadata": {},
   "source": [
    "### Hypothesis \n",
    " - Interpreting the data was a little difficult because of some missing values and not being able to track down what \"number\"means. An interesting observation is that the radial velocity method samples produced the data without missing values for measurements. This may say that this method is produces more data than others. This fact shoudl also be considered if a data scientist descides to impute missing data collected by other methods."
   ]
  },
  {
   "cell_type": "markdown",
   "metadata": {},
   "source": [
    "\n",
    "____\n",
    "\n",
    "![busted](https://i.ytimg.com/vi/AFhhWRxZF9Y/maxresdefault.jpg)\n",
    "\n",
    "## <font color=#00BBFF> Problem #3 Textbook Chapter 4 (10 pts) </font>\n",
    "\n",
    "Read chapter 4 of your textbook. \n",
    "\n",
    "The _10,000 Hour Rule_ is very famous and it promises to guide you to becoming an expert on anything you wish to pursue. Worth knowing!\n",
    "\n",
    "Summarize in a markdown cell what went wrong in previous descriptions by other authors; why do the authors of your textbook feel this rule has been miscommunicated to the public? How was the data mis-used? How does this issue connect with the topic of the chapter \"correlation requires variation\"? What does than mean exactly? "
   ]
  },
  {
   "cell_type": "markdown",
   "metadata": {},
   "source": [
    "### The 10000 Hour Rule:\n",
    " - If you only look at instances when a phenomenon occured then you cannot assess a correlation because you have no variation from instances when the phenomenon did not occur. The authos of thinking clearly with data believe the 10,000 hour rule has been miscommunicated because the rule violates the notion of having variation along the independent variable. That is to say we can see the original study describes a lot what high achievers do but it does not describe what non-high achievers do. "
   ]
  },
  {
   "cell_type": "markdown",
   "metadata": {},
   "source": [
    "____\n",
    "\n",
    "![color](https://miro.medium.com/v2/resize:fit:800/0*-t4uEHHRgeJ8w-wx.png))\n",
    "\n",
    "## <font color=#00BBFF> Problem #4 Understanding Color (10 pts) </font>\n",
    "\n",
    "Watch this video. In a markdown cell, summarize the video in 200-300 words. \n",
    "\n"
   ]
  },
  {
   "cell_type": "markdown",
   "metadata": {},
   "source": [
    "### Summary -\n",
    " - Some color maps can distort data. Color maps should be colorful, mpretty, sequential, accurately represent data in black and white and for different color blindness levels. There is not a 1 to 1 mapping of the light that reaches the eye ball and the light that is percevied because the brain does like a sort of normalization for bright and dark environments. Blue yellow color axis is prefered to red green. The virids color scheme is designed to be perceptionally uniform across the scale and it is named after a snake. "
   ]
  },
  {
   "cell_type": "code",
   "execution_count": 39,
   "metadata": {},
   "outputs": [
    {
     "data": {
      "image/jpeg": "[encoded data removed]",
      "text/html": [
       "\n",
       "        <iframe\n",
       "            width=\"560\"\n",
       "            height=\"315\"\n",
       "            src=\"https://www.youtube.com/embed/xAoljeRJ3lU\"\n",
       "            frameborder=\"0\"\n",
       "            allowfullscreen\n",
       "            \n",
       "        ></iframe>\n",
       "        "
      ],
      "text/plain": [
       "<IPython.lib.display.YouTubeVideo at 0x293000d3dd0>"
      ]
     },
     "execution_count": 39,
     "metadata": {},
     "output_type": "execute_result"
    }
   ],
   "source": [
    "from IPython.display import YouTubeVideo\n",
    "video_id = \"xAoljeRJ3lU\"\n",
    "YouTubeVideo(video_id, width=560, height=315)"
   ]
  },
  {
   "cell_type": "markdown",
   "metadata": {},
   "source": [
    "____\n",
    "\n",
    "![bokeh](https://bokeh.org/img/apps.gif)\n",
    "\n",
    "## <font color=#00BBFF> Problem #5 The Bokeh Library (10 pts) </font>\n",
    "\n",
    "This week we are covering many visualization libraries. In this homework you will learn a bit about Bokeh. Your tasks are:\n",
    "* comment every line of the code given below,\n",
    "* read a bit of [this web page](https://docs.bokeh.org/en/latest/docs/reference/bokeh.html), ([this](https://docs.bokeh.org/en/latest/docs/gallery.html) might also be useful)\n",
    "* in a markdown cell, describe what is unique about Bokeh and when you would, or would not, use it.\n"
   ]
  },
  {
   "cell_type": "code",
   "execution_count": 5,
   "metadata": {},
   "outputs": [
    {
     "data": {
      "text/html": [
       "<style>\n",
       "        .bk-notebook-logo {\n",
       "            display: block;\n",
       "            width: 20px;\n",
       "            height: 20px;\n",
       "            background-image: url(data:image/png;base64,iVBORw0KGgoAAAANSUhEUgAAABQAAAAUCAYAAACNiR0NAAAABHNCSVQICAgIfAhkiAAAAAlwSFlzAAALEgAACxIB0t1+/AAAABx0RVh0U29mdHdhcmUAQWRvYmUgRmlyZXdvcmtzIENTNui8sowAAAOkSURBVDiNjZRtaJVlGMd/1/08zzln5zjP1LWcU9N0NkN8m2CYjpgQYQXqSs0I84OLIC0hkEKoPtiH3gmKoiJDU7QpLgoLjLIQCpEsNJ1vqUOdO7ppbuec5+V+rj4ctwzd8IIbbi6u+8f1539dt3A78eXC7QizUF7gyV1fD1Yqg4JWz84yffhm0qkFqBogB9rM8tZdtwVsPUhWhGcFJngGeWrPzHm5oaMmkfEg1usvLFyc8jLRqDOMru7AyC8saQr7GG7f5fvDeH7Ej8CM66nIF+8yngt6HWaKh7k49Soy9nXurCi1o3qUbS3zWfrYeQDTB/Qj6kX6Ybhw4B+bOYoLKCC9H3Nu/leUTZ1JdRWkkn2ldcCamzrcf47KKXdAJllSlxAOkRgyHsGC/zRday5Qld9DyoM4/q/rUoy/CXh3jzOu3bHUVZeU+DEn8FInkPBFlu3+nW3Nw0mk6vCDiWg8CeJaxEwuHS3+z5RgY+YBR6V1Z1nxSOfoaPa4LASWxxdNp+VWTk7+4vzaou8v8PN+xo+KY2xsw6une2frhw05CTYOmQvsEhjhWjn0bmXPjpE1+kplmmkP3suftwTubK9Vq22qKmrBhpY4jvd5afdRA3wGjFAgcnTK2s4hY0/GPNIb0nErGMCRxWOOX64Z8RAC4oCXdklmEvcL8o0BfkNK4lUg9HTl+oPlQxdNo3Mg4Nv175e/1LDGzZen30MEjRUtmXSfiTVu1kK8W4txyV6BMKlbgk3lMwYCiusNy9fVfvvwMxv8Ynl6vxoByANLTWplvuj/nF9m2+PDtt1eiHPBr1oIfhCChQMBw6Aw0UulqTKZdfVvfG7VcfIqLG9bcldL/+pdWTLxLUy8Qq38heUIjh4XlzZxzQm19lLFlr8vdQ97rjZVOLf8nclzckbcD4wxXMidpX30sFd37Fv/GtwwhzhxGVAprjbg0gCAEeIgwCZyTV2Z1REEW8O4py0wsjeloKoMr6iCY6dP92H6Vw/oTyICIthibxjm/DfN9lVz8IqtqKYLUXfoKVMVQVVJOElGjrnnUt9T9wbgp8AyYKaGlqingHZU/uG2NTZSVqwHQTWkx9hxjkpWDaCg6Ckj5qebgBVbT3V3NNXMSiWSDdGV3hrtzla7J+duwPOToIg42ChPQOQjspnSlp1V+Gjdged7+8UN5CRAV7a5EdFNwCjEaBR27b3W890TE7g24NAP/mMDXRWrGoFPQI9ls/MWO2dWFAar/xcOIImbbpA3zgAAAABJRU5ErkJggg==);\n",
       "        }\n",
       "    </style>\n",
       "    <div>\n",
       "        <a href=\"https://bokeh.org\" target=\"_blank\" class=\"bk-notebook-logo\"></a>\n",
       "        <span id=\"f6f9d39e-c0bb-4d7b-8319-81e09270694e\">Loading BokehJS ...</span>\n",
       "    </div>\n"
      ]
     },
     "metadata": {},
     "output_type": "display_data"
    },
    {
     "data": {
      "application/javascript": "(function(root) {\n  function now() {\n    return new Date();\n  }\n\n  const force = true;\n\n  if (typeof root._bokeh_onload_callbacks === \"undefined\" || force === true) {\n    root._bokeh_onload_callbacks = [];\n    root._bokeh_is_loading = undefined;\n  }\n\nconst JS_MIME_TYPE = 'application/javascript';\n  const HTML_MIME_TYPE = 'text/html';\n  const EXEC_MIME_TYPE = 'application/vnd.bokehjs_exec.v0+json';\n  const CLASS_NAME = 'output_bokeh rendered_html';\n\n  /**\n   * Render data to the DOM node\n   */\n  function render(props, node) {\n    const script = document.createElement(\"script\");\n    node.appendChild(script);\n  }\n\n  /**\n   * Handle when an output is cleared or removed\n   */\n  function handleClearOutput(event, handle) {\n    function drop(id) {\n      const view = Bokeh.index.get_by_id(id)\n      if (view != null) {\n        view.model.document.clear()\n        Bokeh.index.delete(view)\n      }\n    }\n\n    const cell = handle.cell;\n\n    const id = cell.output_area._bokeh_element_id;\n    const server_id = cell.output_area._bokeh_server_id;\n\n    // Clean up Bokeh references\n    if (id != null) {\n      drop(id)\n    }\n\n    if (server_id !== undefined) {\n      // Clean up Bokeh references\n      const cmd_clean = \"from bokeh.io.state import curstate; print(curstate().uuid_to_server['\" + server_id + \"'].get_sessions()[0].document.roots[0]._id)\";\n      cell.notebook.kernel.execute(cmd_clean, {\n        iopub: {\n          output: function(msg) {\n            const id = msg.content.text.trim()\n            drop(id)\n          }\n        }\n      });\n      // Destroy server and session\n      const cmd_destroy = \"import bokeh.io.notebook as ion; ion.destroy_server('\" + server_id + \"')\";\n      cell.notebook.kernel.execute(cmd_destroy);\n    }\n  }\n\n  /**\n   * Handle when a new output is added\n   */\n  function handleAddOutput(event, handle) {\n    const output_area = handle.output_area;\n    const output = handle.output;\n\n    // limit handleAddOutput to display_data with EXEC_MIME_TYPE content only\n    if ((output.output_type != \"display_data\") || (!Object.prototype.hasOwnProperty.call(output.data, EXEC_MIME_TYPE))) {\n      return\n    }\n\n    const toinsert = output_area.element.find(\".\" + CLASS_NAME.split(' ')[0]);\n\n    if (output.metadata[EXEC_MIME_TYPE][\"id\"] !== undefined) {\n      toinsert[toinsert.length - 1].firstChild.textContent = output.data[JS_MIME_TYPE];\n      // store reference to embed id on output_area\n      output_area._bokeh_element_id = output.metadata[EXEC_MIME_TYPE][\"id\"];\n    }\n    if (output.metadata[EXEC_MIME_TYPE][\"server_id\"] !== undefined) {\n      const bk_div = document.createElement(\"div\");\n      bk_div.innerHTML = output.data[HTML_MIME_TYPE];\n      const script_attrs = bk_div.children[0].attributes;\n      for (let i = 0; i < script_attrs.length; i++) {\n        toinsert[toinsert.length - 1].firstChild.setAttribute(script_attrs[i].name, script_attrs[i].value);\n        toinsert[toinsert.length - 1].firstChild.textContent = bk_div.children[0].textContent\n      }\n      // store reference to server id on output_area\n      output_area._bokeh_server_id = output.metadata[EXEC_MIME_TYPE][\"server_id\"];\n    }\n  }\n\n  function register_renderer(events, OutputArea) {\n\n    function append_mime(data, metadata, element) {\n      // create a DOM node to render to\n      const toinsert = this.create_output_subarea(\n        metadata,\n        CLASS_NAME,\n        EXEC_MIME_TYPE\n      );\n      this.keyboard_manager.register_events(toinsert);\n      // Render to node\n      const props = {data: data, metadata: metadata[EXEC_MIME_TYPE]};\n      render(props, toinsert[toinsert.length - 1]);\n      element.append(toinsert);\n      return toinsert\n    }\n\n    /* Handle when an output is cleared or removed */\n    events.on('clear_output.CodeCell', handleClearOutput);\n    events.on('delete.Cell', handleClearOutput);\n\n    /* Handle when a new output is added */\n    events.on('output_added.OutputArea', handleAddOutput);\n\n    /**\n     * Register the mime type and append_mime function with output_area\n     */\n    OutputArea.prototype.register_mime_type(EXEC_MIME_TYPE, append_mime, {\n      /* Is output safe? */\n      safe: true,\n      /* Index of renderer in `output_area.display_order` */\n      index: 0\n    });\n  }\n\n  // register the mime type if in Jupyter Notebook environment and previously unregistered\n  if (root.Jupyter !== undefined) {\n    const events = require('base/js/events');\n    const OutputArea = require('notebook/js/outputarea').OutputArea;\n\n    if (OutputArea.prototype.mime_types().indexOf(EXEC_MIME_TYPE) == -1) {\n      register_renderer(events, OutputArea);\n    }\n  }\n  if (typeof (root._bokeh_timeout) === \"undefined\" || force === true) {\n    root._bokeh_timeout = Date.now() + 5000;\n    root._bokeh_failed_load = false;\n  }\n\n  const NB_LOAD_WARNING = {'data': {'text/html':\n     \"<div style='background-color: #fdd'>\\n\"+\n     \"<p>\\n\"+\n     \"BokehJS does not appear to have successfully loaded. If loading BokehJS from CDN, this \\n\"+\n     \"may be due to a slow or bad network connection. Possible fixes:\\n\"+\n     \"</p>\\n\"+\n     \"<ul>\\n\"+\n     \"<li>re-rerun `output_notebook()` to attempt to load from CDN again, or</li>\\n\"+\n     \"<li>use INLINE resources instead, as so:</li>\\n\"+\n     \"</ul>\\n\"+\n     \"<code>\\n\"+\n     \"from bokeh.resources import INLINE\\n\"+\n     \"output_notebook(resources=INLINE)\\n\"+\n     \"</code>\\n\"+\n     \"</div>\"}};\n\n  function display_loaded() {\n    const el = document.getElementById(\"f6f9d39e-c0bb-4d7b-8319-81e09270694e\");\n    if (el != null) {\n      el.textContent = \"BokehJS is loading...\";\n    }\n    if (root.Bokeh !== undefined) {\n      if (el != null) {\n        el.textContent = \"BokehJS \" + root.Bokeh.version + \" successfully loaded.\";\n      }\n    } else if (Date.now() < root._bokeh_timeout) {\n      setTimeout(display_loaded, 100)\n    }\n  }\n\n  function run_callbacks() {\n    try {\n      root._bokeh_onload_callbacks.forEach(function(callback) {\n        if (callback != null)\n          callback();\n      });\n    } finally {\n      delete root._bokeh_onload_callbacks\n    }\n    console.debug(\"Bokeh: all callbacks have finished\");\n  }\n\n  function load_libs(css_urls, js_urls, callback) {\n    if (css_urls == null) css_urls = [];\n    if (js_urls == null) js_urls = [];\n\n    root._bokeh_onload_callbacks.push(callback);\n    if (root._bokeh_is_loading > 0) {\n      console.debug(\"Bokeh: BokehJS is being loaded, scheduling callback at\", now());\n      return null;\n    }\n    if (js_urls == null || js_urls.length === 0) {\n      run_callbacks();\n      return null;\n    }\n    console.debug(\"Bokeh: BokehJS not loaded, scheduling load and callback at\", now());\n    root._bokeh_is_loading = css_urls.length + js_urls.length;\n\n    function on_load() {\n      root._bokeh_is_loading--;\n      if (root._bokeh_is_loading === 0) {\n        console.debug(\"Bokeh: all BokehJS libraries/stylesheets loaded\");\n        run_callbacks()\n      }\n    }\n\n    function on_error(url) {\n      console.error(\"failed to load \" + url);\n    }\n\n    for (let i = 0; i < css_urls.length; i++) {\n      const url = css_urls[i];\n      const element = document.createElement(\"link\");\n      element.onload = on_load;\n      element.onerror = on_error.bind(null, url);\n      element.rel = \"stylesheet\";\n      element.type = \"text/css\";\n      element.href = url;\n      console.debug(\"Bokeh: injecting link tag for BokehJS stylesheet: \", url);\n      document.body.appendChild(element);\n    }\n\n    for (let i = 0; i < js_urls.length; i++) {\n      const url = js_urls[i];\n      const element = document.createElement('script');\n      element.onload = on_load;\n      element.onerror = on_error.bind(null, url);\n      element.async = false;\n      element.src = url;\n      console.debug(\"Bokeh: injecting script tag for BokehJS library: \", url);\n      document.head.appendChild(element);\n    }\n  };\n\n  function inject_raw_css(css) {\n    const element = document.createElement(\"style\");\n    element.appendChild(document.createTextNode(css));\n    document.body.appendChild(element);\n  }\n\n  const js_urls = [\"https://cdn.bokeh.org/bokeh/release/bokeh-3.3.0.min.js\", \"https://cdn.bokeh.org/bokeh/release/bokeh-gl-3.3.0.min.js\", \"https://cdn.bokeh.org/bokeh/release/bokeh-widgets-3.3.0.min.js\", \"https://cdn.bokeh.org/bokeh/release/bokeh-tables-3.3.0.min.js\", \"https://cdn.bokeh.org/bokeh/release/bokeh-mathjax-3.3.0.min.js\"];\n  const css_urls = [];\n\n  const inline_js = [    function(Bokeh) {\n      Bokeh.set_log_level(\"info\");\n    },\nfunction(Bokeh) {\n    }\n  ];\n\n  function run_inline_js() {\n    if (root.Bokeh !== undefined || force === true) {\n          for (let i = 0; i < inline_js.length; i++) {\n      inline_js[i].call(root, root.Bokeh);\n    }\nif (force === true) {\n        display_loaded();\n      }} else if (Date.now() < root._bokeh_timeout) {\n      setTimeout(run_inline_js, 100);\n    } else if (!root._bokeh_failed_load) {\n      console.log(\"Bokeh: BokehJS failed to load within specified timeout.\");\n      root._bokeh_failed_load = true;\n    } else if (force !== true) {\n      const cell = $(document.getElementById(\"f6f9d39e-c0bb-4d7b-8319-81e09270694e\")).parents('.cell').data().cell;\n      cell.output_area.append_execute_result(NB_LOAD_WARNING)\n    }\n  }\n\n  if (root._bokeh_is_loading === 0) {\n    console.debug(\"Bokeh: BokehJS loaded, going straight to plotting\");\n    run_inline_js();\n  } else {\n    load_libs(css_urls, js_urls, function() {\n      console.debug(\"Bokeh: BokehJS plotting callback run at\", now());\n      run_inline_js();\n    });\n  }\n}(window));",
      "application/vnd.bokehjs_load.v0+json": ""
     },
     "metadata": {},
     "output_type": "display_data"
    },
    {
     "data": {
      "text/html": [
       "\n",
       "  <div id=\"a245f213-1e03-4841-8c25-a13015c5f5c9\" data-root-id=\"p1001\" style=\"display: contents;\"></div>\n"
      ]
     },
     "metadata": {},
     "output_type": "display_data"
    },
    {
     "data": {
      "application/javascript": "(function(root) {\n  function embed_document(root) {\n  const docs_json = {\"e9cf0b0d-db6f-472f-a507-791df603153b\":{\"version\":\"3.3.0\",\"title\":\"Bokeh Application\",\"roots\":[{\"type\":\"object\",\"name\":\"Figure\",\"id\":\"p1001\",\"attributes\":{\"height\":400,\"x_range\":{\"type\":\"object\",\"name\":\"DataRange1d\",\"id\":\"p1002\"},\"y_range\":{\"type\":\"object\",\"name\":\"DataRange1d\",\"id\":\"p1003\"},\"x_scale\":{\"type\":\"object\",\"name\":\"LinearScale\",\"id\":\"p1011\"},\"y_scale\":{\"type\":\"object\",\"name\":\"LinearScale\",\"id\":\"p1012\"},\"title\":{\"type\":\"object\",\"name\":\"Title\",\"id\":\"p1004\",\"attributes\":{\"text\":\"Student Heights vs Weights\",\"text_font_size\":\"16pt\"}},\"renderers\":[{\"type\":\"object\",\"name\":\"GlyphRenderer\",\"id\":\"p1036\",\"attributes\":{\"data_source\":{\"type\":\"object\",\"name\":\"ColumnDataSource\",\"id\":\"p1030\",\"attributes\":{\"selected\":{\"type\":\"object\",\"name\":\"Selection\",\"id\":\"p1031\",\"attributes\":{\"indices\":[],\"line_indices\":[]}},\"selection_policy\":{\"type\":\"object\",\"name\":\"UnionRenderers\",\"id\":\"p1032\"},\"data\":{\"type\":\"map\",\"entries\":[[\"x\",{\"type\":\"ndarray\",\"array\":{\"type\":\"bytes\",\"data\":\"ZnJfTmmfZEB9WV0Q6oBnQCXAXMbzaGZA/H5/aUi+ZUBPVScwtIdjQPn+z0ish2NA1nqJ1lgKY0C0ZHWZtBRnQNPb9l1twWVAZCToOFVKZkCeBokgWdpiQBKFcw98mWdAHiv2zYbpZkDmH6BHy89jQPzAvme8qGNAC8xi/cGqY0BQ3SEZbkVkQHAhATCwX2VAo7BjvuPoZEDF9vP2xTRkQE763/Qrz2VAbXcnWY1yY0AHzVv18TVkQFA+5XLxlGRAPX8uA8UHZUAX8YJ1Bq1mQKUx3RqVv2NAI1E9VzhSZUCcrupnSrZlQCmXCd90+2JAZtkMTKjJZUBzFEhYRZpjQFUfIhtEE2NAlsAW0JJ+Z0BJIPpNApRnQKmqnaS/ymZA+o0C1+dFZEBp8cQyBT1jQGeQZnrRK2ZAeVJNK2XzZEB2mSF9NVxjQKpP5ZHTOWVABL07bgTsYkDYkf4b7ktnQGQoPQY9C2RAmttYTQcQZkBiBkR8/U5kQEpFoeOvWWVAAdU6Bsp7ZUCYAqUbnaxjQA==\"},\"shape\":[50],\"dtype\":\"float64\",\"order\":\"little\"}],[\"y\",{\"type\":\"ndarray\",\"array\":{\"type\":\"bytes\",\"data\":\"9ZqKGfCUWEBO5JWwd+hVQLndRUkJK1hA2rpv0sqNV0Dq//+gm3hTQI6th0//7FdAnv0VuvzuSECKVWonuONLQNXU3W1mvkdAljDXVVNyT0Aj0hjhJJhQQNftOhRM9k1Apiu68SelVkBctsiOxSdQQKwwJmnHOU5AjHBhS0q2UkB+uHRGG2BKQKu3SL67R1ZAkcLtJtaMSEDxS2qO19FYQHS/3TRN3lVABEWSWfX2S0DmYywu4KZGQJx9N5psdlZAjv0oSiP4VEBfrXPwGkZVQFSfgiLf2lVADyWvO0aJSEBReSajzC1QQB0qldq3r0lAWARWwh8eV0AgwnVoAtJTQP31A6iFmU9A71G2ZnM/SECOlIzHUA1PQPwC6mNKcU9AyCssuDZIVUCq4ODJMwRUQHbyhiX9cldA4nw4UDK+UUBMG6eI8clJQKeFhSSfDlVAnY99n/a1VUBX1bcbsvdSQImr+PHN2VVAcMp5FikKUkARsdgBBXBSQL7KMMPxIFFAup3yXfMyR0BNg9E+jndJQA==\"},\"shape\":[50],\"dtype\":\"float64\",\"order\":\"little\"}]]}}},\"view\":{\"type\":\"object\",\"name\":\"CDSView\",\"id\":\"p1037\",\"attributes\":{\"filter\":{\"type\":\"object\",\"name\":\"AllIndices\",\"id\":\"p1038\"}}},\"glyph\":{\"type\":\"object\",\"name\":\"Circle\",\"id\":\"p1033\",\"attributes\":{\"x\":{\"type\":\"field\",\"field\":\"x\"},\"y\":{\"type\":\"field\",\"field\":\"y\"},\"size\":{\"type\":\"value\",\"value\":10},\"line_color\":{\"type\":\"value\",\"value\":\"navy\"},\"line_alpha\":{\"type\":\"value\",\"value\":0.5},\"fill_color\":{\"type\":\"value\",\"value\":\"navy\"},\"fill_alpha\":{\"type\":\"value\",\"value\":0.5},\"hatch_color\":{\"type\":\"value\",\"value\":\"navy\"},\"hatch_alpha\":{\"type\":\"value\",\"value\":0.5}}},\"nonselection_glyph\":{\"type\":\"object\",\"name\":\"Circle\",\"id\":\"p1034\",\"attributes\":{\"x\":{\"type\":\"field\",\"field\":\"x\"},\"y\":{\"type\":\"field\",\"field\":\"y\"},\"size\":{\"type\":\"value\",\"value\":10},\"line_color\":{\"type\":\"value\",\"value\":\"navy\"},\"line_alpha\":{\"type\":\"value\",\"value\":0.1},\"fill_color\":{\"type\":\"value\",\"value\":\"navy\"},\"fill_alpha\":{\"type\":\"value\",\"value\":0.1},\"hatch_color\":{\"type\":\"value\",\"value\":\"navy\"},\"hatch_alpha\":{\"type\":\"value\",\"value\":0.1}}},\"muted_glyph\":{\"type\":\"object\",\"name\":\"Circle\",\"id\":\"p1035\",\"attributes\":{\"x\":{\"type\":\"field\",\"field\":\"x\"},\"y\":{\"type\":\"field\",\"field\":\"y\"},\"size\":{\"type\":\"value\",\"value\":10},\"line_color\":{\"type\":\"value\",\"value\":\"navy\"},\"line_alpha\":{\"type\":\"value\",\"value\":0.2},\"fill_color\":{\"type\":\"value\",\"value\":\"navy\"},\"fill_alpha\":{\"type\":\"value\",\"value\":0.2},\"hatch_color\":{\"type\":\"value\",\"value\":\"navy\"},\"hatch_alpha\":{\"type\":\"value\",\"value\":0.2}}}}},{\"type\":\"object\",\"name\":\"GlyphRenderer\",\"id\":\"p1046\",\"attributes\":{\"data_source\":{\"type\":\"object\",\"name\":\"ColumnDataSource\",\"id\":\"p1040\",\"attributes\":{\"selected\":{\"type\":\"object\",\"name\":\"Selection\",\"id\":\"p1041\",\"attributes\":{\"indices\":[],\"line_indices\":[]}},\"selection_policy\":{\"type\":\"object\",\"name\":\"UnionRenderers\",\"id\":\"p1042\"},\"data\":{\"type\":\"map\",\"entries\":[[\"x\",{\"type\":\"ndarray\",\"array\":{\"type\":\"bytes\",\"data\":\"ngaJIFnaYkAShXMPfJlnQA==\"},\"shape\":[2],\"dtype\":\"float64\",\"order\":\"little\"}],[\"y\",{\"type\":\"ndarray\",\"array\":{\"type\":\"bytes\",\"data\":\"BKgnnX2pUUADM81IS4ZSQA==\"},\"shape\":[2],\"dtype\":\"float64\",\"order\":\"little\"}]]}}},\"view\":{\"type\":\"object\",\"name\":\"CDSView\",\"id\":\"p1047\",\"attributes\":{\"filter\":{\"type\":\"object\",\"name\":\"AllIndices\",\"id\":\"p1048\"}}},\"glyph\":{\"type\":\"object\",\"name\":\"Line\",\"id\":\"p1043\",\"attributes\":{\"x\":{\"type\":\"field\",\"field\":\"x\"},\"y\":{\"type\":\"field\",\"field\":\"y\"},\"line_color\":\"red\",\"line_width\":2}},\"nonselection_glyph\":{\"type\":\"object\",\"name\":\"Line\",\"id\":\"p1044\",\"attributes\":{\"x\":{\"type\":\"field\",\"field\":\"x\"},\"y\":{\"type\":\"field\",\"field\":\"y\"},\"line_color\":\"red\",\"line_alpha\":0.1,\"line_width\":2}},\"muted_glyph\":{\"type\":\"object\",\"name\":\"Line\",\"id\":\"p1045\",\"attributes\":{\"x\":{\"type\":\"field\",\"field\":\"x\"},\"y\":{\"type\":\"field\",\"field\":\"y\"},\"line_color\":\"red\",\"line_alpha\":0.2,\"line_width\":2}}}}],\"toolbar\":{\"type\":\"object\",\"name\":\"Toolbar\",\"id\":\"p1010\",\"attributes\":{\"tools\":[{\"type\":\"object\",\"name\":\"PanTool\",\"id\":\"p1023\"},{\"type\":\"object\",\"name\":\"WheelZoomTool\",\"id\":\"p1024\",\"attributes\":{\"renderers\":\"auto\"}},{\"type\":\"object\",\"name\":\"BoxZoomTool\",\"id\":\"p1025\",\"attributes\":{\"overlay\":{\"type\":\"object\",\"name\":\"BoxAnnotation\",\"id\":\"p1026\",\"attributes\":{\"syncable\":false,\"level\":\"overlay\",\"visible\":false,\"left_units\":\"canvas\",\"right_units\":\"canvas\",\"top_units\":\"canvas\",\"bottom_units\":\"canvas\",\"line_color\":\"black\",\"line_alpha\":1.0,\"line_width\":2,\"line_dash\":[4,4],\"fill_color\":\"lightgrey\",\"fill_alpha\":0.5}}}},{\"type\":\"object\",\"name\":\"SaveTool\",\"id\":\"p1027\"},{\"type\":\"object\",\"name\":\"ResetTool\",\"id\":\"p1028\"},{\"type\":\"object\",\"name\":\"HelpTool\",\"id\":\"p1029\"},{\"type\":\"object\",\"name\":\"HoverTool\",\"id\":\"p1039\",\"attributes\":{\"renderers\":\"auto\",\"tooltips\":[[\"Height\",\"@x{0.2f} cm\"],[\"Weight\",\"@y{0.2f} kg\"]]}}]}},\"left\":[{\"type\":\"object\",\"name\":\"LinearAxis\",\"id\":\"p1018\",\"attributes\":{\"ticker\":{\"type\":\"object\",\"name\":\"BasicTicker\",\"id\":\"p1019\",\"attributes\":{\"mantissas\":[1,2,5]}},\"formatter\":{\"type\":\"object\",\"name\":\"BasicTickFormatter\",\"id\":\"p1020\"},\"axis_label\":\"Weight (kg)\",\"axis_label_text_font_size\":\"12pt\",\"major_label_policy\":{\"type\":\"object\",\"name\":\"AllLabels\",\"id\":\"p1021\"}}}],\"below\":[{\"type\":\"object\",\"name\":\"LinearAxis\",\"id\":\"p1013\",\"attributes\":{\"ticker\":{\"type\":\"object\",\"name\":\"BasicTicker\",\"id\":\"p1014\",\"attributes\":{\"mantissas\":[1,2,5]}},\"formatter\":{\"type\":\"object\",\"name\":\"BasicTickFormatter\",\"id\":\"p1015\"},\"axis_label\":\"Height (cm)\",\"axis_label_text_font_size\":\"12pt\",\"major_label_policy\":{\"type\":\"object\",\"name\":\"AllLabels\",\"id\":\"p1016\"}}}],\"center\":[{\"type\":\"object\",\"name\":\"Grid\",\"id\":\"p1017\",\"attributes\":{\"axis\":{\"id\":\"p1013\"}}},{\"type\":\"object\",\"name\":\"Grid\",\"id\":\"p1022\",\"attributes\":{\"dimension\":1,\"axis\":{\"id\":\"p1018\"}}},{\"type\":\"object\",\"name\":\"Legend\",\"id\":\"p1049\",\"attributes\":{\"click_policy\":\"hide\",\"items\":[{\"type\":\"object\",\"name\":\"LegendItem\",\"id\":\"p1050\",\"attributes\":{\"label\":{\"type\":\"value\",\"value\":\"Trend Line\"},\"renderers\":[{\"id\":\"p1046\"}]}}]}}]}}]}};\n  const render_items = [{\"docid\":\"e9cf0b0d-db6f-472f-a507-791df603153b\",\"roots\":{\"p1001\":\"a245f213-1e03-4841-8c25-a13015c5f5c9\"},\"root_ids\":[\"p1001\"]}];\n  root.Bokeh.embed.embed_items_notebook(docs_json, render_items);\n  }\n  if (root.Bokeh !== undefined) {\n    embed_document(root);\n  } else {\n    let attempts = 0;\n    const timer = setInterval(function(root) {\n      if (root.Bokeh !== undefined) {\n        clearInterval(timer);\n        embed_document(root);\n      } else {\n        attempts++;\n        if (attempts > 100) {\n          clearInterval(timer);\n          console.log(\"Bokeh: ERROR: Unable to run BokehJS code because BokehJS library is missing\");\n        }\n      }\n    }, 10, root)\n  }\n})(window);",
      "application/vnd.bokehjs_exec.v0+json": ""
     },
     "metadata": {
      "application/vnd.bokehjs_exec.v0+json": {
       "id": "p1001"
      }
     },
     "output_type": "display_data"
    }
   ],
   "source": [
    "\n",
    "# submodules from plotting figure and show always needed\n",
    "from bokeh.plotting import figure, show\n",
    "# submodules notebook required for jupyter notebook\n",
    "from bokeh.io import output_notebook\n",
    "# hover tool is like tooltips from altair, interactive scanning\n",
    "from bokeh.models import HoverTool\n",
    "import random\n",
    "import numpy as np\n",
    "\n",
    "# ensure modules load\n",
    "output_notebook()\n",
    "\n",
    "# create some fake data\n",
    "num_students = 50\n",
    "# reliably make random data with seed\n",
    "np.random.seed(42)  \n",
    "# create a normal unfirom distribution from 150 to 190 for 50 students\n",
    "heights = np.random.uniform(150, 190, num_students)  # in cm\n",
    "# same but for weight\n",
    "weights = np.random.uniform(45, 100, num_students)  # in kg\n",
    "\n",
    "# plot attributes\n",
    "p = figure(title=\"Student Heights vs Weights\", x_axis_label=\"Height (cm)\", y_axis_label=\"Weight (kg)\",\n",
    "           width=600, height=400)\n",
    "\n",
    "# actual plot\n",
    "scatter = p.circle(heights, weights, size=10, color=\"navy\", alpha=0.5)\n",
    "\n",
    "# format hover output\n",
    "hover = HoverTool(tooltips=[(\"Height\", \"@x{0.2f} cm\"), (\"Weight\", \"@y{0.2f} kg\")])\n",
    "p.add_tools(hover)\n",
    "\n",
    "# regress height on weight to make trend line\n",
    "slope, intercept = np.polyfit(heights, weights, 1)\n",
    "# define x coord of line\n",
    "line_x = np.array([min(heights), max(heights)])\n",
    "# define y coord\n",
    "line_y = slope * line_x + intercept\n",
    "#plot line\n",
    "p.line(line_x, line_y, color=\"red\", line_width=2, legend_label=\"Trend Line\")\n",
    "\n",
    "\n",
    "# formatting labels\n",
    "p.title.text_font_size = \"16pt\"\n",
    "p.xaxis.axis_label_text_font_size = \"12pt\"\n",
    "p.yaxis.axis_label_text_font_size = \"12pt\"\n",
    "p.legend.click_policy = \"hide\"\n",
    "\n",
    "# have to call show\n",
    "show(p)"
   ]
  },
  {
   "cell_type": "markdown",
   "metadata": {},
   "source": [
    "### Bokeh summary:\n",
    " - Bokeh appears to be a powerful library for creating interactive visualizations. In the docs they seem to mentiond JavaScript -powered graphs without writing JavaScript. I'm not sure how good that is as a selling point. As a beginer the syntax seems a bit verbose for my needs. I think plotly has a nice balance between creating nice interactive plots and also having a simple syntax."
   ]
  }
 ],
 "metadata": {
  "kernelspec": {
   "display_name": "base",
   "language": "python",
   "name": "python3"
  },
  "language_info": {
   "codemirror_mode": {
    "name": "ipython",
    "version": 3
   },
   "file_extension": ".py",
   "mimetype": "text/x-python",
   "name": "python",
   "nbconvert_exporter": "python",
   "pygments_lexer": "ipython3",
   "version": "3.11.4"
  }
 },
 "nbformat": 4,
 "nbformat_minor": 2
}
